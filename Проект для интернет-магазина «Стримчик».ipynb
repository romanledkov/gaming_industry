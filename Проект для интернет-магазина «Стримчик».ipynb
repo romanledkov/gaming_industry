{
 "cells": [
  {
   "cell_type": "markdown",
   "id": "5aeab211",
   "metadata": {},
   "source": [
    "# Вводная часть\n",
    "## Сборный проект для интернет-магазина «Стримчик»"
   ]
  },
  {
   "cell_type": "markdown",
   "id": "67955634",
   "metadata": {},
   "source": [
    "**Цель проекта**: выявить определяющие успешность игры закономерности, чтобы в будущем можно было определять перспективные направления развития, составлять рекламные кампании и так далее. \n",
    "\n",
    "**Выборка**: Данные 2016 года об играх, игровых продажах, оценках критиков, жанре игры, годе выпуска и игровой платформе. \n",
    "\n",
    "**Примечание_1**: Данные за 2016 год могут быть неполными.\n",
    "\n",
    "**Примечание_2**: В наборе данных попадается аббревиатура ESRB (Entertainment Software Rating\n",
    "Board) — это ассоциация, определяющая возрастной рейтинг компьютерных\n",
    "игр. ESRB оценивает игровой контент и присваивает ему подходящую возрастную\n",
    "категорию, например, «Для взрослых», «Для детей младшего возраста» или «Для\n",
    "подростков»."
   ]
  },
  {
   "cell_type": "markdown",
   "id": "7201d730",
   "metadata": {},
   "source": [
    "**Описание данных**\n",
    "\n",
    "- `Name` — название игры\n",
    "- `Platform` — платформа\n",
    "- `Year_of_Release` — год выпуска\n",
    "- `Genre` — жанр игры\n",
    "- `NA_sales` — продажи в Северной Америке (миллионы проданных копий)\n",
    "- `EU_sales` — продажи в Европе (миллионы проданных копий)\n",
    "- `JP_sales` — продажи в Японии (миллионы проданных копий)\n",
    "- `Other_sales` — продажи в других странах (миллионы проданных копий)\n",
    "- `Critic_Score` — оценка критиков (максимум 100)\n",
    "- `User_Score` — оценка пользователей (максимум 10)\n",
    "- `Rating` — рейтинг от организации ESRB (англ. Entertainment Software Rating Board). Эта ассоциация определяет рейтинг компьютерных игр и присваивает им подходящую возрастную категорию."
   ]
  },
  {
   "cell_type": "markdown",
   "id": "72def829",
   "metadata": {},
   "source": [
    "**Ход исследования**\n",
    "\n",
    "**Шаг 1. Подготовка данных**\n",
    "\n",
    "**Надо:**\n",
    "- Заменить названия столбцов (привести к нижнему регистру);\n",
    "- Преобразовать данные в нужные типы. Описать, в каких столбцах заменил тип данных и почему;\n",
    "- Обработать пропуски при необходимости:\n",
    "- Объяснить, почему заполнил пропуски определённым образом или почему не стал это делать;\n",
    "- Описать причины, которые могли привести к пропускам;\n",
    "- Обратить внимание на аббревиатуру 'tbd' в столбце с оценкой пользователей. Отдельно разобрать это значение и описать, как его обработать;\n",
    "- Посчитать суммарные продажи во всех регионах и записать их в отдельный столбец.\n",
    "\n",
    "**Шаг 2. Провести исследовательский анализ данных**\n",
    "\n",
    "**Надо:**\n",
    "- Посмотреть, сколько игр выпускалось в разные годы.\n",
    "- Посмотреть, как менялись продажи по платформам.\n",
    "- Посмотреть какие платформы лидируют по продажам, растут или падают? Выбрать несколько потенциально прибыльных платформ.\n",
    "- Построить график «ящик с усами» по глобальным продажам игр в разбивке по платформам. Описать результат.\n",
    "- Посмотреть, как влияют на продажи внутри одной популярной платформы отзывы пользователей и критиков. Построить диаграмму рассеяния и посчитать корреляцию между отзывами и продажами. Сформулировать выводы.\n",
    "- Посмотреть на общее распределение игр по жанрам.\n",
    "\n",
    "**Шаг 3. Составить портрет пользователя каждого региона**\n",
    "\n",
    "**Надо:**\n",
    "- Определить для пользователя каждого региона (NA, EU, JP):\n",
    "    - Самые популярные платформы (топ-5). Опишите различия в долях продаж.\n",
    "    - Самые популярные жанры (топ-5). Поясните разницу.\n",
    "    - Влияет ли рейтинг ESRB на продажи в отдельном регионе?\n",
    "\n",
    "**Шаг 4. Проверить гипотезы**\n",
    "\n",
    "- Средние пользовательские рейтинги платформ Xbox One и PC одинаковые;\n",
    "- Средние пользовательские рейтинги жанров Action (англ. «действие», экшенигры) и Sports (англ. «спортивные соревнования») разные.\n",
    "\n",
    "**Шаг 5. Написать общий вывод**"
   ]
  },
  {
   "cell_type": "markdown",
   "id": "331180b1",
   "metadata": {},
   "source": [
    "# Обзор данных"
   ]
  },
  {
   "cell_type": "code",
   "execution_count": 1,
   "id": "3380d8af",
   "metadata": {},
   "outputs": [],
   "source": [
    "# импортируем все необходимые библиотеки, которые могут понадобиться в исследовании\n",
    "import pandas as pd\n",
    "import matplotlib.pyplot as plt\n",
    "import seaborn as sns\n",
    "import matplotlib.ticker as ticker\n",
    "import numpy as np\n",
    "from scipy import stats as st"
   ]
  },
  {
   "cell_type": "code",
   "execution_count": 2,
   "id": "a4e317db",
   "metadata": {},
   "outputs": [],
   "source": [
    "# чтение файла с данными и сохранение в games\n",
    "try:\n",
    "    games = pd.read_csv('/Users/imac/Downloads/games.csv')\n",
    "except:\n",
    "    games = pd.read_csv('/datasets/games.csv')"
   ]
  },
  {
   "cell_type": "code",
   "execution_count": 3,
   "id": "c36fc67c",
   "metadata": {},
   "outputs": [],
   "source": [
    "#Функция получения первичной информации о датафрейме\n",
    "\n",
    "def first_look (data):\n",
    "    print('---------Первые 10 строк-----------')\n",
    "    display(data.head(10))\n",
    "    print('---------Последние 10 строк---------')\n",
    "    display(data.tail(10))\n",
    "    print('---------Типы данных---------------\\n')\n",
    "    display(data.info())\n",
    "    print('---------Статистическая сводка---------------')\n",
    "    display(data.describe())\n",
    "    print('---------Пропуски-----------\\n')\n",
    "    for element in data.columns:\n",
    "        if data[element].isna().sum() > 0: \n",
    "            print(element, ' - ', data[element].isna().sum(), 'пропусков') \n",
    "            count = +1\n",
    "        if count == 0:\n",
    "            print('Пропусков НЕТ\\n')\n",
    "    print('\\n---------Процент пропусков от всего датасета-----------')\n",
    "    display(data.isna().mean().sort_values(ascending=False)*100)\n",
    "    print('\\n---------Дубликаты-----------\\n')\n",
    "    if data.duplicated().sum() > 0:\n",
    "        print('Дубликатов: ', data.duplicated().sum())\n",
    "    else:\n",
    "        print('Дубликатов НЕТ')"
   ]
  },
  {
   "cell_type": "code",
   "execution_count": 4,
   "id": "d2ac1c19",
   "metadata": {
    "scrolled": true
   },
   "outputs": [
    {
     "name": "stdout",
     "output_type": "stream",
     "text": [
      "---------Первые 10 строк-----------\n"
     ]
    },
    {
     "data": {
      "text/html": [
       "<div>\n",
       "<style scoped>\n",
       "    .dataframe tbody tr th:only-of-type {\n",
       "        vertical-align: middle;\n",
       "    }\n",
       "\n",
       "    .dataframe tbody tr th {\n",
       "        vertical-align: top;\n",
       "    }\n",
       "\n",
       "    .dataframe thead th {\n",
       "        text-align: right;\n",
       "    }\n",
       "</style>\n",
       "<table border=\"1\" class=\"dataframe\">\n",
       "  <thead>\n",
       "    <tr style=\"text-align: right;\">\n",
       "      <th></th>\n",
       "      <th>Name</th>\n",
       "      <th>Platform</th>\n",
       "      <th>Year_of_Release</th>\n",
       "      <th>Genre</th>\n",
       "      <th>NA_sales</th>\n",
       "      <th>EU_sales</th>\n",
       "      <th>JP_sales</th>\n",
       "      <th>Other_sales</th>\n",
       "      <th>Critic_Score</th>\n",
       "      <th>User_Score</th>\n",
       "      <th>Rating</th>\n",
       "    </tr>\n",
       "  </thead>\n",
       "  <tbody>\n",
       "    <tr>\n",
       "      <th>0</th>\n",
       "      <td>Wii Sports</td>\n",
       "      <td>Wii</td>\n",
       "      <td>2006.0</td>\n",
       "      <td>Sports</td>\n",
       "      <td>41.36</td>\n",
       "      <td>28.96</td>\n",
       "      <td>3.77</td>\n",
       "      <td>8.45</td>\n",
       "      <td>76.0</td>\n",
       "      <td>8</td>\n",
       "      <td>E</td>\n",
       "    </tr>\n",
       "    <tr>\n",
       "      <th>1</th>\n",
       "      <td>Super Mario Bros.</td>\n",
       "      <td>NES</td>\n",
       "      <td>1985.0</td>\n",
       "      <td>Platform</td>\n",
       "      <td>29.08</td>\n",
       "      <td>3.58</td>\n",
       "      <td>6.81</td>\n",
       "      <td>0.77</td>\n",
       "      <td>NaN</td>\n",
       "      <td>NaN</td>\n",
       "      <td>NaN</td>\n",
       "    </tr>\n",
       "    <tr>\n",
       "      <th>2</th>\n",
       "      <td>Mario Kart Wii</td>\n",
       "      <td>Wii</td>\n",
       "      <td>2008.0</td>\n",
       "      <td>Racing</td>\n",
       "      <td>15.68</td>\n",
       "      <td>12.76</td>\n",
       "      <td>3.79</td>\n",
       "      <td>3.29</td>\n",
       "      <td>82.0</td>\n",
       "      <td>8.3</td>\n",
       "      <td>E</td>\n",
       "    </tr>\n",
       "    <tr>\n",
       "      <th>3</th>\n",
       "      <td>Wii Sports Resort</td>\n",
       "      <td>Wii</td>\n",
       "      <td>2009.0</td>\n",
       "      <td>Sports</td>\n",
       "      <td>15.61</td>\n",
       "      <td>10.93</td>\n",
       "      <td>3.28</td>\n",
       "      <td>2.95</td>\n",
       "      <td>80.0</td>\n",
       "      <td>8</td>\n",
       "      <td>E</td>\n",
       "    </tr>\n",
       "    <tr>\n",
       "      <th>4</th>\n",
       "      <td>Pokemon Red/Pokemon Blue</td>\n",
       "      <td>GB</td>\n",
       "      <td>1996.0</td>\n",
       "      <td>Role-Playing</td>\n",
       "      <td>11.27</td>\n",
       "      <td>8.89</td>\n",
       "      <td>10.22</td>\n",
       "      <td>1.00</td>\n",
       "      <td>NaN</td>\n",
       "      <td>NaN</td>\n",
       "      <td>NaN</td>\n",
       "    </tr>\n",
       "    <tr>\n",
       "      <th>5</th>\n",
       "      <td>Tetris</td>\n",
       "      <td>GB</td>\n",
       "      <td>1989.0</td>\n",
       "      <td>Puzzle</td>\n",
       "      <td>23.20</td>\n",
       "      <td>2.26</td>\n",
       "      <td>4.22</td>\n",
       "      <td>0.58</td>\n",
       "      <td>NaN</td>\n",
       "      <td>NaN</td>\n",
       "      <td>NaN</td>\n",
       "    </tr>\n",
       "    <tr>\n",
       "      <th>6</th>\n",
       "      <td>New Super Mario Bros.</td>\n",
       "      <td>DS</td>\n",
       "      <td>2006.0</td>\n",
       "      <td>Platform</td>\n",
       "      <td>11.28</td>\n",
       "      <td>9.14</td>\n",
       "      <td>6.50</td>\n",
       "      <td>2.88</td>\n",
       "      <td>89.0</td>\n",
       "      <td>8.5</td>\n",
       "      <td>E</td>\n",
       "    </tr>\n",
       "    <tr>\n",
       "      <th>7</th>\n",
       "      <td>Wii Play</td>\n",
       "      <td>Wii</td>\n",
       "      <td>2006.0</td>\n",
       "      <td>Misc</td>\n",
       "      <td>13.96</td>\n",
       "      <td>9.18</td>\n",
       "      <td>2.93</td>\n",
       "      <td>2.84</td>\n",
       "      <td>58.0</td>\n",
       "      <td>6.6</td>\n",
       "      <td>E</td>\n",
       "    </tr>\n",
       "    <tr>\n",
       "      <th>8</th>\n",
       "      <td>New Super Mario Bros. Wii</td>\n",
       "      <td>Wii</td>\n",
       "      <td>2009.0</td>\n",
       "      <td>Platform</td>\n",
       "      <td>14.44</td>\n",
       "      <td>6.94</td>\n",
       "      <td>4.70</td>\n",
       "      <td>2.24</td>\n",
       "      <td>87.0</td>\n",
       "      <td>8.4</td>\n",
       "      <td>E</td>\n",
       "    </tr>\n",
       "    <tr>\n",
       "      <th>9</th>\n",
       "      <td>Duck Hunt</td>\n",
       "      <td>NES</td>\n",
       "      <td>1984.0</td>\n",
       "      <td>Shooter</td>\n",
       "      <td>26.93</td>\n",
       "      <td>0.63</td>\n",
       "      <td>0.28</td>\n",
       "      <td>0.47</td>\n",
       "      <td>NaN</td>\n",
       "      <td>NaN</td>\n",
       "      <td>NaN</td>\n",
       "    </tr>\n",
       "  </tbody>\n",
       "</table>\n",
       "</div>"
      ],
      "text/plain": [
       "                        Name Platform  Year_of_Release         Genre  \\\n",
       "0                 Wii Sports      Wii           2006.0        Sports   \n",
       "1          Super Mario Bros.      NES           1985.0      Platform   \n",
       "2             Mario Kart Wii      Wii           2008.0        Racing   \n",
       "3          Wii Sports Resort      Wii           2009.0        Sports   \n",
       "4   Pokemon Red/Pokemon Blue       GB           1996.0  Role-Playing   \n",
       "5                     Tetris       GB           1989.0        Puzzle   \n",
       "6      New Super Mario Bros.       DS           2006.0      Platform   \n",
       "7                   Wii Play      Wii           2006.0          Misc   \n",
       "8  New Super Mario Bros. Wii      Wii           2009.0      Platform   \n",
       "9                  Duck Hunt      NES           1984.0       Shooter   \n",
       "\n",
       "   NA_sales  EU_sales  JP_sales  Other_sales  Critic_Score User_Score Rating  \n",
       "0     41.36     28.96      3.77         8.45          76.0          8      E  \n",
       "1     29.08      3.58      6.81         0.77           NaN        NaN    NaN  \n",
       "2     15.68     12.76      3.79         3.29          82.0        8.3      E  \n",
       "3     15.61     10.93      3.28         2.95          80.0          8      E  \n",
       "4     11.27      8.89     10.22         1.00           NaN        NaN    NaN  \n",
       "5     23.20      2.26      4.22         0.58           NaN        NaN    NaN  \n",
       "6     11.28      9.14      6.50         2.88          89.0        8.5      E  \n",
       "7     13.96      9.18      2.93         2.84          58.0        6.6      E  \n",
       "8     14.44      6.94      4.70         2.24          87.0        8.4      E  \n",
       "9     26.93      0.63      0.28         0.47           NaN        NaN    NaN  "
      ]
     },
     "metadata": {},
     "output_type": "display_data"
    },
    {
     "name": "stdout",
     "output_type": "stream",
     "text": [
      "---------Последние 10 строк---------\n"
     ]
    },
    {
     "data": {
      "text/html": [
       "<div>\n",
       "<style scoped>\n",
       "    .dataframe tbody tr th:only-of-type {\n",
       "        vertical-align: middle;\n",
       "    }\n",
       "\n",
       "    .dataframe tbody tr th {\n",
       "        vertical-align: top;\n",
       "    }\n",
       "\n",
       "    .dataframe thead th {\n",
       "        text-align: right;\n",
       "    }\n",
       "</style>\n",
       "<table border=\"1\" class=\"dataframe\">\n",
       "  <thead>\n",
       "    <tr style=\"text-align: right;\">\n",
       "      <th></th>\n",
       "      <th>Name</th>\n",
       "      <th>Platform</th>\n",
       "      <th>Year_of_Release</th>\n",
       "      <th>Genre</th>\n",
       "      <th>NA_sales</th>\n",
       "      <th>EU_sales</th>\n",
       "      <th>JP_sales</th>\n",
       "      <th>Other_sales</th>\n",
       "      <th>Critic_Score</th>\n",
       "      <th>User_Score</th>\n",
       "      <th>Rating</th>\n",
       "    </tr>\n",
       "  </thead>\n",
       "  <tbody>\n",
       "    <tr>\n",
       "      <th>16705</th>\n",
       "      <td>15 Days</td>\n",
       "      <td>PC</td>\n",
       "      <td>2009.0</td>\n",
       "      <td>Adventure</td>\n",
       "      <td>0.00</td>\n",
       "      <td>0.01</td>\n",
       "      <td>0.00</td>\n",
       "      <td>0.0</td>\n",
       "      <td>63.0</td>\n",
       "      <td>5.8</td>\n",
       "      <td>NaN</td>\n",
       "    </tr>\n",
       "    <tr>\n",
       "      <th>16706</th>\n",
       "      <td>Men in Black II: Alien Escape</td>\n",
       "      <td>GC</td>\n",
       "      <td>2003.0</td>\n",
       "      <td>Shooter</td>\n",
       "      <td>0.01</td>\n",
       "      <td>0.00</td>\n",
       "      <td>0.00</td>\n",
       "      <td>0.0</td>\n",
       "      <td>NaN</td>\n",
       "      <td>tbd</td>\n",
       "      <td>T</td>\n",
       "    </tr>\n",
       "    <tr>\n",
       "      <th>16707</th>\n",
       "      <td>Aiyoku no Eustia</td>\n",
       "      <td>PSV</td>\n",
       "      <td>2014.0</td>\n",
       "      <td>Misc</td>\n",
       "      <td>0.00</td>\n",
       "      <td>0.00</td>\n",
       "      <td>0.01</td>\n",
       "      <td>0.0</td>\n",
       "      <td>NaN</td>\n",
       "      <td>NaN</td>\n",
       "      <td>NaN</td>\n",
       "    </tr>\n",
       "    <tr>\n",
       "      <th>16708</th>\n",
       "      <td>Woody Woodpecker in Crazy Castle 5</td>\n",
       "      <td>GBA</td>\n",
       "      <td>2002.0</td>\n",
       "      <td>Platform</td>\n",
       "      <td>0.01</td>\n",
       "      <td>0.00</td>\n",
       "      <td>0.00</td>\n",
       "      <td>0.0</td>\n",
       "      <td>NaN</td>\n",
       "      <td>NaN</td>\n",
       "      <td>NaN</td>\n",
       "    </tr>\n",
       "    <tr>\n",
       "      <th>16709</th>\n",
       "      <td>SCORE International Baja 1000: The Official Game</td>\n",
       "      <td>PS2</td>\n",
       "      <td>2008.0</td>\n",
       "      <td>Racing</td>\n",
       "      <td>0.00</td>\n",
       "      <td>0.00</td>\n",
       "      <td>0.00</td>\n",
       "      <td>0.0</td>\n",
       "      <td>NaN</td>\n",
       "      <td>NaN</td>\n",
       "      <td>NaN</td>\n",
       "    </tr>\n",
       "    <tr>\n",
       "      <th>16710</th>\n",
       "      <td>Samurai Warriors: Sanada Maru</td>\n",
       "      <td>PS3</td>\n",
       "      <td>2016.0</td>\n",
       "      <td>Action</td>\n",
       "      <td>0.00</td>\n",
       "      <td>0.00</td>\n",
       "      <td>0.01</td>\n",
       "      <td>0.0</td>\n",
       "      <td>NaN</td>\n",
       "      <td>NaN</td>\n",
       "      <td>NaN</td>\n",
       "    </tr>\n",
       "    <tr>\n",
       "      <th>16711</th>\n",
       "      <td>LMA Manager 2007</td>\n",
       "      <td>X360</td>\n",
       "      <td>2006.0</td>\n",
       "      <td>Sports</td>\n",
       "      <td>0.00</td>\n",
       "      <td>0.01</td>\n",
       "      <td>0.00</td>\n",
       "      <td>0.0</td>\n",
       "      <td>NaN</td>\n",
       "      <td>NaN</td>\n",
       "      <td>NaN</td>\n",
       "    </tr>\n",
       "    <tr>\n",
       "      <th>16712</th>\n",
       "      <td>Haitaka no Psychedelica</td>\n",
       "      <td>PSV</td>\n",
       "      <td>2016.0</td>\n",
       "      <td>Adventure</td>\n",
       "      <td>0.00</td>\n",
       "      <td>0.00</td>\n",
       "      <td>0.01</td>\n",
       "      <td>0.0</td>\n",
       "      <td>NaN</td>\n",
       "      <td>NaN</td>\n",
       "      <td>NaN</td>\n",
       "    </tr>\n",
       "    <tr>\n",
       "      <th>16713</th>\n",
       "      <td>Spirits &amp; Spells</td>\n",
       "      <td>GBA</td>\n",
       "      <td>2003.0</td>\n",
       "      <td>Platform</td>\n",
       "      <td>0.01</td>\n",
       "      <td>0.00</td>\n",
       "      <td>0.00</td>\n",
       "      <td>0.0</td>\n",
       "      <td>NaN</td>\n",
       "      <td>NaN</td>\n",
       "      <td>NaN</td>\n",
       "    </tr>\n",
       "    <tr>\n",
       "      <th>16714</th>\n",
       "      <td>Winning Post 8 2016</td>\n",
       "      <td>PSV</td>\n",
       "      <td>2016.0</td>\n",
       "      <td>Simulation</td>\n",
       "      <td>0.00</td>\n",
       "      <td>0.00</td>\n",
       "      <td>0.01</td>\n",
       "      <td>0.0</td>\n",
       "      <td>NaN</td>\n",
       "      <td>NaN</td>\n",
       "      <td>NaN</td>\n",
       "    </tr>\n",
       "  </tbody>\n",
       "</table>\n",
       "</div>"
      ],
      "text/plain": [
       "                                                   Name Platform  \\\n",
       "16705                                           15 Days       PC   \n",
       "16706                     Men in Black II: Alien Escape       GC   \n",
       "16707                                  Aiyoku no Eustia      PSV   \n",
       "16708                Woody Woodpecker in Crazy Castle 5      GBA   \n",
       "16709  SCORE International Baja 1000: The Official Game      PS2   \n",
       "16710                     Samurai Warriors: Sanada Maru      PS3   \n",
       "16711                                  LMA Manager 2007     X360   \n",
       "16712                           Haitaka no Psychedelica      PSV   \n",
       "16713                                  Spirits & Spells      GBA   \n",
       "16714                               Winning Post 8 2016      PSV   \n",
       "\n",
       "       Year_of_Release       Genre  NA_sales  EU_sales  JP_sales  Other_sales  \\\n",
       "16705           2009.0   Adventure      0.00      0.01      0.00          0.0   \n",
       "16706           2003.0     Shooter      0.01      0.00      0.00          0.0   \n",
       "16707           2014.0        Misc      0.00      0.00      0.01          0.0   \n",
       "16708           2002.0    Platform      0.01      0.00      0.00          0.0   \n",
       "16709           2008.0      Racing      0.00      0.00      0.00          0.0   \n",
       "16710           2016.0      Action      0.00      0.00      0.01          0.0   \n",
       "16711           2006.0      Sports      0.00      0.01      0.00          0.0   \n",
       "16712           2016.0   Adventure      0.00      0.00      0.01          0.0   \n",
       "16713           2003.0    Platform      0.01      0.00      0.00          0.0   \n",
       "16714           2016.0  Simulation      0.00      0.00      0.01          0.0   \n",
       "\n",
       "       Critic_Score User_Score Rating  \n",
       "16705          63.0        5.8    NaN  \n",
       "16706           NaN        tbd      T  \n",
       "16707           NaN        NaN    NaN  \n",
       "16708           NaN        NaN    NaN  \n",
       "16709           NaN        NaN    NaN  \n",
       "16710           NaN        NaN    NaN  \n",
       "16711           NaN        NaN    NaN  \n",
       "16712           NaN        NaN    NaN  \n",
       "16713           NaN        NaN    NaN  \n",
       "16714           NaN        NaN    NaN  "
      ]
     },
     "metadata": {},
     "output_type": "display_data"
    },
    {
     "name": "stdout",
     "output_type": "stream",
     "text": [
      "---------Типы данных---------------\n",
      "\n",
      "<class 'pandas.core.frame.DataFrame'>\n",
      "RangeIndex: 16715 entries, 0 to 16714\n",
      "Data columns (total 11 columns):\n",
      " #   Column           Non-Null Count  Dtype  \n",
      "---  ------           --------------  -----  \n",
      " 0   Name             16713 non-null  object \n",
      " 1   Platform         16715 non-null  object \n",
      " 2   Year_of_Release  16446 non-null  float64\n",
      " 3   Genre            16713 non-null  object \n",
      " 4   NA_sales         16715 non-null  float64\n",
      " 5   EU_sales         16715 non-null  float64\n",
      " 6   JP_sales         16715 non-null  float64\n",
      " 7   Other_sales      16715 non-null  float64\n",
      " 8   Critic_Score     8137 non-null   float64\n",
      " 9   User_Score       10014 non-null  object \n",
      " 10  Rating           9949 non-null   object \n",
      "dtypes: float64(6), object(5)\n",
      "memory usage: 1.4+ MB\n"
     ]
    },
    {
     "data": {
      "text/plain": [
       "None"
      ]
     },
     "metadata": {},
     "output_type": "display_data"
    },
    {
     "name": "stdout",
     "output_type": "stream",
     "text": [
      "---------Статистическая сводка---------------\n"
     ]
    },
    {
     "data": {
      "text/html": [
       "<div>\n",
       "<style scoped>\n",
       "    .dataframe tbody tr th:only-of-type {\n",
       "        vertical-align: middle;\n",
       "    }\n",
       "\n",
       "    .dataframe tbody tr th {\n",
       "        vertical-align: top;\n",
       "    }\n",
       "\n",
       "    .dataframe thead th {\n",
       "        text-align: right;\n",
       "    }\n",
       "</style>\n",
       "<table border=\"1\" class=\"dataframe\">\n",
       "  <thead>\n",
       "    <tr style=\"text-align: right;\">\n",
       "      <th></th>\n",
       "      <th>Year_of_Release</th>\n",
       "      <th>NA_sales</th>\n",
       "      <th>EU_sales</th>\n",
       "      <th>JP_sales</th>\n",
       "      <th>Other_sales</th>\n",
       "      <th>Critic_Score</th>\n",
       "    </tr>\n",
       "  </thead>\n",
       "  <tbody>\n",
       "    <tr>\n",
       "      <th>count</th>\n",
       "      <td>16446.000000</td>\n",
       "      <td>16715.000000</td>\n",
       "      <td>16715.000000</td>\n",
       "      <td>16715.000000</td>\n",
       "      <td>16715.000000</td>\n",
       "      <td>8137.000000</td>\n",
       "    </tr>\n",
       "    <tr>\n",
       "      <th>mean</th>\n",
       "      <td>2006.484616</td>\n",
       "      <td>0.263377</td>\n",
       "      <td>0.145060</td>\n",
       "      <td>0.077617</td>\n",
       "      <td>0.047342</td>\n",
       "      <td>68.967679</td>\n",
       "    </tr>\n",
       "    <tr>\n",
       "      <th>std</th>\n",
       "      <td>5.877050</td>\n",
       "      <td>0.813604</td>\n",
       "      <td>0.503339</td>\n",
       "      <td>0.308853</td>\n",
       "      <td>0.186731</td>\n",
       "      <td>13.938165</td>\n",
       "    </tr>\n",
       "    <tr>\n",
       "      <th>min</th>\n",
       "      <td>1980.000000</td>\n",
       "      <td>0.000000</td>\n",
       "      <td>0.000000</td>\n",
       "      <td>0.000000</td>\n",
       "      <td>0.000000</td>\n",
       "      <td>13.000000</td>\n",
       "    </tr>\n",
       "    <tr>\n",
       "      <th>25%</th>\n",
       "      <td>2003.000000</td>\n",
       "      <td>0.000000</td>\n",
       "      <td>0.000000</td>\n",
       "      <td>0.000000</td>\n",
       "      <td>0.000000</td>\n",
       "      <td>60.000000</td>\n",
       "    </tr>\n",
       "    <tr>\n",
       "      <th>50%</th>\n",
       "      <td>2007.000000</td>\n",
       "      <td>0.080000</td>\n",
       "      <td>0.020000</td>\n",
       "      <td>0.000000</td>\n",
       "      <td>0.010000</td>\n",
       "      <td>71.000000</td>\n",
       "    </tr>\n",
       "    <tr>\n",
       "      <th>75%</th>\n",
       "      <td>2010.000000</td>\n",
       "      <td>0.240000</td>\n",
       "      <td>0.110000</td>\n",
       "      <td>0.040000</td>\n",
       "      <td>0.030000</td>\n",
       "      <td>79.000000</td>\n",
       "    </tr>\n",
       "    <tr>\n",
       "      <th>max</th>\n",
       "      <td>2016.000000</td>\n",
       "      <td>41.360000</td>\n",
       "      <td>28.960000</td>\n",
       "      <td>10.220000</td>\n",
       "      <td>10.570000</td>\n",
       "      <td>98.000000</td>\n",
       "    </tr>\n",
       "  </tbody>\n",
       "</table>\n",
       "</div>"
      ],
      "text/plain": [
       "       Year_of_Release      NA_sales      EU_sales      JP_sales  \\\n",
       "count     16446.000000  16715.000000  16715.000000  16715.000000   \n",
       "mean       2006.484616      0.263377      0.145060      0.077617   \n",
       "std           5.877050      0.813604      0.503339      0.308853   \n",
       "min        1980.000000      0.000000      0.000000      0.000000   \n",
       "25%        2003.000000      0.000000      0.000000      0.000000   \n",
       "50%        2007.000000      0.080000      0.020000      0.000000   \n",
       "75%        2010.000000      0.240000      0.110000      0.040000   \n",
       "max        2016.000000     41.360000     28.960000     10.220000   \n",
       "\n",
       "        Other_sales  Critic_Score  \n",
       "count  16715.000000   8137.000000  \n",
       "mean       0.047342     68.967679  \n",
       "std        0.186731     13.938165  \n",
       "min        0.000000     13.000000  \n",
       "25%        0.000000     60.000000  \n",
       "50%        0.010000     71.000000  \n",
       "75%        0.030000     79.000000  \n",
       "max       10.570000     98.000000  "
      ]
     },
     "metadata": {},
     "output_type": "display_data"
    },
    {
     "name": "stdout",
     "output_type": "stream",
     "text": [
      "---------Пропуски-----------\n",
      "\n",
      "Name  -  2 пропусков\n",
      "Year_of_Release  -  269 пропусков\n",
      "Genre  -  2 пропусков\n",
      "Critic_Score  -  8578 пропусков\n",
      "User_Score  -  6701 пропусков\n",
      "Rating  -  6766 пропусков\n",
      "\n",
      "---------Процент пропусков от всего датасета-----------\n"
     ]
    },
    {
     "data": {
      "text/plain": [
       "Critic_Score       51.319174\n",
       "Rating             40.478612\n",
       "User_Score         40.089740\n",
       "Year_of_Release     1.609333\n",
       "Name                0.011965\n",
       "Genre               0.011965\n",
       "Platform            0.000000\n",
       "NA_sales            0.000000\n",
       "EU_sales            0.000000\n",
       "JP_sales            0.000000\n",
       "Other_sales         0.000000\n",
       "dtype: float64"
      ]
     },
     "metadata": {},
     "output_type": "display_data"
    },
    {
     "name": "stdout",
     "output_type": "stream",
     "text": [
      "\n",
      "---------Дубликаты-----------\n",
      "\n",
      "Дубликатов НЕТ\n"
     ]
    }
   ],
   "source": [
    "# получение общей информации о данных в таблице games\n",
    "first_look(games)"
   ]
  },
  {
   "cell_type": "markdown",
   "id": "54b48263",
   "metadata": {},
   "source": [
    "## Вывод"
   ]
  },
  {
   "cell_type": "markdown",
   "id": "891dce22",
   "metadata": {},
   "source": [
    "1. Столбцы написаны не методом snake_case\n",
    "2. Столбцы `Year_of_Release`, `Critic_Score`, `User_Score` имеют не подходящий тип данных. \n",
    "3. Имеется большое кол-во пропусков в колонках `Critic_Score` (51% пропусков), `Rating` (40,5% пропусков), `User_Score` (40% пропусков). \n",
    "4. Дубликатов в датасете нет. \n",
    "\n",
    "--------"
   ]
  },
  {
   "cell_type": "markdown",
   "id": "e4af1a56",
   "metadata": {},
   "source": [
    "# Предобработка данных"
   ]
  },
  {
   "cell_type": "markdown",
   "id": "db46917e",
   "metadata": {},
   "source": [
    "## Названия колонок"
   ]
  },
  {
   "cell_type": "code",
   "execution_count": 5,
   "id": "5a99dd96",
   "metadata": {},
   "outputs": [
    {
     "data": {
      "text/plain": [
       "Index(['name', 'platform', 'year_of_release', 'genre', 'na_sales', 'eu_sales',\n",
       "       'jp_sales', 'other_sales', 'critic_score', 'user_score', 'rating'],\n",
       "      dtype='object')"
      ]
     },
     "execution_count": 5,
     "metadata": {},
     "output_type": "execute_result"
    }
   ],
   "source": [
    "# переведем названия колонок к виду snake_case\n",
    "games.columns = games.columns.str.lower()\n",
    "#test\n",
    "games.columns"
   ]
  },
  {
   "cell_type": "markdown",
   "id": "24ce7e83",
   "metadata": {},
   "source": [
    "Посмотрим на пропуски в колонках. "
   ]
  },
  {
   "cell_type": "markdown",
   "id": "9f815e8a",
   "metadata": {},
   "source": [
    "## Пропуски"
   ]
  },
  {
   "cell_type": "markdown",
   "id": "33ff033a",
   "metadata": {},
   "source": [
    "### name"
   ]
  },
  {
   "cell_type": "code",
   "execution_count": 6,
   "id": "438f7e46",
   "metadata": {},
   "outputs": [
    {
     "data": {
      "text/html": [
       "<div>\n",
       "<style scoped>\n",
       "    .dataframe tbody tr th:only-of-type {\n",
       "        vertical-align: middle;\n",
       "    }\n",
       "\n",
       "    .dataframe tbody tr th {\n",
       "        vertical-align: top;\n",
       "    }\n",
       "\n",
       "    .dataframe thead th {\n",
       "        text-align: right;\n",
       "    }\n",
       "</style>\n",
       "<table border=\"1\" class=\"dataframe\">\n",
       "  <thead>\n",
       "    <tr style=\"text-align: right;\">\n",
       "      <th></th>\n",
       "      <th>name</th>\n",
       "      <th>platform</th>\n",
       "      <th>year_of_release</th>\n",
       "      <th>genre</th>\n",
       "      <th>na_sales</th>\n",
       "      <th>eu_sales</th>\n",
       "      <th>jp_sales</th>\n",
       "      <th>other_sales</th>\n",
       "      <th>critic_score</th>\n",
       "      <th>user_score</th>\n",
       "      <th>rating</th>\n",
       "    </tr>\n",
       "  </thead>\n",
       "  <tbody>\n",
       "    <tr>\n",
       "      <th>659</th>\n",
       "      <td>NaN</td>\n",
       "      <td>GEN</td>\n",
       "      <td>1993.0</td>\n",
       "      <td>NaN</td>\n",
       "      <td>1.78</td>\n",
       "      <td>0.53</td>\n",
       "      <td>0.00</td>\n",
       "      <td>0.08</td>\n",
       "      <td>NaN</td>\n",
       "      <td>NaN</td>\n",
       "      <td>NaN</td>\n",
       "    </tr>\n",
       "    <tr>\n",
       "      <th>14244</th>\n",
       "      <td>NaN</td>\n",
       "      <td>GEN</td>\n",
       "      <td>1993.0</td>\n",
       "      <td>NaN</td>\n",
       "      <td>0.00</td>\n",
       "      <td>0.00</td>\n",
       "      <td>0.03</td>\n",
       "      <td>0.00</td>\n",
       "      <td>NaN</td>\n",
       "      <td>NaN</td>\n",
       "      <td>NaN</td>\n",
       "    </tr>\n",
       "  </tbody>\n",
       "</table>\n",
       "</div>"
      ],
      "text/plain": [
       "      name platform  year_of_release genre  na_sales  eu_sales  jp_sales  \\\n",
       "659    NaN      GEN           1993.0   NaN      1.78      0.53      0.00   \n",
       "14244  NaN      GEN           1993.0   NaN      0.00      0.00      0.03   \n",
       "\n",
       "       other_sales  critic_score user_score rating  \n",
       "659           0.08           NaN        NaN    NaN  \n",
       "14244         0.00           NaN        NaN    NaN  "
      ]
     },
     "execution_count": 6,
     "metadata": {},
     "output_type": "execute_result"
    }
   ],
   "source": [
    "# колонка name\n",
    "games[games.name.isna()]"
   ]
  },
  {
   "cell_type": "markdown",
   "id": "5729c422",
   "metadata": {},
   "source": [
    "Об этих играх нет достаточных данных, в строках имеется много пропусков, нужно эти строки удалить. "
   ]
  },
  {
   "cell_type": "code",
   "execution_count": 7,
   "id": "4b2861f6",
   "metadata": {},
   "outputs": [],
   "source": [
    "games = games.dropna(subset = ['name'])"
   ]
  },
  {
   "cell_type": "markdown",
   "id": "5e088e8b",
   "metadata": {},
   "source": [
    "### year_of_release"
   ]
  },
  {
   "cell_type": "code",
   "execution_count": 8,
   "id": "0743e5e7",
   "metadata": {},
   "outputs": [
    {
     "data": {
      "text/html": [
       "<div>\n",
       "<style scoped>\n",
       "    .dataframe tbody tr th:only-of-type {\n",
       "        vertical-align: middle;\n",
       "    }\n",
       "\n",
       "    .dataframe tbody tr th {\n",
       "        vertical-align: top;\n",
       "    }\n",
       "\n",
       "    .dataframe thead th {\n",
       "        text-align: right;\n",
       "    }\n",
       "</style>\n",
       "<table border=\"1\" class=\"dataframe\">\n",
       "  <thead>\n",
       "    <tr style=\"text-align: right;\">\n",
       "      <th></th>\n",
       "      <th>name</th>\n",
       "      <th>platform</th>\n",
       "      <th>year_of_release</th>\n",
       "      <th>genre</th>\n",
       "      <th>na_sales</th>\n",
       "      <th>eu_sales</th>\n",
       "      <th>jp_sales</th>\n",
       "      <th>other_sales</th>\n",
       "      <th>critic_score</th>\n",
       "      <th>user_score</th>\n",
       "      <th>rating</th>\n",
       "    </tr>\n",
       "  </thead>\n",
       "  <tbody>\n",
       "    <tr>\n",
       "      <th>183</th>\n",
       "      <td>Madden NFL 2004</td>\n",
       "      <td>PS2</td>\n",
       "      <td>NaN</td>\n",
       "      <td>Sports</td>\n",
       "      <td>4.26</td>\n",
       "      <td>0.26</td>\n",
       "      <td>0.01</td>\n",
       "      <td>0.71</td>\n",
       "      <td>94.0</td>\n",
       "      <td>8.5</td>\n",
       "      <td>E</td>\n",
       "    </tr>\n",
       "    <tr>\n",
       "      <th>377</th>\n",
       "      <td>FIFA Soccer 2004</td>\n",
       "      <td>PS2</td>\n",
       "      <td>NaN</td>\n",
       "      <td>Sports</td>\n",
       "      <td>0.59</td>\n",
       "      <td>2.36</td>\n",
       "      <td>0.04</td>\n",
       "      <td>0.51</td>\n",
       "      <td>84.0</td>\n",
       "      <td>6.4</td>\n",
       "      <td>E</td>\n",
       "    </tr>\n",
       "    <tr>\n",
       "      <th>456</th>\n",
       "      <td>LEGO Batman: The Videogame</td>\n",
       "      <td>Wii</td>\n",
       "      <td>NaN</td>\n",
       "      <td>Action</td>\n",
       "      <td>1.80</td>\n",
       "      <td>0.97</td>\n",
       "      <td>0.00</td>\n",
       "      <td>0.29</td>\n",
       "      <td>74.0</td>\n",
       "      <td>7.9</td>\n",
       "      <td>E10+</td>\n",
       "    </tr>\n",
       "    <tr>\n",
       "      <th>475</th>\n",
       "      <td>wwe Smackdown vs. Raw 2006</td>\n",
       "      <td>PS2</td>\n",
       "      <td>NaN</td>\n",
       "      <td>Fighting</td>\n",
       "      <td>1.57</td>\n",
       "      <td>1.02</td>\n",
       "      <td>0.00</td>\n",
       "      <td>0.41</td>\n",
       "      <td>NaN</td>\n",
       "      <td>NaN</td>\n",
       "      <td>NaN</td>\n",
       "    </tr>\n",
       "    <tr>\n",
       "      <th>609</th>\n",
       "      <td>Space Invaders</td>\n",
       "      <td>2600</td>\n",
       "      <td>NaN</td>\n",
       "      <td>Shooter</td>\n",
       "      <td>2.36</td>\n",
       "      <td>0.14</td>\n",
       "      <td>0.00</td>\n",
       "      <td>0.03</td>\n",
       "      <td>NaN</td>\n",
       "      <td>NaN</td>\n",
       "      <td>NaN</td>\n",
       "    </tr>\n",
       "    <tr>\n",
       "      <th>...</th>\n",
       "      <td>...</td>\n",
       "      <td>...</td>\n",
       "      <td>...</td>\n",
       "      <td>...</td>\n",
       "      <td>...</td>\n",
       "      <td>...</td>\n",
       "      <td>...</td>\n",
       "      <td>...</td>\n",
       "      <td>...</td>\n",
       "      <td>...</td>\n",
       "      <td>...</td>\n",
       "    </tr>\n",
       "    <tr>\n",
       "      <th>16373</th>\n",
       "      <td>PDC World Championship Darts 2008</td>\n",
       "      <td>PSP</td>\n",
       "      <td>NaN</td>\n",
       "      <td>Sports</td>\n",
       "      <td>0.01</td>\n",
       "      <td>0.00</td>\n",
       "      <td>0.00</td>\n",
       "      <td>0.00</td>\n",
       "      <td>43.0</td>\n",
       "      <td>tbd</td>\n",
       "      <td>E10+</td>\n",
       "    </tr>\n",
       "    <tr>\n",
       "      <th>16405</th>\n",
       "      <td>Freaky Flyers</td>\n",
       "      <td>GC</td>\n",
       "      <td>NaN</td>\n",
       "      <td>Racing</td>\n",
       "      <td>0.01</td>\n",
       "      <td>0.00</td>\n",
       "      <td>0.00</td>\n",
       "      <td>0.00</td>\n",
       "      <td>69.0</td>\n",
       "      <td>6.5</td>\n",
       "      <td>T</td>\n",
       "    </tr>\n",
       "    <tr>\n",
       "      <th>16448</th>\n",
       "      <td>Inversion</td>\n",
       "      <td>PC</td>\n",
       "      <td>NaN</td>\n",
       "      <td>Shooter</td>\n",
       "      <td>0.01</td>\n",
       "      <td>0.00</td>\n",
       "      <td>0.00</td>\n",
       "      <td>0.00</td>\n",
       "      <td>59.0</td>\n",
       "      <td>6.7</td>\n",
       "      <td>M</td>\n",
       "    </tr>\n",
       "    <tr>\n",
       "      <th>16458</th>\n",
       "      <td>Hakuouki: Shinsengumi Kitan</td>\n",
       "      <td>PS3</td>\n",
       "      <td>NaN</td>\n",
       "      <td>Adventure</td>\n",
       "      <td>0.01</td>\n",
       "      <td>0.00</td>\n",
       "      <td>0.00</td>\n",
       "      <td>0.00</td>\n",
       "      <td>NaN</td>\n",
       "      <td>NaN</td>\n",
       "      <td>NaN</td>\n",
       "    </tr>\n",
       "    <tr>\n",
       "      <th>16522</th>\n",
       "      <td>Virtua Quest</td>\n",
       "      <td>GC</td>\n",
       "      <td>NaN</td>\n",
       "      <td>Role-Playing</td>\n",
       "      <td>0.01</td>\n",
       "      <td>0.00</td>\n",
       "      <td>0.00</td>\n",
       "      <td>0.00</td>\n",
       "      <td>55.0</td>\n",
       "      <td>5.5</td>\n",
       "      <td>T</td>\n",
       "    </tr>\n",
       "  </tbody>\n",
       "</table>\n",
       "<p>269 rows × 11 columns</p>\n",
       "</div>"
      ],
      "text/plain": [
       "                                    name platform  year_of_release  \\\n",
       "183                      Madden NFL 2004      PS2              NaN   \n",
       "377                     FIFA Soccer 2004      PS2              NaN   \n",
       "456           LEGO Batman: The Videogame      Wii              NaN   \n",
       "475           wwe Smackdown vs. Raw 2006      PS2              NaN   \n",
       "609                       Space Invaders     2600              NaN   \n",
       "...                                  ...      ...              ...   \n",
       "16373  PDC World Championship Darts 2008      PSP              NaN   \n",
       "16405                      Freaky Flyers       GC              NaN   \n",
       "16448                          Inversion       PC              NaN   \n",
       "16458        Hakuouki: Shinsengumi Kitan      PS3              NaN   \n",
       "16522                       Virtua Quest       GC              NaN   \n",
       "\n",
       "              genre  na_sales  eu_sales  jp_sales  other_sales  critic_score  \\\n",
       "183          Sports      4.26      0.26      0.01         0.71          94.0   \n",
       "377          Sports      0.59      2.36      0.04         0.51          84.0   \n",
       "456          Action      1.80      0.97      0.00         0.29          74.0   \n",
       "475        Fighting      1.57      1.02      0.00         0.41           NaN   \n",
       "609         Shooter      2.36      0.14      0.00         0.03           NaN   \n",
       "...             ...       ...       ...       ...          ...           ...   \n",
       "16373        Sports      0.01      0.00      0.00         0.00          43.0   \n",
       "16405        Racing      0.01      0.00      0.00         0.00          69.0   \n",
       "16448       Shooter      0.01      0.00      0.00         0.00          59.0   \n",
       "16458     Adventure      0.01      0.00      0.00         0.00           NaN   \n",
       "16522  Role-Playing      0.01      0.00      0.00         0.00          55.0   \n",
       "\n",
       "      user_score rating  \n",
       "183          8.5      E  \n",
       "377          6.4      E  \n",
       "456          7.9   E10+  \n",
       "475          NaN    NaN  \n",
       "609          NaN    NaN  \n",
       "...          ...    ...  \n",
       "16373        tbd   E10+  \n",
       "16405        6.5      T  \n",
       "16448        6.7      M  \n",
       "16458        NaN    NaN  \n",
       "16522        5.5      T  \n",
       "\n",
       "[269 rows x 11 columns]"
      ]
     },
     "metadata": {},
     "output_type": "display_data"
    },
    {
     "data": {
      "text/plain": [
       "'процент пропусков от всего датасета'"
      ]
     },
     "metadata": {},
     "output_type": "display_data"
    },
    {
     "data": {
      "text/plain": [
       "1.6095255190570215"
      ]
     },
     "metadata": {},
     "output_type": "display_data"
    }
   ],
   "source": [
    "# колонка year_of_release\n",
    "display(games[games.year_of_release.isna()])\n",
    "display('процент пропусков от всего датасета', games['year_of_release'].isna().mean()*100)"
   ]
  },
  {
   "cell_type": "markdown",
   "id": "1c3e6c43",
   "metadata": {},
   "source": [
    "Заполнять такие данные медианой или средним значением будет некорректно, ведь игры между собой никак не связаны, единственное, что можно предположить – это заполнить пропуски датой выхода платформы на которую рассчитана игра, если с Wii, PS2 и PS3 более менее понятно, то вопросы возникают с PC, какой год указать, если компьютеры были придуманы задолго до игр. Лучше сэкономить время и нервы и удалить такие пропуски, так как они не велики.  \n",
    "Пропуски в этой колонке составляют меньше 2% от всего датасета, так что их можно удалить. "
   ]
  },
  {
   "cell_type": "code",
   "execution_count": 9,
   "id": "11392c1d",
   "metadata": {},
   "outputs": [],
   "source": [
    "games = games.dropna(subset = ['year_of_release'])"
   ]
  },
  {
   "cell_type": "markdown",
   "id": "7fcd4c37",
   "metadata": {},
   "source": [
    "### rating"
   ]
  },
  {
   "cell_type": "code",
   "execution_count": 10,
   "id": "e5391a6c",
   "metadata": {},
   "outputs": [
    {
     "data": {
      "text/html": [
       "<div>\n",
       "<style scoped>\n",
       "    .dataframe tbody tr th:only-of-type {\n",
       "        vertical-align: middle;\n",
       "    }\n",
       "\n",
       "    .dataframe tbody tr th {\n",
       "        vertical-align: top;\n",
       "    }\n",
       "\n",
       "    .dataframe thead th {\n",
       "        text-align: right;\n",
       "    }\n",
       "</style>\n",
       "<table border=\"1\" class=\"dataframe\">\n",
       "  <thead>\n",
       "    <tr style=\"text-align: right;\">\n",
       "      <th></th>\n",
       "      <th>name</th>\n",
       "      <th>platform</th>\n",
       "      <th>year_of_release</th>\n",
       "      <th>genre</th>\n",
       "      <th>na_sales</th>\n",
       "      <th>eu_sales</th>\n",
       "      <th>jp_sales</th>\n",
       "      <th>other_sales</th>\n",
       "      <th>critic_score</th>\n",
       "      <th>user_score</th>\n",
       "      <th>rating</th>\n",
       "    </tr>\n",
       "  </thead>\n",
       "  <tbody>\n",
       "    <tr>\n",
       "      <th>1</th>\n",
       "      <td>Super Mario Bros.</td>\n",
       "      <td>NES</td>\n",
       "      <td>1985.0</td>\n",
       "      <td>Platform</td>\n",
       "      <td>29.08</td>\n",
       "      <td>3.58</td>\n",
       "      <td>6.81</td>\n",
       "      <td>0.77</td>\n",
       "      <td>NaN</td>\n",
       "      <td>NaN</td>\n",
       "      <td>NaN</td>\n",
       "    </tr>\n",
       "    <tr>\n",
       "      <th>4</th>\n",
       "      <td>Pokemon Red/Pokemon Blue</td>\n",
       "      <td>GB</td>\n",
       "      <td>1996.0</td>\n",
       "      <td>Role-Playing</td>\n",
       "      <td>11.27</td>\n",
       "      <td>8.89</td>\n",
       "      <td>10.22</td>\n",
       "      <td>1.00</td>\n",
       "      <td>NaN</td>\n",
       "      <td>NaN</td>\n",
       "      <td>NaN</td>\n",
       "    </tr>\n",
       "    <tr>\n",
       "      <th>5</th>\n",
       "      <td>Tetris</td>\n",
       "      <td>GB</td>\n",
       "      <td>1989.0</td>\n",
       "      <td>Puzzle</td>\n",
       "      <td>23.20</td>\n",
       "      <td>2.26</td>\n",
       "      <td>4.22</td>\n",
       "      <td>0.58</td>\n",
       "      <td>NaN</td>\n",
       "      <td>NaN</td>\n",
       "      <td>NaN</td>\n",
       "    </tr>\n",
       "    <tr>\n",
       "      <th>9</th>\n",
       "      <td>Duck Hunt</td>\n",
       "      <td>NES</td>\n",
       "      <td>1984.0</td>\n",
       "      <td>Shooter</td>\n",
       "      <td>26.93</td>\n",
       "      <td>0.63</td>\n",
       "      <td>0.28</td>\n",
       "      <td>0.47</td>\n",
       "      <td>NaN</td>\n",
       "      <td>NaN</td>\n",
       "      <td>NaN</td>\n",
       "    </tr>\n",
       "    <tr>\n",
       "      <th>10</th>\n",
       "      <td>Nintendogs</td>\n",
       "      <td>DS</td>\n",
       "      <td>2005.0</td>\n",
       "      <td>Simulation</td>\n",
       "      <td>9.05</td>\n",
       "      <td>10.95</td>\n",
       "      <td>1.93</td>\n",
       "      <td>2.74</td>\n",
       "      <td>NaN</td>\n",
       "      <td>NaN</td>\n",
       "      <td>NaN</td>\n",
       "    </tr>\n",
       "    <tr>\n",
       "      <th>...</th>\n",
       "      <td>...</td>\n",
       "      <td>...</td>\n",
       "      <td>...</td>\n",
       "      <td>...</td>\n",
       "      <td>...</td>\n",
       "      <td>...</td>\n",
       "      <td>...</td>\n",
       "      <td>...</td>\n",
       "      <td>...</td>\n",
       "      <td>...</td>\n",
       "      <td>...</td>\n",
       "    </tr>\n",
       "    <tr>\n",
       "      <th>16710</th>\n",
       "      <td>Samurai Warriors: Sanada Maru</td>\n",
       "      <td>PS3</td>\n",
       "      <td>2016.0</td>\n",
       "      <td>Action</td>\n",
       "      <td>0.00</td>\n",
       "      <td>0.00</td>\n",
       "      <td>0.01</td>\n",
       "      <td>0.00</td>\n",
       "      <td>NaN</td>\n",
       "      <td>NaN</td>\n",
       "      <td>NaN</td>\n",
       "    </tr>\n",
       "    <tr>\n",
       "      <th>16711</th>\n",
       "      <td>LMA Manager 2007</td>\n",
       "      <td>X360</td>\n",
       "      <td>2006.0</td>\n",
       "      <td>Sports</td>\n",
       "      <td>0.00</td>\n",
       "      <td>0.01</td>\n",
       "      <td>0.00</td>\n",
       "      <td>0.00</td>\n",
       "      <td>NaN</td>\n",
       "      <td>NaN</td>\n",
       "      <td>NaN</td>\n",
       "    </tr>\n",
       "    <tr>\n",
       "      <th>16712</th>\n",
       "      <td>Haitaka no Psychedelica</td>\n",
       "      <td>PSV</td>\n",
       "      <td>2016.0</td>\n",
       "      <td>Adventure</td>\n",
       "      <td>0.00</td>\n",
       "      <td>0.00</td>\n",
       "      <td>0.01</td>\n",
       "      <td>0.00</td>\n",
       "      <td>NaN</td>\n",
       "      <td>NaN</td>\n",
       "      <td>NaN</td>\n",
       "    </tr>\n",
       "    <tr>\n",
       "      <th>16713</th>\n",
       "      <td>Spirits &amp; Spells</td>\n",
       "      <td>GBA</td>\n",
       "      <td>2003.0</td>\n",
       "      <td>Platform</td>\n",
       "      <td>0.01</td>\n",
       "      <td>0.00</td>\n",
       "      <td>0.00</td>\n",
       "      <td>0.00</td>\n",
       "      <td>NaN</td>\n",
       "      <td>NaN</td>\n",
       "      <td>NaN</td>\n",
       "    </tr>\n",
       "    <tr>\n",
       "      <th>16714</th>\n",
       "      <td>Winning Post 8 2016</td>\n",
       "      <td>PSV</td>\n",
       "      <td>2016.0</td>\n",
       "      <td>Simulation</td>\n",
       "      <td>0.00</td>\n",
       "      <td>0.00</td>\n",
       "      <td>0.01</td>\n",
       "      <td>0.00</td>\n",
       "      <td>NaN</td>\n",
       "      <td>NaN</td>\n",
       "      <td>NaN</td>\n",
       "    </tr>\n",
       "  </tbody>\n",
       "</table>\n",
       "<p>6676 rows × 11 columns</p>\n",
       "</div>"
      ],
      "text/plain": [
       "                                name platform  year_of_release         genre  \\\n",
       "1                  Super Mario Bros.      NES           1985.0      Platform   \n",
       "4           Pokemon Red/Pokemon Blue       GB           1996.0  Role-Playing   \n",
       "5                             Tetris       GB           1989.0        Puzzle   \n",
       "9                          Duck Hunt      NES           1984.0       Shooter   \n",
       "10                        Nintendogs       DS           2005.0    Simulation   \n",
       "...                              ...      ...              ...           ...   \n",
       "16710  Samurai Warriors: Sanada Maru      PS3           2016.0        Action   \n",
       "16711               LMA Manager 2007     X360           2006.0        Sports   \n",
       "16712        Haitaka no Psychedelica      PSV           2016.0     Adventure   \n",
       "16713               Spirits & Spells      GBA           2003.0      Platform   \n",
       "16714            Winning Post 8 2016      PSV           2016.0    Simulation   \n",
       "\n",
       "       na_sales  eu_sales  jp_sales  other_sales  critic_score user_score  \\\n",
       "1         29.08      3.58      6.81         0.77           NaN        NaN   \n",
       "4         11.27      8.89     10.22         1.00           NaN        NaN   \n",
       "5         23.20      2.26      4.22         0.58           NaN        NaN   \n",
       "9         26.93      0.63      0.28         0.47           NaN        NaN   \n",
       "10         9.05     10.95      1.93         2.74           NaN        NaN   \n",
       "...         ...       ...       ...          ...           ...        ...   \n",
       "16710      0.00      0.00      0.01         0.00           NaN        NaN   \n",
       "16711      0.00      0.01      0.00         0.00           NaN        NaN   \n",
       "16712      0.00      0.00      0.01         0.00           NaN        NaN   \n",
       "16713      0.01      0.00      0.00         0.00           NaN        NaN   \n",
       "16714      0.00      0.00      0.01         0.00           NaN        NaN   \n",
       "\n",
       "      rating  \n",
       "1        NaN  \n",
       "4        NaN  \n",
       "5        NaN  \n",
       "9        NaN  \n",
       "10       NaN  \n",
       "...      ...  \n",
       "16710    NaN  \n",
       "16711    NaN  \n",
       "16712    NaN  \n",
       "16713    NaN  \n",
       "16714    NaN  \n",
       "\n",
       "[6676 rows x 11 columns]"
      ]
     },
     "metadata": {},
     "output_type": "display_data"
    },
    {
     "data": {
      "text/plain": [
       "'процент пропусков от всего датасета'"
      ]
     },
     "metadata": {},
     "output_type": "display_data"
    },
    {
     "data": {
      "text/plain": [
       "40.59839455120409"
      ]
     },
     "metadata": {},
     "output_type": "display_data"
    }
   ],
   "source": [
    "# колонка rating\n",
    "display(games[games.rating.isna()])\n",
    "display('процент пропусков от всего датасета', games['rating'].isna().mean()*100)"
   ]
  },
  {
   "cell_type": "markdown",
   "id": "876a174e",
   "metadata": {},
   "source": [
    "Видно, что пропуски в колонке `rating` встречаются вместе с пропусками в колонках `critic_score`, `user_score`. Пропуски есть независимо от того новая это игра или старая, на какой платформе можно в нее поиграть, а также жанры встречаются разные. Удалить строки с пропусками мы не можем, так как они составляют почти половину датасета. В данном случае следует поставить \"заглушку\". "
   ]
  },
  {
   "cell_type": "code",
   "execution_count": 11,
   "id": "1d5d83ad",
   "metadata": {},
   "outputs": [
    {
     "data": {
      "text/plain": [
       "Unknown    6676\n",
       "E          3921\n",
       "T          2905\n",
       "M          1536\n",
       "E10+       1393\n",
       "EC            8\n",
       "K-A           3\n",
       "RP            1\n",
       "AO            1\n",
       "Name: rating, dtype: int64"
      ]
     },
     "execution_count": 11,
     "metadata": {},
     "output_type": "execute_result"
    }
   ],
   "source": [
    "games['rating'] = games['rating'].fillna('Unknown')\n",
    "games.rating.value_counts()"
   ]
  },
  {
   "cell_type": "markdown",
   "id": "441c3d7d",
   "metadata": {},
   "source": [
    "Немного покопавшись в интернете можно получить определения для представленных рейтингов. \n",
    "- «EC» («Early childhood») — «Для детей младшего возраста»\n",
    "- «E» («Everyone») — «Для всех»\n",
    "- «E10+» («Everyone 10 and older») — «Для всех от 10 лет и старше»\n",
    "- «T» («Teen») — «Подросткам»\n",
    "- «M» («Mature») — «Для взрослых»:\n",
    "- «AO» («Adults Only 18+») — «Только для взрослых»\n",
    "- «RP» («Rating Pending») — «Рейтинг ожидается»\n",
    "- K-A - старый вариант маркировки E (for everyone)"
   ]
  },
  {
   "cell_type": "markdown",
   "id": "7bbbad86",
   "metadata": {},
   "source": [
    "Исходя из этого можно заменить 'RP' на 'Unknown', 'K-A' на 'E' и 'AO' на 'M'"
   ]
  },
  {
   "cell_type": "code",
   "execution_count": 12,
   "id": "73f4dc48",
   "metadata": {},
   "outputs": [
    {
     "data": {
      "text/plain": [
       "Unknown    6677\n",
       "E          3924\n",
       "T          2905\n",
       "M          1537\n",
       "E10+       1393\n",
       "EC            8\n",
       "Name: rating, dtype: int64"
      ]
     },
     "execution_count": 12,
     "metadata": {},
     "output_type": "execute_result"
    }
   ],
   "source": [
    "games.loc[games['rating'] == 'RP', 'rating'] = 'Unknown'\n",
    "games.loc[games['rating'].isin(['K-A']), 'rating'] = 'E'\n",
    "games.loc[games['rating'] == 'AO', 'rating'] = 'M'\n",
    "\n",
    "#test\n",
    "games.rating.value_counts()"
   ]
  },
  {
   "cell_type": "markdown",
   "id": "902a4ee6",
   "metadata": {},
   "source": [
    "Для определения рейтинга издатель присылает в ESRB видеоролик, который содержит наиболее впечатляющие и резкие сцены игры. Также издатель заполняет специальную анкету сведениями о содержании игры.\n",
    "\n",
    "Возможно некоторые создатели игр просто не посчитали нужным отправлять заявку в негосударственную компанию для оценки своей игры, поэтому не все игры имеют какое-либо оценивание в колонке `rating` "
   ]
  },
  {
   "cell_type": "markdown",
   "id": "50c4d093",
   "metadata": {},
   "source": [
    "### critic_score"
   ]
  },
  {
   "cell_type": "code",
   "execution_count": 13,
   "id": "b1364af7",
   "metadata": {},
   "outputs": [
    {
     "data": {
      "text/html": [
       "<div>\n",
       "<style scoped>\n",
       "    .dataframe tbody tr th:only-of-type {\n",
       "        vertical-align: middle;\n",
       "    }\n",
       "\n",
       "    .dataframe tbody tr th {\n",
       "        vertical-align: top;\n",
       "    }\n",
       "\n",
       "    .dataframe thead th {\n",
       "        text-align: right;\n",
       "    }\n",
       "</style>\n",
       "<table border=\"1\" class=\"dataframe\">\n",
       "  <thead>\n",
       "    <tr style=\"text-align: right;\">\n",
       "      <th></th>\n",
       "      <th>name</th>\n",
       "      <th>platform</th>\n",
       "      <th>year_of_release</th>\n",
       "      <th>genre</th>\n",
       "      <th>na_sales</th>\n",
       "      <th>eu_sales</th>\n",
       "      <th>jp_sales</th>\n",
       "      <th>other_sales</th>\n",
       "      <th>critic_score</th>\n",
       "      <th>user_score</th>\n",
       "      <th>rating</th>\n",
       "    </tr>\n",
       "  </thead>\n",
       "  <tbody>\n",
       "    <tr>\n",
       "      <th>1</th>\n",
       "      <td>Super Mario Bros.</td>\n",
       "      <td>NES</td>\n",
       "      <td>1985.0</td>\n",
       "      <td>Platform</td>\n",
       "      <td>29.08</td>\n",
       "      <td>3.58</td>\n",
       "      <td>6.81</td>\n",
       "      <td>0.77</td>\n",
       "      <td>NaN</td>\n",
       "      <td>NaN</td>\n",
       "      <td>Unknown</td>\n",
       "    </tr>\n",
       "    <tr>\n",
       "      <th>4</th>\n",
       "      <td>Pokemon Red/Pokemon Blue</td>\n",
       "      <td>GB</td>\n",
       "      <td>1996.0</td>\n",
       "      <td>Role-Playing</td>\n",
       "      <td>11.27</td>\n",
       "      <td>8.89</td>\n",
       "      <td>10.22</td>\n",
       "      <td>1.00</td>\n",
       "      <td>NaN</td>\n",
       "      <td>NaN</td>\n",
       "      <td>Unknown</td>\n",
       "    </tr>\n",
       "    <tr>\n",
       "      <th>5</th>\n",
       "      <td>Tetris</td>\n",
       "      <td>GB</td>\n",
       "      <td>1989.0</td>\n",
       "      <td>Puzzle</td>\n",
       "      <td>23.20</td>\n",
       "      <td>2.26</td>\n",
       "      <td>4.22</td>\n",
       "      <td>0.58</td>\n",
       "      <td>NaN</td>\n",
       "      <td>NaN</td>\n",
       "      <td>Unknown</td>\n",
       "    </tr>\n",
       "    <tr>\n",
       "      <th>9</th>\n",
       "      <td>Duck Hunt</td>\n",
       "      <td>NES</td>\n",
       "      <td>1984.0</td>\n",
       "      <td>Shooter</td>\n",
       "      <td>26.93</td>\n",
       "      <td>0.63</td>\n",
       "      <td>0.28</td>\n",
       "      <td>0.47</td>\n",
       "      <td>NaN</td>\n",
       "      <td>NaN</td>\n",
       "      <td>Unknown</td>\n",
       "    </tr>\n",
       "    <tr>\n",
       "      <th>10</th>\n",
       "      <td>Nintendogs</td>\n",
       "      <td>DS</td>\n",
       "      <td>2005.0</td>\n",
       "      <td>Simulation</td>\n",
       "      <td>9.05</td>\n",
       "      <td>10.95</td>\n",
       "      <td>1.93</td>\n",
       "      <td>2.74</td>\n",
       "      <td>NaN</td>\n",
       "      <td>NaN</td>\n",
       "      <td>Unknown</td>\n",
       "    </tr>\n",
       "    <tr>\n",
       "      <th>...</th>\n",
       "      <td>...</td>\n",
       "      <td>...</td>\n",
       "      <td>...</td>\n",
       "      <td>...</td>\n",
       "      <td>...</td>\n",
       "      <td>...</td>\n",
       "      <td>...</td>\n",
       "      <td>...</td>\n",
       "      <td>...</td>\n",
       "      <td>...</td>\n",
       "      <td>...</td>\n",
       "    </tr>\n",
       "    <tr>\n",
       "      <th>16710</th>\n",
       "      <td>Samurai Warriors: Sanada Maru</td>\n",
       "      <td>PS3</td>\n",
       "      <td>2016.0</td>\n",
       "      <td>Action</td>\n",
       "      <td>0.00</td>\n",
       "      <td>0.00</td>\n",
       "      <td>0.01</td>\n",
       "      <td>0.00</td>\n",
       "      <td>NaN</td>\n",
       "      <td>NaN</td>\n",
       "      <td>Unknown</td>\n",
       "    </tr>\n",
       "    <tr>\n",
       "      <th>16711</th>\n",
       "      <td>LMA Manager 2007</td>\n",
       "      <td>X360</td>\n",
       "      <td>2006.0</td>\n",
       "      <td>Sports</td>\n",
       "      <td>0.00</td>\n",
       "      <td>0.01</td>\n",
       "      <td>0.00</td>\n",
       "      <td>0.00</td>\n",
       "      <td>NaN</td>\n",
       "      <td>NaN</td>\n",
       "      <td>Unknown</td>\n",
       "    </tr>\n",
       "    <tr>\n",
       "      <th>16712</th>\n",
       "      <td>Haitaka no Psychedelica</td>\n",
       "      <td>PSV</td>\n",
       "      <td>2016.0</td>\n",
       "      <td>Adventure</td>\n",
       "      <td>0.00</td>\n",
       "      <td>0.00</td>\n",
       "      <td>0.01</td>\n",
       "      <td>0.00</td>\n",
       "      <td>NaN</td>\n",
       "      <td>NaN</td>\n",
       "      <td>Unknown</td>\n",
       "    </tr>\n",
       "    <tr>\n",
       "      <th>16713</th>\n",
       "      <td>Spirits &amp; Spells</td>\n",
       "      <td>GBA</td>\n",
       "      <td>2003.0</td>\n",
       "      <td>Platform</td>\n",
       "      <td>0.01</td>\n",
       "      <td>0.00</td>\n",
       "      <td>0.00</td>\n",
       "      <td>0.00</td>\n",
       "      <td>NaN</td>\n",
       "      <td>NaN</td>\n",
       "      <td>Unknown</td>\n",
       "    </tr>\n",
       "    <tr>\n",
       "      <th>16714</th>\n",
       "      <td>Winning Post 8 2016</td>\n",
       "      <td>PSV</td>\n",
       "      <td>2016.0</td>\n",
       "      <td>Simulation</td>\n",
       "      <td>0.00</td>\n",
       "      <td>0.00</td>\n",
       "      <td>0.01</td>\n",
       "      <td>0.00</td>\n",
       "      <td>NaN</td>\n",
       "      <td>NaN</td>\n",
       "      <td>Unknown</td>\n",
       "    </tr>\n",
       "  </tbody>\n",
       "</table>\n",
       "<p>8461 rows × 11 columns</p>\n",
       "</div>"
      ],
      "text/plain": [
       "                                name platform  year_of_release         genre  \\\n",
       "1                  Super Mario Bros.      NES           1985.0      Platform   \n",
       "4           Pokemon Red/Pokemon Blue       GB           1996.0  Role-Playing   \n",
       "5                             Tetris       GB           1989.0        Puzzle   \n",
       "9                          Duck Hunt      NES           1984.0       Shooter   \n",
       "10                        Nintendogs       DS           2005.0    Simulation   \n",
       "...                              ...      ...              ...           ...   \n",
       "16710  Samurai Warriors: Sanada Maru      PS3           2016.0        Action   \n",
       "16711               LMA Manager 2007     X360           2006.0        Sports   \n",
       "16712        Haitaka no Psychedelica      PSV           2016.0     Adventure   \n",
       "16713               Spirits & Spells      GBA           2003.0      Platform   \n",
       "16714            Winning Post 8 2016      PSV           2016.0    Simulation   \n",
       "\n",
       "       na_sales  eu_sales  jp_sales  other_sales  critic_score user_score  \\\n",
       "1         29.08      3.58      6.81         0.77           NaN        NaN   \n",
       "4         11.27      8.89     10.22         1.00           NaN        NaN   \n",
       "5         23.20      2.26      4.22         0.58           NaN        NaN   \n",
       "9         26.93      0.63      0.28         0.47           NaN        NaN   \n",
       "10         9.05     10.95      1.93         2.74           NaN        NaN   \n",
       "...         ...       ...       ...          ...           ...        ...   \n",
       "16710      0.00      0.00      0.01         0.00           NaN        NaN   \n",
       "16711      0.00      0.01      0.00         0.00           NaN        NaN   \n",
       "16712      0.00      0.00      0.01         0.00           NaN        NaN   \n",
       "16713      0.01      0.00      0.00         0.00           NaN        NaN   \n",
       "16714      0.00      0.00      0.01         0.00           NaN        NaN   \n",
       "\n",
       "        rating  \n",
       "1      Unknown  \n",
       "4      Unknown  \n",
       "5      Unknown  \n",
       "9      Unknown  \n",
       "10     Unknown  \n",
       "...        ...  \n",
       "16710  Unknown  \n",
       "16711  Unknown  \n",
       "16712  Unknown  \n",
       "16713  Unknown  \n",
       "16714  Unknown  \n",
       "\n",
       "[8461 rows x 11 columns]"
      ]
     },
     "metadata": {},
     "output_type": "display_data"
    },
    {
     "data": {
      "text/plain": [
       "'процент пропусков от всего датасета'"
      ]
     },
     "metadata": {},
     "output_type": "display_data"
    },
    {
     "data": {
      "text/plain": [
       "51.453417659936754"
      ]
     },
     "metadata": {},
     "output_type": "display_data"
    }
   ],
   "source": [
    "# колонка critic_score\n",
    "display(games[games.critic_score.isna()])\n",
    "display('процент пропусков от всего датасета', games['critic_score'].isna().mean()*100)"
   ]
  },
  {
   "cell_type": "markdown",
   "id": "7ee9a1d6",
   "metadata": {},
   "source": [
    "Как и в случае с `rating` пропущенных значений очень много и не предоставляется возможным их восстановить, также ставим заглушку '-10', так как нам нужны данные типа float для дальнейших анализов, а отрицательных рейтингов нет, так что мы с легкостью сможем опознать пропцщенные значения. "
   ]
  },
  {
   "cell_type": "code",
   "execution_count": 14,
   "id": "ea6be85e",
   "metadata": {},
   "outputs": [
    {
     "data": {
      "text/plain": [
       "-10.0    8461\n",
       " 70.0     252\n",
       " 71.0     248\n",
       " 75.0     240\n",
       " 80.0     235\n",
       "         ... \n",
       " 20.0       3\n",
       " 29.0       3\n",
       " 13.0       1\n",
       " 17.0       1\n",
       " 21.0       1\n",
       "Name: critic_score, Length: 82, dtype: int64"
      ]
     },
     "execution_count": 14,
     "metadata": {},
     "output_type": "execute_result"
    }
   ],
   "source": [
    "#games['critic_score'] = games['critic_score'].fillna('-10')\n",
    "#games['critic_score'] = games['critic_score'].astype('float')\n",
    "#games.critic_score.value_counts()\n",
    "\n",
    "#games.loc[games['critic_score'] == 'tbd', 'user_score'] = '-10'\n",
    "#games.user_score.value_counts()\n",
    "#games['user_score'] = games['user_score'].astype('float')\n",
    "#games.loc[games['critic_score'] == 'Unknown', 'user_score'] = 'Unknown'\n",
    "games['critic_score'] = games['critic_score'].fillna('-10')\n",
    "games['critic_score'] = games['critic_score'].astype('float') #приводим к нужному типу\n",
    "games.critic_score.value_counts()"
   ]
  },
  {
   "cell_type": "markdown",
   "id": "403e5f62",
   "metadata": {},
   "source": [
    "Что касается перевода `critic_score` в тип данных 'int', я не стал этого делать, хотя в колонке находятся целочисленные показатели, чтобы в будущем, если понадобится посчитать, к примеру, корреляцию между `critic_score` и `user_score` данные находились в одной размерности. Либо в теории можно умножить показатели колонки `user_score` на 10, и обе колонки перевести в тип данных 'int'. "
   ]
  },
  {
   "cell_type": "markdown",
   "id": "b06b92a3",
   "metadata": {},
   "source": [
    "### user_score"
   ]
  },
  {
   "cell_type": "code",
   "execution_count": 15,
   "id": "33496f41",
   "metadata": {},
   "outputs": [
    {
     "data": {
      "text/html": [
       "<div>\n",
       "<style scoped>\n",
       "    .dataframe tbody tr th:only-of-type {\n",
       "        vertical-align: middle;\n",
       "    }\n",
       "\n",
       "    .dataframe tbody tr th {\n",
       "        vertical-align: top;\n",
       "    }\n",
       "\n",
       "    .dataframe thead th {\n",
       "        text-align: right;\n",
       "    }\n",
       "</style>\n",
       "<table border=\"1\" class=\"dataframe\">\n",
       "  <thead>\n",
       "    <tr style=\"text-align: right;\">\n",
       "      <th></th>\n",
       "      <th>name</th>\n",
       "      <th>platform</th>\n",
       "      <th>year_of_release</th>\n",
       "      <th>genre</th>\n",
       "      <th>na_sales</th>\n",
       "      <th>eu_sales</th>\n",
       "      <th>jp_sales</th>\n",
       "      <th>other_sales</th>\n",
       "      <th>critic_score</th>\n",
       "      <th>user_score</th>\n",
       "      <th>rating</th>\n",
       "    </tr>\n",
       "  </thead>\n",
       "  <tbody>\n",
       "    <tr>\n",
       "      <th>1</th>\n",
       "      <td>Super Mario Bros.</td>\n",
       "      <td>NES</td>\n",
       "      <td>1985.0</td>\n",
       "      <td>Platform</td>\n",
       "      <td>29.08</td>\n",
       "      <td>3.58</td>\n",
       "      <td>6.81</td>\n",
       "      <td>0.77</td>\n",
       "      <td>-10.0</td>\n",
       "      <td>NaN</td>\n",
       "      <td>Unknown</td>\n",
       "    </tr>\n",
       "    <tr>\n",
       "      <th>4</th>\n",
       "      <td>Pokemon Red/Pokemon Blue</td>\n",
       "      <td>GB</td>\n",
       "      <td>1996.0</td>\n",
       "      <td>Role-Playing</td>\n",
       "      <td>11.27</td>\n",
       "      <td>8.89</td>\n",
       "      <td>10.22</td>\n",
       "      <td>1.00</td>\n",
       "      <td>-10.0</td>\n",
       "      <td>NaN</td>\n",
       "      <td>Unknown</td>\n",
       "    </tr>\n",
       "    <tr>\n",
       "      <th>5</th>\n",
       "      <td>Tetris</td>\n",
       "      <td>GB</td>\n",
       "      <td>1989.0</td>\n",
       "      <td>Puzzle</td>\n",
       "      <td>23.20</td>\n",
       "      <td>2.26</td>\n",
       "      <td>4.22</td>\n",
       "      <td>0.58</td>\n",
       "      <td>-10.0</td>\n",
       "      <td>NaN</td>\n",
       "      <td>Unknown</td>\n",
       "    </tr>\n",
       "    <tr>\n",
       "      <th>9</th>\n",
       "      <td>Duck Hunt</td>\n",
       "      <td>NES</td>\n",
       "      <td>1984.0</td>\n",
       "      <td>Shooter</td>\n",
       "      <td>26.93</td>\n",
       "      <td>0.63</td>\n",
       "      <td>0.28</td>\n",
       "      <td>0.47</td>\n",
       "      <td>-10.0</td>\n",
       "      <td>NaN</td>\n",
       "      <td>Unknown</td>\n",
       "    </tr>\n",
       "    <tr>\n",
       "      <th>10</th>\n",
       "      <td>Nintendogs</td>\n",
       "      <td>DS</td>\n",
       "      <td>2005.0</td>\n",
       "      <td>Simulation</td>\n",
       "      <td>9.05</td>\n",
       "      <td>10.95</td>\n",
       "      <td>1.93</td>\n",
       "      <td>2.74</td>\n",
       "      <td>-10.0</td>\n",
       "      <td>NaN</td>\n",
       "      <td>Unknown</td>\n",
       "    </tr>\n",
       "    <tr>\n",
       "      <th>...</th>\n",
       "      <td>...</td>\n",
       "      <td>...</td>\n",
       "      <td>...</td>\n",
       "      <td>...</td>\n",
       "      <td>...</td>\n",
       "      <td>...</td>\n",
       "      <td>...</td>\n",
       "      <td>...</td>\n",
       "      <td>...</td>\n",
       "      <td>...</td>\n",
       "      <td>...</td>\n",
       "    </tr>\n",
       "    <tr>\n",
       "      <th>16710</th>\n",
       "      <td>Samurai Warriors: Sanada Maru</td>\n",
       "      <td>PS3</td>\n",
       "      <td>2016.0</td>\n",
       "      <td>Action</td>\n",
       "      <td>0.00</td>\n",
       "      <td>0.00</td>\n",
       "      <td>0.01</td>\n",
       "      <td>0.00</td>\n",
       "      <td>-10.0</td>\n",
       "      <td>NaN</td>\n",
       "      <td>Unknown</td>\n",
       "    </tr>\n",
       "    <tr>\n",
       "      <th>16711</th>\n",
       "      <td>LMA Manager 2007</td>\n",
       "      <td>X360</td>\n",
       "      <td>2006.0</td>\n",
       "      <td>Sports</td>\n",
       "      <td>0.00</td>\n",
       "      <td>0.01</td>\n",
       "      <td>0.00</td>\n",
       "      <td>0.00</td>\n",
       "      <td>-10.0</td>\n",
       "      <td>NaN</td>\n",
       "      <td>Unknown</td>\n",
       "    </tr>\n",
       "    <tr>\n",
       "      <th>16712</th>\n",
       "      <td>Haitaka no Psychedelica</td>\n",
       "      <td>PSV</td>\n",
       "      <td>2016.0</td>\n",
       "      <td>Adventure</td>\n",
       "      <td>0.00</td>\n",
       "      <td>0.00</td>\n",
       "      <td>0.01</td>\n",
       "      <td>0.00</td>\n",
       "      <td>-10.0</td>\n",
       "      <td>NaN</td>\n",
       "      <td>Unknown</td>\n",
       "    </tr>\n",
       "    <tr>\n",
       "      <th>16713</th>\n",
       "      <td>Spirits &amp; Spells</td>\n",
       "      <td>GBA</td>\n",
       "      <td>2003.0</td>\n",
       "      <td>Platform</td>\n",
       "      <td>0.01</td>\n",
       "      <td>0.00</td>\n",
       "      <td>0.00</td>\n",
       "      <td>0.00</td>\n",
       "      <td>-10.0</td>\n",
       "      <td>NaN</td>\n",
       "      <td>Unknown</td>\n",
       "    </tr>\n",
       "    <tr>\n",
       "      <th>16714</th>\n",
       "      <td>Winning Post 8 2016</td>\n",
       "      <td>PSV</td>\n",
       "      <td>2016.0</td>\n",
       "      <td>Simulation</td>\n",
       "      <td>0.00</td>\n",
       "      <td>0.00</td>\n",
       "      <td>0.01</td>\n",
       "      <td>0.00</td>\n",
       "      <td>-10.0</td>\n",
       "      <td>NaN</td>\n",
       "      <td>Unknown</td>\n",
       "    </tr>\n",
       "  </tbody>\n",
       "</table>\n",
       "<p>6605 rows × 11 columns</p>\n",
       "</div>"
      ],
      "text/plain": [
       "                                name platform  year_of_release         genre  \\\n",
       "1                  Super Mario Bros.      NES           1985.0      Platform   \n",
       "4           Pokemon Red/Pokemon Blue       GB           1996.0  Role-Playing   \n",
       "5                             Tetris       GB           1989.0        Puzzle   \n",
       "9                          Duck Hunt      NES           1984.0       Shooter   \n",
       "10                        Nintendogs       DS           2005.0    Simulation   \n",
       "...                              ...      ...              ...           ...   \n",
       "16710  Samurai Warriors: Sanada Maru      PS3           2016.0        Action   \n",
       "16711               LMA Manager 2007     X360           2006.0        Sports   \n",
       "16712        Haitaka no Psychedelica      PSV           2016.0     Adventure   \n",
       "16713               Spirits & Spells      GBA           2003.0      Platform   \n",
       "16714            Winning Post 8 2016      PSV           2016.0    Simulation   \n",
       "\n",
       "       na_sales  eu_sales  jp_sales  other_sales  critic_score user_score  \\\n",
       "1         29.08      3.58      6.81         0.77         -10.0        NaN   \n",
       "4         11.27      8.89     10.22         1.00         -10.0        NaN   \n",
       "5         23.20      2.26      4.22         0.58         -10.0        NaN   \n",
       "9         26.93      0.63      0.28         0.47         -10.0        NaN   \n",
       "10         9.05     10.95      1.93         2.74         -10.0        NaN   \n",
       "...         ...       ...       ...          ...           ...        ...   \n",
       "16710      0.00      0.00      0.01         0.00         -10.0        NaN   \n",
       "16711      0.00      0.01      0.00         0.00         -10.0        NaN   \n",
       "16712      0.00      0.00      0.01         0.00         -10.0        NaN   \n",
       "16713      0.01      0.00      0.00         0.00         -10.0        NaN   \n",
       "16714      0.00      0.00      0.01         0.00         -10.0        NaN   \n",
       "\n",
       "        rating  \n",
       "1      Unknown  \n",
       "4      Unknown  \n",
       "5      Unknown  \n",
       "9      Unknown  \n",
       "10     Unknown  \n",
       "...        ...  \n",
       "16710  Unknown  \n",
       "16711  Unknown  \n",
       "16712  Unknown  \n",
       "16713  Unknown  \n",
       "16714  Unknown  \n",
       "\n",
       "[6605 rows x 11 columns]"
      ]
     },
     "metadata": {},
     "output_type": "display_data"
    },
    {
     "data": {
      "text/plain": [
       "'процент пропусков от всего датасета'"
      ]
     },
     "metadata": {},
     "output_type": "display_data"
    },
    {
     "data": {
      "text/plain": [
       "40.166626125030405"
      ]
     },
     "metadata": {},
     "output_type": "display_data"
    }
   ],
   "source": [
    "# колонка user_score\n",
    "display(games[games.user_score.isna()])\n",
    "display('процент пропусков от всего датасета', games['user_score'].isna().mean()*100)"
   ]
  },
  {
   "cell_type": "markdown",
   "id": "218fb37e",
   "metadata": {},
   "source": [
    "Как и в случае с `rating` пропущенных значений очень много и не предоставляется возможным их восстановить, также ставим заглушку 'Unknown'"
   ]
  },
  {
   "cell_type": "code",
   "execution_count": 16,
   "id": "b65e1724",
   "metadata": {},
   "outputs": [],
   "source": [
    "#games['user_score'] = games['user_score'].astype('float')*10"
   ]
  },
  {
   "cell_type": "code",
   "execution_count": 17,
   "id": "811b335f",
   "metadata": {},
   "outputs": [
    {
     "data": {
      "text/plain": [
       "-10    6605\n",
       "tbd    2376\n",
       "7.8     322\n",
       "8       285\n",
       "8.2     276\n",
       "       ... \n",
       "1.3       2\n",
       "0.5       2\n",
       "1         2\n",
       "0         1\n",
       "9.7       1\n",
       "Name: user_score, Length: 97, dtype: int64"
      ]
     },
     "execution_count": 17,
     "metadata": {},
     "output_type": "execute_result"
    }
   ],
   "source": [
    "games['user_score'] = games['user_score'].fillna('-10')\n",
    "games.user_score.value_counts()"
   ]
  },
  {
   "cell_type": "markdown",
   "id": "4c883158",
   "metadata": {},
   "source": [
    "Разберемся с 'tbd'\n",
    "\n",
    "tbd означает `to be determined`. То есть в будущем подлежит определению. Следовательно это точно такие же неопределенные значения, их можно преобразовать в '-10'. "
   ]
  },
  {
   "cell_type": "code",
   "execution_count": 18,
   "id": "123c7115",
   "metadata": {},
   "outputs": [
    {
     "name": "stdout",
     "output_type": "stream",
     "text": [
      "<class 'pandas.core.frame.DataFrame'>\n",
      "Int64Index: 16444 entries, 0 to 16714\n",
      "Data columns (total 11 columns):\n",
      " #   Column           Non-Null Count  Dtype  \n",
      "---  ------           --------------  -----  \n",
      " 0   name             16444 non-null  object \n",
      " 1   platform         16444 non-null  object \n",
      " 2   year_of_release  16444 non-null  float64\n",
      " 3   genre            16444 non-null  object \n",
      " 4   na_sales         16444 non-null  float64\n",
      " 5   eu_sales         16444 non-null  float64\n",
      " 6   jp_sales         16444 non-null  float64\n",
      " 7   other_sales      16444 non-null  float64\n",
      " 8   critic_score     16444 non-null  float64\n",
      " 9   user_score       16444 non-null  float64\n",
      " 10  rating           16444 non-null  object \n",
      "dtypes: float64(7), object(4)\n",
      "memory usage: 1.5+ MB\n"
     ]
    }
   ],
   "source": [
    "games.loc[games['user_score'] == 'tbd', 'user_score'] = '-10'\n",
    "games.user_score.value_counts()\n",
    "games['user_score'] = games['user_score'].astype('float')\n",
    "#games.loc[games['user_score'] == '-10', 'user_score'] = 'Unknown'\n",
    "\n",
    "games['user_score'] = games['user_score'].astype('float')\n",
    "games.critic_score.value_counts()\n",
    "games.info()"
   ]
  },
  {
   "cell_type": "markdown",
   "id": "54cf2a3d",
   "metadata": {},
   "source": [
    "### year_of_release"
   ]
  },
  {
   "cell_type": "markdown",
   "id": "00dbbffa",
   "metadata": {},
   "source": [
    "Приведем года в тип данных int, так как года измеряются целыми числами"
   ]
  },
  {
   "cell_type": "code",
   "execution_count": 19,
   "id": "63c91dcc",
   "metadata": {},
   "outputs": [
    {
     "name": "stdout",
     "output_type": "stream",
     "text": [
      "<class 'pandas.core.frame.DataFrame'>\n",
      "Int64Index: 16444 entries, 0 to 16714\n",
      "Data columns (total 11 columns):\n",
      " #   Column           Non-Null Count  Dtype  \n",
      "---  ------           --------------  -----  \n",
      " 0   name             16444 non-null  object \n",
      " 1   platform         16444 non-null  object \n",
      " 2   year_of_release  16444 non-null  int64  \n",
      " 3   genre            16444 non-null  object \n",
      " 4   na_sales         16444 non-null  float64\n",
      " 5   eu_sales         16444 non-null  float64\n",
      " 6   jp_sales         16444 non-null  float64\n",
      " 7   other_sales      16444 non-null  float64\n",
      " 8   critic_score     16444 non-null  float64\n",
      " 9   user_score       16444 non-null  float64\n",
      " 10  rating           16444 non-null  object \n",
      "dtypes: float64(6), int64(1), object(4)\n",
      "memory usage: 1.5+ MB\n"
     ]
    }
   ],
   "source": [
    "# приведем типы данных\n",
    "games['year_of_release'] = games['year_of_release'].astype('int')\n",
    "\n",
    "#test\n",
    "games.info()"
   ]
  },
  {
   "cell_type": "markdown",
   "id": "a0cf3de1",
   "metadata": {},
   "source": [
    "### общие продажи по регионам"
   ]
  },
  {
   "cell_type": "code",
   "execution_count": 20,
   "id": "571f13d3",
   "metadata": {},
   "outputs": [
    {
     "data": {
      "text/html": [
       "<div>\n",
       "<style scoped>\n",
       "    .dataframe tbody tr th:only-of-type {\n",
       "        vertical-align: middle;\n",
       "    }\n",
       "\n",
       "    .dataframe tbody tr th {\n",
       "        vertical-align: top;\n",
       "    }\n",
       "\n",
       "    .dataframe thead th {\n",
       "        text-align: right;\n",
       "    }\n",
       "</style>\n",
       "<table border=\"1\" class=\"dataframe\">\n",
       "  <thead>\n",
       "    <tr style=\"text-align: right;\">\n",
       "      <th></th>\n",
       "      <th>name</th>\n",
       "      <th>platform</th>\n",
       "      <th>year_of_release</th>\n",
       "      <th>genre</th>\n",
       "      <th>na_sales</th>\n",
       "      <th>eu_sales</th>\n",
       "      <th>jp_sales</th>\n",
       "      <th>other_sales</th>\n",
       "      <th>critic_score</th>\n",
       "      <th>user_score</th>\n",
       "      <th>rating</th>\n",
       "      <th>general_sales</th>\n",
       "    </tr>\n",
       "  </thead>\n",
       "  <tbody>\n",
       "    <tr>\n",
       "      <th>0</th>\n",
       "      <td>Wii Sports</td>\n",
       "      <td>Wii</td>\n",
       "      <td>2006</td>\n",
       "      <td>Sports</td>\n",
       "      <td>41.36</td>\n",
       "      <td>28.96</td>\n",
       "      <td>3.77</td>\n",
       "      <td>8.45</td>\n",
       "      <td>76.0</td>\n",
       "      <td>8.0</td>\n",
       "      <td>E</td>\n",
       "      <td>82.54</td>\n",
       "    </tr>\n",
       "    <tr>\n",
       "      <th>1</th>\n",
       "      <td>Super Mario Bros.</td>\n",
       "      <td>NES</td>\n",
       "      <td>1985</td>\n",
       "      <td>Platform</td>\n",
       "      <td>29.08</td>\n",
       "      <td>3.58</td>\n",
       "      <td>6.81</td>\n",
       "      <td>0.77</td>\n",
       "      <td>-10.0</td>\n",
       "      <td>-10.0</td>\n",
       "      <td>Unknown</td>\n",
       "      <td>40.24</td>\n",
       "    </tr>\n",
       "    <tr>\n",
       "      <th>2</th>\n",
       "      <td>Mario Kart Wii</td>\n",
       "      <td>Wii</td>\n",
       "      <td>2008</td>\n",
       "      <td>Racing</td>\n",
       "      <td>15.68</td>\n",
       "      <td>12.76</td>\n",
       "      <td>3.79</td>\n",
       "      <td>3.29</td>\n",
       "      <td>82.0</td>\n",
       "      <td>8.3</td>\n",
       "      <td>E</td>\n",
       "      <td>35.52</td>\n",
       "    </tr>\n",
       "    <tr>\n",
       "      <th>3</th>\n",
       "      <td>Wii Sports Resort</td>\n",
       "      <td>Wii</td>\n",
       "      <td>2009</td>\n",
       "      <td>Sports</td>\n",
       "      <td>15.61</td>\n",
       "      <td>10.93</td>\n",
       "      <td>3.28</td>\n",
       "      <td>2.95</td>\n",
       "      <td>80.0</td>\n",
       "      <td>8.0</td>\n",
       "      <td>E</td>\n",
       "      <td>32.77</td>\n",
       "    </tr>\n",
       "    <tr>\n",
       "      <th>4</th>\n",
       "      <td>Pokemon Red/Pokemon Blue</td>\n",
       "      <td>GB</td>\n",
       "      <td>1996</td>\n",
       "      <td>Role-Playing</td>\n",
       "      <td>11.27</td>\n",
       "      <td>8.89</td>\n",
       "      <td>10.22</td>\n",
       "      <td>1.00</td>\n",
       "      <td>-10.0</td>\n",
       "      <td>-10.0</td>\n",
       "      <td>Unknown</td>\n",
       "      <td>31.38</td>\n",
       "    </tr>\n",
       "    <tr>\n",
       "      <th>5</th>\n",
       "      <td>Tetris</td>\n",
       "      <td>GB</td>\n",
       "      <td>1989</td>\n",
       "      <td>Puzzle</td>\n",
       "      <td>23.20</td>\n",
       "      <td>2.26</td>\n",
       "      <td>4.22</td>\n",
       "      <td>0.58</td>\n",
       "      <td>-10.0</td>\n",
       "      <td>-10.0</td>\n",
       "      <td>Unknown</td>\n",
       "      <td>30.26</td>\n",
       "    </tr>\n",
       "    <tr>\n",
       "      <th>6</th>\n",
       "      <td>New Super Mario Bros.</td>\n",
       "      <td>DS</td>\n",
       "      <td>2006</td>\n",
       "      <td>Platform</td>\n",
       "      <td>11.28</td>\n",
       "      <td>9.14</td>\n",
       "      <td>6.50</td>\n",
       "      <td>2.88</td>\n",
       "      <td>89.0</td>\n",
       "      <td>8.5</td>\n",
       "      <td>E</td>\n",
       "      <td>29.80</td>\n",
       "    </tr>\n",
       "    <tr>\n",
       "      <th>7</th>\n",
       "      <td>Wii Play</td>\n",
       "      <td>Wii</td>\n",
       "      <td>2006</td>\n",
       "      <td>Misc</td>\n",
       "      <td>13.96</td>\n",
       "      <td>9.18</td>\n",
       "      <td>2.93</td>\n",
       "      <td>2.84</td>\n",
       "      <td>58.0</td>\n",
       "      <td>6.6</td>\n",
       "      <td>E</td>\n",
       "      <td>28.91</td>\n",
       "    </tr>\n",
       "    <tr>\n",
       "      <th>8</th>\n",
       "      <td>New Super Mario Bros. Wii</td>\n",
       "      <td>Wii</td>\n",
       "      <td>2009</td>\n",
       "      <td>Platform</td>\n",
       "      <td>14.44</td>\n",
       "      <td>6.94</td>\n",
       "      <td>4.70</td>\n",
       "      <td>2.24</td>\n",
       "      <td>87.0</td>\n",
       "      <td>8.4</td>\n",
       "      <td>E</td>\n",
       "      <td>28.32</td>\n",
       "    </tr>\n",
       "    <tr>\n",
       "      <th>9</th>\n",
       "      <td>Duck Hunt</td>\n",
       "      <td>NES</td>\n",
       "      <td>1984</td>\n",
       "      <td>Shooter</td>\n",
       "      <td>26.93</td>\n",
       "      <td>0.63</td>\n",
       "      <td>0.28</td>\n",
       "      <td>0.47</td>\n",
       "      <td>-10.0</td>\n",
       "      <td>-10.0</td>\n",
       "      <td>Unknown</td>\n",
       "      <td>28.31</td>\n",
       "    </tr>\n",
       "    <tr>\n",
       "      <th>10</th>\n",
       "      <td>Nintendogs</td>\n",
       "      <td>DS</td>\n",
       "      <td>2005</td>\n",
       "      <td>Simulation</td>\n",
       "      <td>9.05</td>\n",
       "      <td>10.95</td>\n",
       "      <td>1.93</td>\n",
       "      <td>2.74</td>\n",
       "      <td>-10.0</td>\n",
       "      <td>-10.0</td>\n",
       "      <td>Unknown</td>\n",
       "      <td>24.67</td>\n",
       "    </tr>\n",
       "    <tr>\n",
       "      <th>11</th>\n",
       "      <td>Mario Kart DS</td>\n",
       "      <td>DS</td>\n",
       "      <td>2005</td>\n",
       "      <td>Racing</td>\n",
       "      <td>9.71</td>\n",
       "      <td>7.47</td>\n",
       "      <td>4.13</td>\n",
       "      <td>1.90</td>\n",
       "      <td>91.0</td>\n",
       "      <td>8.6</td>\n",
       "      <td>E</td>\n",
       "      <td>23.21</td>\n",
       "    </tr>\n",
       "    <tr>\n",
       "      <th>12</th>\n",
       "      <td>Pokemon Gold/Pokemon Silver</td>\n",
       "      <td>GB</td>\n",
       "      <td>1999</td>\n",
       "      <td>Role-Playing</td>\n",
       "      <td>9.00</td>\n",
       "      <td>6.18</td>\n",
       "      <td>7.20</td>\n",
       "      <td>0.71</td>\n",
       "      <td>-10.0</td>\n",
       "      <td>-10.0</td>\n",
       "      <td>Unknown</td>\n",
       "      <td>23.09</td>\n",
       "    </tr>\n",
       "    <tr>\n",
       "      <th>13</th>\n",
       "      <td>Wii Fit</td>\n",
       "      <td>Wii</td>\n",
       "      <td>2007</td>\n",
       "      <td>Sports</td>\n",
       "      <td>8.92</td>\n",
       "      <td>8.03</td>\n",
       "      <td>3.60</td>\n",
       "      <td>2.15</td>\n",
       "      <td>80.0</td>\n",
       "      <td>7.7</td>\n",
       "      <td>E</td>\n",
       "      <td>22.70</td>\n",
       "    </tr>\n",
       "    <tr>\n",
       "      <th>14</th>\n",
       "      <td>Kinect Adventures!</td>\n",
       "      <td>X360</td>\n",
       "      <td>2010</td>\n",
       "      <td>Misc</td>\n",
       "      <td>15.00</td>\n",
       "      <td>4.89</td>\n",
       "      <td>0.24</td>\n",
       "      <td>1.69</td>\n",
       "      <td>61.0</td>\n",
       "      <td>6.3</td>\n",
       "      <td>E</td>\n",
       "      <td>21.82</td>\n",
       "    </tr>\n",
       "    <tr>\n",
       "      <th>15</th>\n",
       "      <td>Wii Fit Plus</td>\n",
       "      <td>Wii</td>\n",
       "      <td>2009</td>\n",
       "      <td>Sports</td>\n",
       "      <td>9.01</td>\n",
       "      <td>8.49</td>\n",
       "      <td>2.53</td>\n",
       "      <td>1.77</td>\n",
       "      <td>80.0</td>\n",
       "      <td>7.4</td>\n",
       "      <td>E</td>\n",
       "      <td>21.80</td>\n",
       "    </tr>\n",
       "    <tr>\n",
       "      <th>16</th>\n",
       "      <td>Grand Theft Auto V</td>\n",
       "      <td>PS3</td>\n",
       "      <td>2013</td>\n",
       "      <td>Action</td>\n",
       "      <td>7.02</td>\n",
       "      <td>9.09</td>\n",
       "      <td>0.98</td>\n",
       "      <td>3.96</td>\n",
       "      <td>97.0</td>\n",
       "      <td>8.2</td>\n",
       "      <td>M</td>\n",
       "      <td>21.05</td>\n",
       "    </tr>\n",
       "    <tr>\n",
       "      <th>17</th>\n",
       "      <td>Grand Theft Auto: San Andreas</td>\n",
       "      <td>PS2</td>\n",
       "      <td>2004</td>\n",
       "      <td>Action</td>\n",
       "      <td>9.43</td>\n",
       "      <td>0.40</td>\n",
       "      <td>0.41</td>\n",
       "      <td>10.57</td>\n",
       "      <td>95.0</td>\n",
       "      <td>9.0</td>\n",
       "      <td>M</td>\n",
       "      <td>20.81</td>\n",
       "    </tr>\n",
       "    <tr>\n",
       "      <th>18</th>\n",
       "      <td>Super Mario World</td>\n",
       "      <td>SNES</td>\n",
       "      <td>1990</td>\n",
       "      <td>Platform</td>\n",
       "      <td>12.78</td>\n",
       "      <td>3.75</td>\n",
       "      <td>3.54</td>\n",
       "      <td>0.55</td>\n",
       "      <td>-10.0</td>\n",
       "      <td>-10.0</td>\n",
       "      <td>Unknown</td>\n",
       "      <td>20.62</td>\n",
       "    </tr>\n",
       "    <tr>\n",
       "      <th>19</th>\n",
       "      <td>Brain Age: Train Your Brain in Minutes a Day</td>\n",
       "      <td>DS</td>\n",
       "      <td>2005</td>\n",
       "      <td>Misc</td>\n",
       "      <td>4.74</td>\n",
       "      <td>9.20</td>\n",
       "      <td>4.16</td>\n",
       "      <td>2.04</td>\n",
       "      <td>77.0</td>\n",
       "      <td>7.9</td>\n",
       "      <td>E</td>\n",
       "      <td>20.14</td>\n",
       "    </tr>\n",
       "  </tbody>\n",
       "</table>\n",
       "</div>"
      ],
      "text/plain": [
       "                                            name platform  year_of_release  \\\n",
       "0                                     Wii Sports      Wii             2006   \n",
       "1                              Super Mario Bros.      NES             1985   \n",
       "2                                 Mario Kart Wii      Wii             2008   \n",
       "3                              Wii Sports Resort      Wii             2009   \n",
       "4                       Pokemon Red/Pokemon Blue       GB             1996   \n",
       "5                                         Tetris       GB             1989   \n",
       "6                          New Super Mario Bros.       DS             2006   \n",
       "7                                       Wii Play      Wii             2006   \n",
       "8                      New Super Mario Bros. Wii      Wii             2009   \n",
       "9                                      Duck Hunt      NES             1984   \n",
       "10                                    Nintendogs       DS             2005   \n",
       "11                                 Mario Kart DS       DS             2005   \n",
       "12                   Pokemon Gold/Pokemon Silver       GB             1999   \n",
       "13                                       Wii Fit      Wii             2007   \n",
       "14                            Kinect Adventures!     X360             2010   \n",
       "15                                  Wii Fit Plus      Wii             2009   \n",
       "16                            Grand Theft Auto V      PS3             2013   \n",
       "17                 Grand Theft Auto: San Andreas      PS2             2004   \n",
       "18                             Super Mario World     SNES             1990   \n",
       "19  Brain Age: Train Your Brain in Minutes a Day       DS             2005   \n",
       "\n",
       "           genre  na_sales  eu_sales  jp_sales  other_sales  critic_score  \\\n",
       "0         Sports     41.36     28.96      3.77         8.45          76.0   \n",
       "1       Platform     29.08      3.58      6.81         0.77         -10.0   \n",
       "2         Racing     15.68     12.76      3.79         3.29          82.0   \n",
       "3         Sports     15.61     10.93      3.28         2.95          80.0   \n",
       "4   Role-Playing     11.27      8.89     10.22         1.00         -10.0   \n",
       "5         Puzzle     23.20      2.26      4.22         0.58         -10.0   \n",
       "6       Platform     11.28      9.14      6.50         2.88          89.0   \n",
       "7           Misc     13.96      9.18      2.93         2.84          58.0   \n",
       "8       Platform     14.44      6.94      4.70         2.24          87.0   \n",
       "9        Shooter     26.93      0.63      0.28         0.47         -10.0   \n",
       "10    Simulation      9.05     10.95      1.93         2.74         -10.0   \n",
       "11        Racing      9.71      7.47      4.13         1.90          91.0   \n",
       "12  Role-Playing      9.00      6.18      7.20         0.71         -10.0   \n",
       "13        Sports      8.92      8.03      3.60         2.15          80.0   \n",
       "14          Misc     15.00      4.89      0.24         1.69          61.0   \n",
       "15        Sports      9.01      8.49      2.53         1.77          80.0   \n",
       "16        Action      7.02      9.09      0.98         3.96          97.0   \n",
       "17        Action      9.43      0.40      0.41        10.57          95.0   \n",
       "18      Platform     12.78      3.75      3.54         0.55         -10.0   \n",
       "19          Misc      4.74      9.20      4.16         2.04          77.0   \n",
       "\n",
       "    user_score   rating  general_sales  \n",
       "0          8.0        E          82.54  \n",
       "1        -10.0  Unknown          40.24  \n",
       "2          8.3        E          35.52  \n",
       "3          8.0        E          32.77  \n",
       "4        -10.0  Unknown          31.38  \n",
       "5        -10.0  Unknown          30.26  \n",
       "6          8.5        E          29.80  \n",
       "7          6.6        E          28.91  \n",
       "8          8.4        E          28.32  \n",
       "9        -10.0  Unknown          28.31  \n",
       "10       -10.0  Unknown          24.67  \n",
       "11         8.6        E          23.21  \n",
       "12       -10.0  Unknown          23.09  \n",
       "13         7.7        E          22.70  \n",
       "14         6.3        E          21.82  \n",
       "15         7.4        E          21.80  \n",
       "16         8.2        M          21.05  \n",
       "17         9.0        M          20.81  \n",
       "18       -10.0  Unknown          20.62  \n",
       "19         7.9        E          20.14  "
      ]
     },
     "execution_count": 20,
     "metadata": {},
     "output_type": "execute_result"
    }
   ],
   "source": [
    "# Найдем общие продажи по регионам\n",
    "games['general_sales'] = games[['na_sales','eu_sales','jp_sales', 'other_sales']].sum(axis = 1)\n",
    "\n",
    "#test\n",
    "games.head(20)"
   ]
  },
  {
   "cell_type": "markdown",
   "id": "c45f50f4",
   "metadata": {},
   "source": [
    "## Вывод"
   ]
  },
  {
   "cell_type": "markdown",
   "id": "b04916ec",
   "metadata": {},
   "source": [
    "- [x]  Заменил названия столбцов (привел к нижнему регистру);\n",
    "- [x]  Преобразовал данные в нужные типы. Описал, в каких столбцах заменил тип данных и почему;\n",
    "- [x]  Обработал пропуски;\n",
    "- [x]  Объяснил, почему заполнил пропуски определённым образом или почему не стал это делать;\n",
    "- [x]  Описал причины, которые могли привести к пропускам;\n",
    "- [x]  Обратил внимание на аббревиатуру 'tbd' в столбце с оценкой пользователей. Отдельно разобрал это значение и описал, как его обработал;\n",
    "- [x]  Посчитал суммарные продажи во всех регионах и записал их в отдельный столбец.\n",
    "\n",
    "--------\n",
    "\n",
    "\n"
   ]
  },
  {
   "cell_type": "markdown",
   "id": "730b2902",
   "metadata": {},
   "source": [
    "# Исследовательский анализ"
   ]
  },
  {
   "cell_type": "markdown",
   "id": "81787638",
   "metadata": {},
   "source": [
    "## Сколько игр выпускалось в разные годы. Важны ли данные за все периоды?"
   ]
  },
  {
   "cell_type": "code",
   "execution_count": 21,
   "id": "cf029416",
   "metadata": {},
   "outputs": [
    {
     "data": {
      "image/png": "[encoded data removed]",
      "text/plain": [
       "<Figure size 1080x648 with 1 Axes>"
      ]
     },
     "metadata": {
      "needs_background": "light"
     },
     "output_type": "display_data"
    },
    {
     "data": {
      "text/plain": [
       "2008    1427\n",
       "2009    1426\n",
       "2010    1255\n",
       "2007    1197\n",
       "2011    1136\n",
       "Name: year_of_release, dtype: int64"
      ]
     },
     "execution_count": 21,
     "metadata": {},
     "output_type": "execute_result"
    }
   ],
   "source": [
    "schedule_by_year = games.pivot_table(index='year_of_release', values='general_sales', aggfunc='count')\n",
    "plt.figure(figsize=(15, 9))\n",
    "(sns.lineplot(data = schedule_by_year, x = schedule_by_year.index, y = 'general_sales', color = 'blue')\n",
    "    .set(title = 'Динамика выпуска игр по годам', xlabel = 'Год', ylabel = 'Количество выпущенных игр'))\n",
    "plt.show()\n",
    "\n",
    "games.year_of_release.value_counts().head()"
   ]
  },
  {
   "cell_type": "markdown",
   "id": "0239d94c",
   "metadata": {},
   "source": [
    "### Вывод"
   ]
  },
  {
   "cell_type": "markdown",
   "id": "86dd8c9e",
   "metadata": {},
   "source": [
    "На графике видно, что развитие игр с 1980 года по 2000 было слабым. \n",
    "\n",
    "В 2000 году мы видим активный рост количества игр на полках магазинов. Продолжался этот рост до 2009 года. \n",
    "\n",
    "На 2008 и 2009 год приходится пик графика, значит в эти года производили больше всего игр (1427 и 1426 игр соответсвенно). \n",
    "\n",
    "Начиная с 2010 года количество выпускаемых игр значительно снизилось и остановилось на отметке в 502 игры. \n",
    "\n",
    "Данные за все периоды важны, благодаря этому можно проследить динамику разработки игр. "
   ]
  },
  {
   "cell_type": "markdown",
   "id": "c1fd8a33",
   "metadata": {},
   "source": [
    "## Продажи по платформам"
   ]
  },
  {
   "cell_type": "code",
   "execution_count": 22,
   "id": "68d52a96",
   "metadata": {
    "scrolled": false
   },
   "outputs": [
    {
     "data": {
      "image/png": "[encoded data removed]",
      "text/plain": [
       "<Figure size 1080x648 with 1 Axes>"
      ]
     },
     "metadata": {
      "needs_background": "light"
     },
     "output_type": "display_data"
    }
   ],
   "source": [
    "platform_sales = (games.pivot_table(index='platform', values='general_sales', aggfunc='sum')\n",
    "    .sort_values('general_sales', ascending=False)\n",
    ")\n",
    "plt.figure(figsize=(15, 9))\n",
    "(sns.barplot(data = platform_sales, x = platform_sales.index, y = 'general_sales', color = 'blue')\n",
    "    .set(title = 'Продажи по платформам', xlabel = 'Платформы', ylabel = 'Общие продажи'))\n",
    "plt.show()"
   ]
  },
  {
   "cell_type": "code",
   "execution_count": 23,
   "id": "78fe3e9b",
   "metadata": {},
   "outputs": [
    {
     "data": {
      "text/html": [
       "<div>\n",
       "<style scoped>\n",
       "    .dataframe tbody tr th:only-of-type {\n",
       "        vertical-align: middle;\n",
       "    }\n",
       "\n",
       "    .dataframe tbody tr th {\n",
       "        vertical-align: top;\n",
       "    }\n",
       "\n",
       "    .dataframe thead th {\n",
       "        text-align: right;\n",
       "    }\n",
       "</style>\n",
       "<table border=\"1\" class=\"dataframe\">\n",
       "  <thead>\n",
       "    <tr style=\"text-align: right;\">\n",
       "      <th></th>\n",
       "      <th>general_sales</th>\n",
       "    </tr>\n",
       "    <tr>\n",
       "      <th>platform</th>\n",
       "      <th></th>\n",
       "    </tr>\n",
       "  </thead>\n",
       "  <tbody>\n",
       "    <tr>\n",
       "      <th>PS2</th>\n",
       "      <td>1233.56</td>\n",
       "    </tr>\n",
       "    <tr>\n",
       "      <th>X360</th>\n",
       "      <td>961.24</td>\n",
       "    </tr>\n",
       "    <tr>\n",
       "      <th>PS3</th>\n",
       "      <td>931.34</td>\n",
       "    </tr>\n",
       "    <tr>\n",
       "      <th>Wii</th>\n",
       "      <td>891.18</td>\n",
       "    </tr>\n",
       "    <tr>\n",
       "      <th>DS</th>\n",
       "      <td>802.78</td>\n",
       "    </tr>\n",
       "    <tr>\n",
       "      <th>PS</th>\n",
       "      <td>727.58</td>\n",
       "    </tr>\n",
       "    <tr>\n",
       "      <th>PS4</th>\n",
       "      <td>314.14</td>\n",
       "    </tr>\n",
       "    <tr>\n",
       "      <th>GBA</th>\n",
       "      <td>312.88</td>\n",
       "    </tr>\n",
       "    <tr>\n",
       "      <th>PSP</th>\n",
       "      <td>289.53</td>\n",
       "    </tr>\n",
       "    <tr>\n",
       "      <th>3DS</th>\n",
       "      <td>257.81</td>\n",
       "    </tr>\n",
       "    <tr>\n",
       "      <th>PC</th>\n",
       "      <td>255.76</td>\n",
       "    </tr>\n",
       "    <tr>\n",
       "      <th>GB</th>\n",
       "      <td>254.43</td>\n",
       "    </tr>\n",
       "    <tr>\n",
       "      <th>XB</th>\n",
       "      <td>251.57</td>\n",
       "    </tr>\n",
       "    <tr>\n",
       "      <th>NES</th>\n",
       "      <td>251.05</td>\n",
       "    </tr>\n",
       "    <tr>\n",
       "      <th>N64</th>\n",
       "      <td>218.01</td>\n",
       "    </tr>\n",
       "    <tr>\n",
       "      <th>SNES</th>\n",
       "      <td>200.04</td>\n",
       "    </tr>\n",
       "    <tr>\n",
       "      <th>GC</th>\n",
       "      <td>196.73</td>\n",
       "    </tr>\n",
       "    <tr>\n",
       "      <th>XOne</th>\n",
       "      <td>159.32</td>\n",
       "    </tr>\n",
       "    <tr>\n",
       "      <th>2600</th>\n",
       "      <td>86.48</td>\n",
       "    </tr>\n",
       "    <tr>\n",
       "      <th>WiiU</th>\n",
       "      <td>82.19</td>\n",
       "    </tr>\n",
       "    <tr>\n",
       "      <th>PSV</th>\n",
       "      <td>53.81</td>\n",
       "    </tr>\n",
       "    <tr>\n",
       "      <th>SAT</th>\n",
       "      <td>33.59</td>\n",
       "    </tr>\n",
       "    <tr>\n",
       "      <th>GEN</th>\n",
       "      <td>28.35</td>\n",
       "    </tr>\n",
       "    <tr>\n",
       "      <th>DC</th>\n",
       "      <td>15.95</td>\n",
       "    </tr>\n",
       "    <tr>\n",
       "      <th>SCD</th>\n",
       "      <td>1.86</td>\n",
       "    </tr>\n",
       "    <tr>\n",
       "      <th>NG</th>\n",
       "      <td>1.44</td>\n",
       "    </tr>\n",
       "    <tr>\n",
       "      <th>WS</th>\n",
       "      <td>1.42</td>\n",
       "    </tr>\n",
       "    <tr>\n",
       "      <th>TG16</th>\n",
       "      <td>0.16</td>\n",
       "    </tr>\n",
       "    <tr>\n",
       "      <th>3DO</th>\n",
       "      <td>0.10</td>\n",
       "    </tr>\n",
       "    <tr>\n",
       "      <th>GG</th>\n",
       "      <td>0.04</td>\n",
       "    </tr>\n",
       "    <tr>\n",
       "      <th>PCFX</th>\n",
       "      <td>0.03</td>\n",
       "    </tr>\n",
       "  </tbody>\n",
       "</table>\n",
       "</div>"
      ],
      "text/plain": [
       "          general_sales\n",
       "platform               \n",
       "PS2             1233.56\n",
       "X360             961.24\n",
       "PS3              931.34\n",
       "Wii              891.18\n",
       "DS               802.78\n",
       "PS               727.58\n",
       "PS4              314.14\n",
       "GBA              312.88\n",
       "PSP              289.53\n",
       "3DS              257.81\n",
       "PC               255.76\n",
       "GB               254.43\n",
       "XB               251.57\n",
       "NES              251.05\n",
       "N64              218.01\n",
       "SNES             200.04\n",
       "GC               196.73\n",
       "XOne             159.32\n",
       "2600              86.48\n",
       "WiiU              82.19\n",
       "PSV               53.81\n",
       "SAT               33.59\n",
       "GEN               28.35\n",
       "DC                15.95\n",
       "SCD                1.86\n",
       "NG                 1.44\n",
       "WS                 1.42\n",
       "TG16               0.16\n",
       "3DO                0.10\n",
       "GG                 0.04\n",
       "PCFX               0.03"
      ]
     },
     "execution_count": 23,
     "metadata": {},
     "output_type": "execute_result"
    }
   ],
   "source": [
    "platform_sales"
   ]
  },
  {
   "cell_type": "code",
   "execution_count": 24,
   "id": "03183ad4",
   "metadata": {
    "scrolled": false
   },
   "outputs": [
    {
     "name": "stdout",
     "output_type": "stream",
     "text": [
      "PS2\n"
     ]
    },
    {
     "data": {
      "image/png": "[encoded data removed]",
      "text/plain": [
       "<Figure size 432x288 with 1 Axes>"
      ]
     },
     "metadata": {
      "needs_background": "light"
     },
     "output_type": "display_data"
    },
    {
     "name": "stdout",
     "output_type": "stream",
     "text": [
      "X360\n"
     ]
    },
    {
     "data": {
      "image/png": "[encoded data removed]",
      "text/plain": [
       "<Figure size 432x288 with 1 Axes>"
      ]
     },
     "metadata": {
      "needs_background": "light"
     },
     "output_type": "display_data"
    },
    {
     "name": "stdout",
     "output_type": "stream",
     "text": [
      "PS3\n"
     ]
    },
    {
     "data": {
      "image/png": "[encoded data removed]",
      "text/plain": [
       "<Figure size 432x288 with 1 Axes>"
      ]
     },
     "metadata": {
      "needs_background": "light"
     },
     "output_type": "display_data"
    },
    {
     "name": "stdout",
     "output_type": "stream",
     "text": [
      "Wii\n"
     ]
    },
    {
     "data": {
      "image/png": "[encoded data removed]",
      "text/plain": [
       "<Figure size 432x288 with 1 Axes>"
      ]
     },
     "metadata": {
      "needs_background": "light"
     },
     "output_type": "display_data"
    },
    {
     "name": "stdout",
     "output_type": "stream",
     "text": [
      "DS\n"
     ]
    },
    {
     "data": {
      "image/png": "[encoded data removed]",
      "text/plain": [
       "<Figure size 432x288 with 1 Axes>"
      ]
     },
     "metadata": {
      "needs_background": "light"
     },
     "output_type": "display_data"
    },
    {
     "name": "stdout",
     "output_type": "stream",
     "text": [
      "PS\n"
     ]
    },
    {
     "data": {
      "image/png": "[encoded data removed]",
      "text/plain": [
       "<Figure size 432x288 with 1 Axes>"
      ]
     },
     "metadata": {
      "needs_background": "light"
     },
     "output_type": "display_data"
    }
   ],
   "source": [
    "# создаем цикл для формирования графиков\n",
    "\n",
    "for platform in platform_sales.index[:6]:\n",
    "    print(platform)\n",
    "    (games\n",
    "     .query('platform == @platform')\n",
    "     .pivot_table(index='year_of_release', values='general_sales', aggfunc='sum')\n",
    "     .plot(kind='bar')\n",
    "    )\n",
    "    plt.show()"
   ]
  },
  {
   "cell_type": "markdown",
   "id": "a67502d5",
   "metadata": {},
   "source": [
    "### Вывод"
   ]
  },
  {
   "cell_type": "markdown",
   "id": "8af68482",
   "metadata": {},
   "source": [
    "Наибольшее количество продаж было у игр для PS2. Это легко объясняется тем, что японские производители далеко шагнули вперед в плане развития игровых консолей. Не было аналогов новому PS2, люди охотно покупали новую приставку, а вместе с ней и игры. \n",
    "\n",
    "В топ 6 конкурентов среди продаж вошли:\n",
    "- PlayStation 2 (успешен в 2002-2004 годах)\n",
    "- Xbox360 (успешен в 2010-2011 годах)\n",
    "- PlayStation 3 (успешен в 2008-2011 годах)\n",
    "- Wii Nintendo (успешен в 2006-2009 годах)\n",
    "- Nintendo DS (успешен в 2007-2008 годах)\n",
    "- PlayStation (успешен в 1998-1999 годах)\n",
    "\n",
    "Остальные консоли не могут похвастаться таким объемом продаж. \n",
    "\n",
    "Новые платформы быстро набирают популярность, наращивают/удерживают ее в течение 3-4 лет и затем их продажи снижаются. \n",
    "При этом видно, что из представленного ТОПа все платформы уже не являются актуальными. "
   ]
  },
  {
   "cell_type": "markdown",
   "id": "9b0f38c1",
   "metadata": {},
   "source": [
    "## Актуальные данные"
   ]
  },
  {
   "cell_type": "markdown",
   "id": "4a2e1f21",
   "metadata": {},
   "source": [
    "Актуальными данными будем считать последние данные за 3 года с сохранением нынешнего для будущих анализов. Следовательно, нам надо оставить 2016 год, 2015 год и 2014 год, все, что было раньше – нас не интересует. "
   ]
  },
  {
   "cell_type": "code",
   "execution_count": 25,
   "id": "6dcc92f1",
   "metadata": {},
   "outputs": [],
   "source": [
    "# создаем таблицу с актуальными годами\n",
    "actual_games = games.query('year_of_release >= 2014').copy()"
   ]
  },
  {
   "cell_type": "code",
   "execution_count": 26,
   "id": "db75d133",
   "metadata": {},
   "outputs": [
    {
     "data": {
      "text/html": [
       "<div>\n",
       "<style scoped>\n",
       "    .dataframe tbody tr th:only-of-type {\n",
       "        vertical-align: middle;\n",
       "    }\n",
       "\n",
       "    .dataframe tbody tr th {\n",
       "        vertical-align: top;\n",
       "    }\n",
       "\n",
       "    .dataframe thead th {\n",
       "        text-align: right;\n",
       "    }\n",
       "</style>\n",
       "<table border=\"1\" class=\"dataframe\">\n",
       "  <thead>\n",
       "    <tr style=\"text-align: right;\">\n",
       "      <th></th>\n",
       "      <th>name</th>\n",
       "      <th>platform</th>\n",
       "      <th>year_of_release</th>\n",
       "      <th>genre</th>\n",
       "      <th>na_sales</th>\n",
       "      <th>eu_sales</th>\n",
       "      <th>jp_sales</th>\n",
       "      <th>other_sales</th>\n",
       "      <th>critic_score</th>\n",
       "      <th>user_score</th>\n",
       "      <th>rating</th>\n",
       "      <th>general_sales</th>\n",
       "    </tr>\n",
       "  </thead>\n",
       "  <tbody>\n",
       "    <tr>\n",
       "      <th>31</th>\n",
       "      <td>Call of Duty: Black Ops 3</td>\n",
       "      <td>PS4</td>\n",
       "      <td>2015</td>\n",
       "      <td>Shooter</td>\n",
       "      <td>6.03</td>\n",
       "      <td>5.86</td>\n",
       "      <td>0.36</td>\n",
       "      <td>2.38</td>\n",
       "      <td>-10.0</td>\n",
       "      <td>-10.0</td>\n",
       "      <td>Unknown</td>\n",
       "      <td>14.63</td>\n",
       "    </tr>\n",
       "    <tr>\n",
       "      <th>42</th>\n",
       "      <td>Grand Theft Auto V</td>\n",
       "      <td>PS4</td>\n",
       "      <td>2014</td>\n",
       "      <td>Action</td>\n",
       "      <td>3.96</td>\n",
       "      <td>6.31</td>\n",
       "      <td>0.38</td>\n",
       "      <td>1.97</td>\n",
       "      <td>97.0</td>\n",
       "      <td>8.3</td>\n",
       "      <td>M</td>\n",
       "      <td>12.62</td>\n",
       "    </tr>\n",
       "    <tr>\n",
       "      <th>47</th>\n",
       "      <td>Pokemon Omega Ruby/Pokemon Alpha Sapphire</td>\n",
       "      <td>3DS</td>\n",
       "      <td>2014</td>\n",
       "      <td>Role-Playing</td>\n",
       "      <td>4.35</td>\n",
       "      <td>3.49</td>\n",
       "      <td>3.10</td>\n",
       "      <td>0.74</td>\n",
       "      <td>-10.0</td>\n",
       "      <td>-10.0</td>\n",
       "      <td>Unknown</td>\n",
       "      <td>11.68</td>\n",
       "    </tr>\n",
       "    <tr>\n",
       "      <th>77</th>\n",
       "      <td>FIFA 16</td>\n",
       "      <td>PS4</td>\n",
       "      <td>2015</td>\n",
       "      <td>Sports</td>\n",
       "      <td>1.12</td>\n",
       "      <td>6.12</td>\n",
       "      <td>0.06</td>\n",
       "      <td>1.28</td>\n",
       "      <td>82.0</td>\n",
       "      <td>4.3</td>\n",
       "      <td>E</td>\n",
       "      <td>8.58</td>\n",
       "    </tr>\n",
       "    <tr>\n",
       "      <th>87</th>\n",
       "      <td>Star Wars Battlefront (2015)</td>\n",
       "      <td>PS4</td>\n",
       "      <td>2015</td>\n",
       "      <td>Shooter</td>\n",
       "      <td>2.99</td>\n",
       "      <td>3.49</td>\n",
       "      <td>0.22</td>\n",
       "      <td>1.28</td>\n",
       "      <td>-10.0</td>\n",
       "      <td>-10.0</td>\n",
       "      <td>Unknown</td>\n",
       "      <td>7.98</td>\n",
       "    </tr>\n",
       "    <tr>\n",
       "      <th>...</th>\n",
       "      <td>...</td>\n",
       "      <td>...</td>\n",
       "      <td>...</td>\n",
       "      <td>...</td>\n",
       "      <td>...</td>\n",
       "      <td>...</td>\n",
       "      <td>...</td>\n",
       "      <td>...</td>\n",
       "      <td>...</td>\n",
       "      <td>...</td>\n",
       "      <td>...</td>\n",
       "      <td>...</td>\n",
       "    </tr>\n",
       "    <tr>\n",
       "      <th>16703</th>\n",
       "      <td>Strawberry Nauts</td>\n",
       "      <td>PSV</td>\n",
       "      <td>2016</td>\n",
       "      <td>Adventure</td>\n",
       "      <td>0.00</td>\n",
       "      <td>0.00</td>\n",
       "      <td>0.01</td>\n",
       "      <td>0.00</td>\n",
       "      <td>-10.0</td>\n",
       "      <td>-10.0</td>\n",
       "      <td>Unknown</td>\n",
       "      <td>0.01</td>\n",
       "    </tr>\n",
       "    <tr>\n",
       "      <th>16707</th>\n",
       "      <td>Aiyoku no Eustia</td>\n",
       "      <td>PSV</td>\n",
       "      <td>2014</td>\n",
       "      <td>Misc</td>\n",
       "      <td>0.00</td>\n",
       "      <td>0.00</td>\n",
       "      <td>0.01</td>\n",
       "      <td>0.00</td>\n",
       "      <td>-10.0</td>\n",
       "      <td>-10.0</td>\n",
       "      <td>Unknown</td>\n",
       "      <td>0.01</td>\n",
       "    </tr>\n",
       "    <tr>\n",
       "      <th>16710</th>\n",
       "      <td>Samurai Warriors: Sanada Maru</td>\n",
       "      <td>PS3</td>\n",
       "      <td>2016</td>\n",
       "      <td>Action</td>\n",
       "      <td>0.00</td>\n",
       "      <td>0.00</td>\n",
       "      <td>0.01</td>\n",
       "      <td>0.00</td>\n",
       "      <td>-10.0</td>\n",
       "      <td>-10.0</td>\n",
       "      <td>Unknown</td>\n",
       "      <td>0.01</td>\n",
       "    </tr>\n",
       "    <tr>\n",
       "      <th>16712</th>\n",
       "      <td>Haitaka no Psychedelica</td>\n",
       "      <td>PSV</td>\n",
       "      <td>2016</td>\n",
       "      <td>Adventure</td>\n",
       "      <td>0.00</td>\n",
       "      <td>0.00</td>\n",
       "      <td>0.01</td>\n",
       "      <td>0.00</td>\n",
       "      <td>-10.0</td>\n",
       "      <td>-10.0</td>\n",
       "      <td>Unknown</td>\n",
       "      <td>0.01</td>\n",
       "    </tr>\n",
       "    <tr>\n",
       "      <th>16714</th>\n",
       "      <td>Winning Post 8 2016</td>\n",
       "      <td>PSV</td>\n",
       "      <td>2016</td>\n",
       "      <td>Simulation</td>\n",
       "      <td>0.00</td>\n",
       "      <td>0.00</td>\n",
       "      <td>0.01</td>\n",
       "      <td>0.00</td>\n",
       "      <td>-10.0</td>\n",
       "      <td>-10.0</td>\n",
       "      <td>Unknown</td>\n",
       "      <td>0.01</td>\n",
       "    </tr>\n",
       "  </tbody>\n",
       "</table>\n",
       "<p>1689 rows × 12 columns</p>\n",
       "</div>"
      ],
      "text/plain": [
       "                                            name platform  year_of_release  \\\n",
       "31                     Call of Duty: Black Ops 3      PS4             2015   \n",
       "42                            Grand Theft Auto V      PS4             2014   \n",
       "47     Pokemon Omega Ruby/Pokemon Alpha Sapphire      3DS             2014   \n",
       "77                                       FIFA 16      PS4             2015   \n",
       "87                  Star Wars Battlefront (2015)      PS4             2015   \n",
       "...                                          ...      ...              ...   \n",
       "16703                           Strawberry Nauts      PSV             2016   \n",
       "16707                           Aiyoku no Eustia      PSV             2014   \n",
       "16710              Samurai Warriors: Sanada Maru      PS3             2016   \n",
       "16712                    Haitaka no Psychedelica      PSV             2016   \n",
       "16714                        Winning Post 8 2016      PSV             2016   \n",
       "\n",
       "              genre  na_sales  eu_sales  jp_sales  other_sales  critic_score  \\\n",
       "31          Shooter      6.03      5.86      0.36         2.38         -10.0   \n",
       "42           Action      3.96      6.31      0.38         1.97          97.0   \n",
       "47     Role-Playing      4.35      3.49      3.10         0.74         -10.0   \n",
       "77           Sports      1.12      6.12      0.06         1.28          82.0   \n",
       "87          Shooter      2.99      3.49      0.22         1.28         -10.0   \n",
       "...             ...       ...       ...       ...          ...           ...   \n",
       "16703     Adventure      0.00      0.00      0.01         0.00         -10.0   \n",
       "16707          Misc      0.00      0.00      0.01         0.00         -10.0   \n",
       "16710        Action      0.00      0.00      0.01         0.00         -10.0   \n",
       "16712     Adventure      0.00      0.00      0.01         0.00         -10.0   \n",
       "16714    Simulation      0.00      0.00      0.01         0.00         -10.0   \n",
       "\n",
       "       user_score   rating  general_sales  \n",
       "31          -10.0  Unknown          14.63  \n",
       "42            8.3        M          12.62  \n",
       "47          -10.0  Unknown          11.68  \n",
       "77            4.3        E           8.58  \n",
       "87          -10.0  Unknown           7.98  \n",
       "...           ...      ...            ...  \n",
       "16703       -10.0  Unknown           0.01  \n",
       "16707       -10.0  Unknown           0.01  \n",
       "16710       -10.0  Unknown           0.01  \n",
       "16712       -10.0  Unknown           0.01  \n",
       "16714       -10.0  Unknown           0.01  \n",
       "\n",
       "[1689 rows x 12 columns]"
      ]
     },
     "execution_count": 26,
     "metadata": {},
     "output_type": "execute_result"
    }
   ],
   "source": [
    "actual_games"
   ]
  },
  {
   "cell_type": "markdown",
   "id": "8e1cf2c8",
   "metadata": {},
   "source": [
    "## Какие платформы лидируют по продажам, растут или падают?"
   ]
  },
  {
   "cell_type": "code",
   "execution_count": 27,
   "id": "709401e2",
   "metadata": {},
   "outputs": [
    {
     "data": {
      "image/png": "[encoded data removed]",
      "text/plain": [
       "<Figure size 1080x648 with 1 Axes>"
      ]
     },
     "metadata": {
      "needs_background": "light"
     },
     "output_type": "display_data"
    }
   ],
   "source": [
    "actual_platform_sales = (\n",
    "    actual_games\n",
    "    .pivot_table(index='platform', values='general_sales', aggfunc='sum')\n",
    "    .sort_values('general_sales', ascending=False)\n",
    ")\n",
    "plt.figure(figsize=(15, 9))\n",
    "(sns.barplot(data = actual_platform_sales, x = actual_platform_sales.index, y = 'general_sales', color = 'blue')\n",
    "    .set(title = 'Продажи по платформам за 2014-2016 гг', xlabel = 'Платформы', ylabel = 'Общие продажи'))\n",
    "plt.show()"
   ]
  },
  {
   "cell_type": "markdown",
   "id": "34b00534",
   "metadata": {},
   "source": [
    "### Вывод"
   ]
  },
  {
   "cell_type": "markdown",
   "id": "66b52acb",
   "metadata": {},
   "source": [
    "На данном графике видно, что платформы, показывающие успешные показатели по продажам за 2014-2016 год значительно отличаются от того графика, где представлены продажи платформ за все время. Если раньше лидером по продажам был PS2, то сейчас на лидирующей строчке оказалась PS4, и почетное второе место по продажам игр за 2014-2016 год занимает XboxOne. PS4 и XboxOne являются привлекательнее остальных платформ. "
   ]
  },
  {
   "cell_type": "code",
   "execution_count": 28,
   "id": "fdb557bb",
   "metadata": {
    "scrolled": true
   },
   "outputs": [
    {
     "name": "stdout",
     "output_type": "stream",
     "text": [
      "PS4\n"
     ]
    },
    {
     "data": {
      "image/png": "[encoded data removed]",
      "text/plain": [
       "<Figure size 432x288 with 1 Axes>"
      ]
     },
     "metadata": {
      "needs_background": "light"
     },
     "output_type": "display_data"
    },
    {
     "name": "stdout",
     "output_type": "stream",
     "text": [
      "XOne\n"
     ]
    },
    {
     "data": {
      "image/png": "[encoded data removed]",
      "text/plain": [
       "<Figure size 432x288 with 1 Axes>"
      ]
     },
     "metadata": {
      "needs_background": "light"
     },
     "output_type": "display_data"
    },
    {
     "name": "stdout",
     "output_type": "stream",
     "text": [
      "3DS\n"
     ]
    },
    {
     "data": {
      "image/png": "[encoded data removed]",
      "text/plain": [
       "<Figure size 432x288 with 1 Axes>"
      ]
     },
     "metadata": {
      "needs_background": "light"
     },
     "output_type": "display_data"
    },
    {
     "name": "stdout",
     "output_type": "stream",
     "text": [
      "PS3\n"
     ]
    },
    {
     "data": {
      "image/png": "[encoded data removed]",
      "text/plain": [
       "<Figure size 432x288 with 1 Axes>"
      ]
     },
     "metadata": {
      "needs_background": "light"
     },
     "output_type": "display_data"
    },
    {
     "name": "stdout",
     "output_type": "stream",
     "text": [
      "X360\n"
     ]
    },
    {
     "data": {
      "image/png": "[encoded data removed]",
      "text/plain": [
       "<Figure size 432x288 with 1 Axes>"
      ]
     },
     "metadata": {
      "needs_background": "light"
     },
     "output_type": "display_data"
    },
    {
     "name": "stdout",
     "output_type": "stream",
     "text": [
      "WiiU\n"
     ]
    },
    {
     "data": {
      "image/png": "[encoded data removed]",
      "text/plain": [
       "<Figure size 432x288 with 1 Axes>"
      ]
     },
     "metadata": {
      "needs_background": "light"
     },
     "output_type": "display_data"
    },
    {
     "name": "stdout",
     "output_type": "stream",
     "text": [
      "PC\n"
     ]
    },
    {
     "data": {
      "image/png": "[encoded data removed]",
      "text/plain": [
       "<Figure size 432x288 with 1 Axes>"
      ]
     },
     "metadata": {
      "needs_background": "light"
     },
     "output_type": "display_data"
    },
    {
     "name": "stdout",
     "output_type": "stream",
     "text": [
      "PSV\n"
     ]
    },
    {
     "data": {
      "image/png": "[encoded data removed]",
      "text/plain": [
       "<Figure size 432x288 with 1 Axes>"
      ]
     },
     "metadata": {
      "needs_background": "light"
     },
     "output_type": "display_data"
    },
    {
     "name": "stdout",
     "output_type": "stream",
     "text": [
      "Wii\n"
     ]
    },
    {
     "data": {
      "image/png": "[encoded data removed]",
      "text/plain": [
       "<Figure size 432x288 with 1 Axes>"
      ]
     },
     "metadata": {
      "needs_background": "light"
     },
     "output_type": "display_data"
    },
    {
     "name": "stdout",
     "output_type": "stream",
     "text": [
      "PSP\n"
     ]
    },
    {
     "data": {
      "image/png": "[encoded data removed]",
      "text/plain": [
       "<Figure size 432x288 with 1 Axes>"
      ]
     },
     "metadata": {
      "needs_background": "light"
     },
     "output_type": "display_data"
    }
   ],
   "source": [
    "# создаем цикл для формирования графиков\n",
    "\n",
    "for platform in actual_platform_sales.index:\n",
    "    print(platform)\n",
    "    (games\n",
    "     .query('platform == @platform')\n",
    "     .pivot_table(index='year_of_release', values='general_sales', aggfunc='sum')\n",
    "     .plot(kind='bar')\n",
    "    )\n",
    "    plt.show()"
   ]
  },
  {
   "cell_type": "markdown",
   "id": "cabc0579",
   "metadata": {},
   "source": [
    "### Вывод"
   ]
  },
  {
   "cell_type": "markdown",
   "id": "0353c4cf",
   "metadata": {},
   "source": [
    "Так как у нас имеются не все данные за 2016 год, немного сложно сказать о том, находятся ли сейчас продажи каких-либо игр на определенных платформах на пике или на спаде. Однако точно можно заметить, что некоторые платформы уже потеряли свою презентабельность, так например мы видим \"угасающий\" график у \n",
    "- 3DS, \n",
    "- PS3, \n",
    "- X360, \n",
    "- PC, \n",
    "- PSV, \n",
    "- Wii,\n",
    "- PSP.\n",
    "\n",
    "Остальные же платформы оставляют надежды на рост или не падение популярности. \n",
    "\n",
    "**Потенциально прибыльные платформы:**\n",
    "- PS4\n",
    "- XOne\n",
    "- WiiU"
   ]
  },
  {
   "cell_type": "code",
   "execution_count": 29,
   "id": "4865b095",
   "metadata": {},
   "outputs": [],
   "source": [
    "# составление таблицы из потенциально прибыльных платформ\n",
    "new_games = actual_games.query('platform not in [\"3DS\", \"PS3\", \"X360\", \"PC\", \"PSV\", \"Wii\", \"PSP\"]')"
   ]
  },
  {
   "cell_type": "code",
   "execution_count": 30,
   "id": "a50e9efb",
   "metadata": {},
   "outputs": [
    {
     "data": {
      "text/html": [
       "<div>\n",
       "<style scoped>\n",
       "    .dataframe tbody tr th:only-of-type {\n",
       "        vertical-align: middle;\n",
       "    }\n",
       "\n",
       "    .dataframe tbody tr th {\n",
       "        vertical-align: top;\n",
       "    }\n",
       "\n",
       "    .dataframe thead th {\n",
       "        text-align: right;\n",
       "    }\n",
       "</style>\n",
       "<table border=\"1\" class=\"dataframe\">\n",
       "  <thead>\n",
       "    <tr style=\"text-align: right;\">\n",
       "      <th></th>\n",
       "      <th>name</th>\n",
       "      <th>platform</th>\n",
       "      <th>year_of_release</th>\n",
       "      <th>genre</th>\n",
       "      <th>na_sales</th>\n",
       "      <th>eu_sales</th>\n",
       "      <th>jp_sales</th>\n",
       "      <th>other_sales</th>\n",
       "      <th>critic_score</th>\n",
       "      <th>user_score</th>\n",
       "      <th>rating</th>\n",
       "      <th>general_sales</th>\n",
       "    </tr>\n",
       "  </thead>\n",
       "  <tbody>\n",
       "    <tr>\n",
       "      <th>31</th>\n",
       "      <td>Call of Duty: Black Ops 3</td>\n",
       "      <td>PS4</td>\n",
       "      <td>2015</td>\n",
       "      <td>Shooter</td>\n",
       "      <td>6.03</td>\n",
       "      <td>5.86</td>\n",
       "      <td>0.36</td>\n",
       "      <td>2.38</td>\n",
       "      <td>-10.0</td>\n",
       "      <td>-10.0</td>\n",
       "      <td>Unknown</td>\n",
       "      <td>14.63</td>\n",
       "    </tr>\n",
       "    <tr>\n",
       "      <th>42</th>\n",
       "      <td>Grand Theft Auto V</td>\n",
       "      <td>PS4</td>\n",
       "      <td>2014</td>\n",
       "      <td>Action</td>\n",
       "      <td>3.96</td>\n",
       "      <td>6.31</td>\n",
       "      <td>0.38</td>\n",
       "      <td>1.97</td>\n",
       "      <td>97.0</td>\n",
       "      <td>8.3</td>\n",
       "      <td>M</td>\n",
       "      <td>12.62</td>\n",
       "    </tr>\n",
       "    <tr>\n",
       "      <th>77</th>\n",
       "      <td>FIFA 16</td>\n",
       "      <td>PS4</td>\n",
       "      <td>2015</td>\n",
       "      <td>Sports</td>\n",
       "      <td>1.12</td>\n",
       "      <td>6.12</td>\n",
       "      <td>0.06</td>\n",
       "      <td>1.28</td>\n",
       "      <td>82.0</td>\n",
       "      <td>4.3</td>\n",
       "      <td>E</td>\n",
       "      <td>8.58</td>\n",
       "    </tr>\n",
       "    <tr>\n",
       "      <th>87</th>\n",
       "      <td>Star Wars Battlefront (2015)</td>\n",
       "      <td>PS4</td>\n",
       "      <td>2015</td>\n",
       "      <td>Shooter</td>\n",
       "      <td>2.99</td>\n",
       "      <td>3.49</td>\n",
       "      <td>0.22</td>\n",
       "      <td>1.28</td>\n",
       "      <td>-10.0</td>\n",
       "      <td>-10.0</td>\n",
       "      <td>Unknown</td>\n",
       "      <td>7.98</td>\n",
       "    </tr>\n",
       "    <tr>\n",
       "      <th>92</th>\n",
       "      <td>Call of Duty: Advanced Warfare</td>\n",
       "      <td>PS4</td>\n",
       "      <td>2014</td>\n",
       "      <td>Shooter</td>\n",
       "      <td>2.81</td>\n",
       "      <td>3.48</td>\n",
       "      <td>0.14</td>\n",
       "      <td>1.23</td>\n",
       "      <td>83.0</td>\n",
       "      <td>5.7</td>\n",
       "      <td>M</td>\n",
       "      <td>7.66</td>\n",
       "    </tr>\n",
       "    <tr>\n",
       "      <th>...</th>\n",
       "      <td>...</td>\n",
       "      <td>...</td>\n",
       "      <td>...</td>\n",
       "      <td>...</td>\n",
       "      <td>...</td>\n",
       "      <td>...</td>\n",
       "      <td>...</td>\n",
       "      <td>...</td>\n",
       "      <td>...</td>\n",
       "      <td>...</td>\n",
       "      <td>...</td>\n",
       "      <td>...</td>\n",
       "    </tr>\n",
       "    <tr>\n",
       "      <th>16643</th>\n",
       "      <td>Rugby Challenge 3</td>\n",
       "      <td>XOne</td>\n",
       "      <td>2016</td>\n",
       "      <td>Sports</td>\n",
       "      <td>0.00</td>\n",
       "      <td>0.01</td>\n",
       "      <td>0.00</td>\n",
       "      <td>0.00</td>\n",
       "      <td>-10.0</td>\n",
       "      <td>6.6</td>\n",
       "      <td>E</td>\n",
       "      <td>0.01</td>\n",
       "    </tr>\n",
       "    <tr>\n",
       "      <th>16645</th>\n",
       "      <td>ZombiU</td>\n",
       "      <td>XOne</td>\n",
       "      <td>2016</td>\n",
       "      <td>Action</td>\n",
       "      <td>0.00</td>\n",
       "      <td>0.01</td>\n",
       "      <td>0.00</td>\n",
       "      <td>0.00</td>\n",
       "      <td>-10.0</td>\n",
       "      <td>-10.0</td>\n",
       "      <td>Unknown</td>\n",
       "      <td>0.01</td>\n",
       "    </tr>\n",
       "    <tr>\n",
       "      <th>16652</th>\n",
       "      <td>Fast Racing Neo</td>\n",
       "      <td>WiiU</td>\n",
       "      <td>2016</td>\n",
       "      <td>Action</td>\n",
       "      <td>0.00</td>\n",
       "      <td>0.01</td>\n",
       "      <td>0.00</td>\n",
       "      <td>0.00</td>\n",
       "      <td>81.0</td>\n",
       "      <td>8.5</td>\n",
       "      <td>E</td>\n",
       "      <td>0.01</td>\n",
       "    </tr>\n",
       "    <tr>\n",
       "      <th>16660</th>\n",
       "      <td>Prison Architect</td>\n",
       "      <td>XOne</td>\n",
       "      <td>2016</td>\n",
       "      <td>Action</td>\n",
       "      <td>0.01</td>\n",
       "      <td>0.00</td>\n",
       "      <td>0.00</td>\n",
       "      <td>0.00</td>\n",
       "      <td>74.0</td>\n",
       "      <td>6.7</td>\n",
       "      <td>Unknown</td>\n",
       "      <td>0.01</td>\n",
       "    </tr>\n",
       "    <tr>\n",
       "      <th>16672</th>\n",
       "      <td>Metal Gear Solid V: The Definitive Experience</td>\n",
       "      <td>XOne</td>\n",
       "      <td>2016</td>\n",
       "      <td>Action</td>\n",
       "      <td>0.01</td>\n",
       "      <td>0.00</td>\n",
       "      <td>0.00</td>\n",
       "      <td>0.00</td>\n",
       "      <td>-10.0</td>\n",
       "      <td>-10.0</td>\n",
       "      <td>M</td>\n",
       "      <td>0.01</td>\n",
       "    </tr>\n",
       "  </tbody>\n",
       "</table>\n",
       "<p>677 rows × 12 columns</p>\n",
       "</div>"
      ],
      "text/plain": [
       "                                                name platform  \\\n",
       "31                         Call of Duty: Black Ops 3      PS4   \n",
       "42                                Grand Theft Auto V      PS4   \n",
       "77                                           FIFA 16      PS4   \n",
       "87                      Star Wars Battlefront (2015)      PS4   \n",
       "92                    Call of Duty: Advanced Warfare      PS4   \n",
       "...                                              ...      ...   \n",
       "16643                              Rugby Challenge 3     XOne   \n",
       "16645                                         ZombiU     XOne   \n",
       "16652                               Fast Racing Neo      WiiU   \n",
       "16660                               Prison Architect     XOne   \n",
       "16672  Metal Gear Solid V: The Definitive Experience     XOne   \n",
       "\n",
       "       year_of_release    genre  na_sales  eu_sales  jp_sales  other_sales  \\\n",
       "31                2015  Shooter      6.03      5.86      0.36         2.38   \n",
       "42                2014   Action      3.96      6.31      0.38         1.97   \n",
       "77                2015   Sports      1.12      6.12      0.06         1.28   \n",
       "87                2015  Shooter      2.99      3.49      0.22         1.28   \n",
       "92                2014  Shooter      2.81      3.48      0.14         1.23   \n",
       "...                ...      ...       ...       ...       ...          ...   \n",
       "16643             2016   Sports      0.00      0.01      0.00         0.00   \n",
       "16645             2016   Action      0.00      0.01      0.00         0.00   \n",
       "16652             2016   Action      0.00      0.01      0.00         0.00   \n",
       "16660             2016   Action      0.01      0.00      0.00         0.00   \n",
       "16672             2016   Action      0.01      0.00      0.00         0.00   \n",
       "\n",
       "       critic_score  user_score   rating  general_sales  \n",
       "31            -10.0       -10.0  Unknown          14.63  \n",
       "42             97.0         8.3        M          12.62  \n",
       "77             82.0         4.3        E           8.58  \n",
       "87            -10.0       -10.0  Unknown           7.98  \n",
       "92             83.0         5.7        M           7.66  \n",
       "...             ...         ...      ...            ...  \n",
       "16643         -10.0         6.6        E           0.01  \n",
       "16645         -10.0       -10.0  Unknown           0.01  \n",
       "16652          81.0         8.5        E           0.01  \n",
       "16660          74.0         6.7  Unknown           0.01  \n",
       "16672         -10.0       -10.0        M           0.01  \n",
       "\n",
       "[677 rows x 12 columns]"
      ]
     },
     "execution_count": 30,
     "metadata": {},
     "output_type": "execute_result"
    }
   ],
   "source": [
    "#test\n",
    "new_games"
   ]
  },
  {
   "cell_type": "markdown",
   "id": "2d57d7d5",
   "metadata": {},
   "source": [
    "## График «ящик с усами» по глобальным продажам игр в разбивке по платформам."
   ]
  },
  {
   "cell_type": "code",
   "execution_count": 31,
   "id": "1818ad1c",
   "metadata": {},
   "outputs": [
    {
     "data": {
      "image/png": "[encoded data removed]",
      "text/plain": [
       "<Figure size 1080x648 with 1 Axes>"
      ]
     },
     "metadata": {
      "needs_background": "light"
     },
     "output_type": "display_data"
    }
   ],
   "source": [
    "plt.figure(figsize=(15, 9))\n",
    "(sns.boxplot(data = new_games, y = 'general_sales', x='platform')\n",
    "    .set(title = 'Продажи по перспективным платформам за 2014-2016 гг', \n",
    "         xlabel = 'Платформы', \n",
    "         ylabel = 'Общие продажи'))\n",
    "plt.show()"
   ]
  },
  {
   "cell_type": "code",
   "execution_count": 32,
   "id": "fb0739d4",
   "metadata": {
    "scrolled": false
   },
   "outputs": [
    {
     "data": {
      "image/png": "[encoded data removed]",
      "text/plain": [
       "<Figure size 1080x648 with 1 Axes>"
      ]
     },
     "metadata": {
      "needs_background": "light"
     },
     "output_type": "display_data"
    }
   ],
   "source": [
    "plt.figure(figsize=(15, 9))\n",
    "(sns.boxplot(data = new_games, y = 'general_sales', x='platform')\n",
    "    .set(title = 'Продажи по перспективным платформам за 2014-2016 гг', \n",
    "         xlabel = 'Платформы', \n",
    "         ylabel = 'Общие продажи',\n",
    "         ylim=(0, 2)))\n",
    "plt.show()"
   ]
  },
  {
   "cell_type": "code",
   "execution_count": 33,
   "id": "90cd967b",
   "metadata": {},
   "outputs": [
    {
     "data": {
      "image/png": "[encoded data removed]",
      "text/plain": [
       "<Figure size 1080x648 with 1 Axes>"
      ]
     },
     "metadata": {
      "needs_background": "light"
     },
     "output_type": "display_data"
    }
   ],
   "source": [
    "plt.figure(figsize=(15, 9))\n",
    "(sns.boxplot(data = actual_games, y = 'general_sales', x='platform')\n",
    "    .set(title = 'Продажи по перспективным платформам за 2014-2016 гг', \n",
    "         xlabel = 'Платформы', \n",
    "         ylabel = 'Общие продажи'))\n",
    "plt.show()"
   ]
  },
  {
   "cell_type": "code",
   "execution_count": 34,
   "id": "fd883e05",
   "metadata": {},
   "outputs": [
    {
     "data": {
      "image/png": "[encoded data removed]",
      "text/plain": [
       "<Figure size 1080x648 with 1 Axes>"
      ]
     },
     "metadata": {
      "needs_background": "light"
     },
     "output_type": "display_data"
    }
   ],
   "source": [
    "plt.figure(figsize=(15, 9))\n",
    "(sns.boxplot(data = actual_games, y = 'general_sales', x='platform')\n",
    "    .set(title = 'Продажи по перспективным платформам за 2014-2016 гг', \n",
    "         xlabel = 'Платформы', \n",
    "         ylabel = 'Общие продажи',\n",
    "         ylim=(0, 2)))\n",
    "plt.show()"
   ]
  },
  {
   "cell_type": "markdown",
   "id": "bfcc375b",
   "metadata": {},
   "source": [
    "### Вывод"
   ]
  },
  {
   "cell_type": "markdown",
   "id": "e0760229",
   "metadata": {},
   "source": [
    "На данном графике видно, что распределение продаж среди платформ примерно одинаковое и медиана продаж находится на примерно одном уровне (0,2 миллиона проданных копий). Также можно отметить значения, выходящие за пределы 3 квартиля, доходящие почти до 15 млн проданных копий. Поэтому не стоит отбрасывать те значения, что находятся за верхним усом ящика, так как это самые продаваемые игры. Данные платформы отлично подходят для дальнейших перспектив. "
   ]
  },
  {
   "cell_type": "markdown",
   "id": "ab68c493",
   "metadata": {},
   "source": [
    "##  Влияние на продажи внутри одной популярной платформы отзывов пользователей и критиков"
   ]
  },
  {
   "cell_type": "code",
   "execution_count": 35,
   "id": "4b91ce0a",
   "metadata": {},
   "outputs": [
    {
     "data": {
      "image/png": "[encoded data removed]",
      "text/plain": [
       "<Figure size 864x504 with 1 Axes>"
      ]
     },
     "metadata": {
      "needs_background": "light"
     },
     "output_type": "display_data"
    },
    {
     "data": {
      "image/png": "[encoded data removed]",
      "text/plain": [
       "<Figure size 864x504 with 1 Axes>"
      ]
     },
     "metadata": {
      "needs_background": "light"
     },
     "output_type": "display_data"
    },
    {
     "name": "stdout",
     "output_type": "stream",
     "text": [
      "critic_score     0.401903\n",
      "user_score      -0.043186\n",
      "general_sales    1.000000\n",
      "Name: general_sales, dtype: float64\n"
     ]
    }
   ],
   "source": [
    "games_on_platform = new_games.query(\n",
    "    'platform == \"PS4\" & critic_score != -10 & user_score != -10 ')\n",
    "games_on_platform[games_on_platform['critic_score'] != '-10'].plot(\n",
    "    kind='scatter', \n",
    "    x='critic_score', \n",
    "    y='general_sales', \n",
    "    figsize = (12,7))\n",
    "games_on_platform[games_on_platform['user_score'] != '-10'].plot(\n",
    "    kind='scatter', \n",
    "    x='user_score',\n",
    "    y='general_sales', \n",
    "    figsize = (12,7))\n",
    "plt.show()\n",
    "print(games_on_platform[(games_on_platform['critic_score'] != '-10') \n",
    "                        & (games_on_platform['user_score'] != '-10')]\n",
    "                       [['critic_score', 'user_score', 'general_sales']].corr()['general_sales'])\n"
   ]
  },
  {
   "cell_type": "markdown",
   "id": "5fa9ca89",
   "metadata": {},
   "source": [
    "### Вывод"
   ]
  },
  {
   "cell_type": "markdown",
   "id": "e49c2632",
   "metadata": {},
   "source": [
    "Как видно из графиков, корреляция между пользовательсикими оценками и продажами нет, так как значение почти нулевое. \n",
    "А вот оценки критиков не так, чтобы сильно, но влияют на продажи игр, об этом нам говорит корреляция в 40 процентов, чем выше оценка критиков, тем больше происходит продаж. "
   ]
  },
  {
   "cell_type": "code",
   "execution_count": 36,
   "id": "ee910651",
   "metadata": {
    "scrolled": true
   },
   "outputs": [
    {
     "name": "stdout",
     "output_type": "stream",
     "text": [
      "==============================\n",
      "PS4\n"
     ]
    },
    {
     "data": {
      "image/png": "[encoded data removed]",
      "text/plain": [
       "<Figure size 432x288 with 1 Axes>"
      ]
     },
     "metadata": {
      "needs_background": "light"
     },
     "output_type": "display_data"
    },
    {
     "data": {
      "image/png": "[encoded data removed]",
      "text/plain": [
       "<Figure size 432x288 with 1 Axes>"
      ]
     },
     "metadata": {
      "needs_background": "light"
     },
     "output_type": "display_data"
    },
    {
     "name": "stdout",
     "output_type": "stream",
     "text": [
      "critic_score     0.401903\n",
      "user_score      -0.043186\n",
      "general_sales    1.000000\n",
      "Name: general_sales, dtype: float64\n",
      "==============================\n",
      "WiiU\n"
     ]
    },
    {
     "data": {
      "image/png": "[encoded data removed]",
      "text/plain": [
       "<Figure size 432x288 with 1 Axes>"
      ]
     },
     "metadata": {
      "needs_background": "light"
     },
     "output_type": "display_data"
    },
    {
     "data": {
      "image/png": "[encoded data removed]",
      "text/plain": [
       "<Figure size 432x288 with 1 Axes>"
      ]
     },
     "metadata": {
      "needs_background": "light"
     },
     "output_type": "display_data"
    },
    {
     "name": "stdout",
     "output_type": "stream",
     "text": [
      "critic_score     0.375640\n",
      "user_score       0.411451\n",
      "general_sales    1.000000\n",
      "Name: general_sales, dtype: float64\n",
      "==============================\n",
      "XOne\n"
     ]
    },
    {
     "data": {
      "image/png": "[encoded data removed]",
      "text/plain": [
       "<Figure size 432x288 with 1 Axes>"
      ]
     },
     "metadata": {
      "needs_background": "light"
     },
     "output_type": "display_data"
    },
    {
     "data": {
      "image/png": "[encoded data removed]",
      "text/plain": [
       "<Figure size 432x288 with 1 Axes>"
      ]
     },
     "metadata": {
      "needs_background": "light"
     },
     "output_type": "display_data"
    },
    {
     "name": "stdout",
     "output_type": "stream",
     "text": [
      "critic_score     0.422112\n",
      "user_score      -0.091734\n",
      "general_sales    1.000000\n",
      "Name: general_sales, dtype: float64\n"
     ]
    }
   ],
   "source": [
    "for platform, games_on_platform in new_games.groupby('platform'):\n",
    "    print('='*30)\n",
    "    print(platform)\n",
    "    games_on_platform[games_on_platform['critic_score'] != -10].plot(\n",
    "        kind='scatter', \n",
    "        x='critic_score', \n",
    "        y='general_sales')\n",
    "    games_on_platform[games_on_platform['user_score'] != -10].plot(\n",
    "        kind='scatter',\n",
    "        x='user_score',\n",
    "        y='general_sales')\n",
    "    plt.show()\n",
    "    print(games_on_platform[(games_on_platform['critic_score'] != -10) \n",
    "                        & (games_on_platform['user_score'] != -10)]\n",
    "                       [['critic_score', 'user_score', 'general_sales']].corr()['general_sales'])\n",
    "    "
   ]
  },
  {
   "cell_type": "markdown",
   "id": "642bbbb8",
   "metadata": {},
   "source": [
    "### Вывод"
   ]
  },
  {
   "cell_type": "markdown",
   "id": "6776eeba",
   "metadata": {},
   "source": [
    "- PS4\n",
    "Сделал выводы выше\n",
    "\n",
    "\n",
    "- WiiU\n",
    "Корреляция между количеством покупок и оценками критиков и пользовательскими оценками существует, не очень большая но равная 37% для критиков и 41% для пользовательских оценок. Чем выше оценки пользователей и критиков, чем чаще покупают игры для WiiU. \n",
    "\n",
    "\n",
    "- XOne\n",
    "Корреляция между количеством покупок и оценками критиков равна 42%, это говорит о наличии корреляции, но не прямой зависимости. Что касается пользовательских оценок, здесь не наблюдается корреляции, взаимосвязь данных параметров мала. "
   ]
  },
  {
   "cell_type": "markdown",
   "id": "3778c397",
   "metadata": {},
   "source": [
    "## Что можно сказать о самых прибыльных жанрах? Выделяются ли жанры с высокими и низкими продажами?"
   ]
  },
  {
   "cell_type": "markdown",
   "id": "9657f158",
   "metadata": {},
   "source": [
    "По потенциально прибыльным платформам"
   ]
  },
  {
   "cell_type": "code",
   "execution_count": 37,
   "id": "73af4c6e",
   "metadata": {
    "scrolled": false
   },
   "outputs": [
    {
     "data": {
      "image/png": "[encoded data removed]",
      "text/plain": [
       "<Figure size 936x576 with 1 Axes>"
      ]
     },
     "metadata": {
      "needs_background": "light"
     },
     "output_type": "display_data"
    }
   ],
   "source": [
    "platform_sales_fresh = (\n",
    "    new_games\n",
    "    .pivot_table(index='genre', values='general_sales', aggfunc='sum')\n",
    "    .sort_values('general_sales', ascending=False)\n",
    ")\n",
    "\n",
    "plt.figure(figsize=(13, 8))\n",
    "(sns.barplot(data = platform_sales_fresh, x = platform_sales_fresh.index, y = 'general_sales', color = 'blue')\n",
    "    .set(title = 'Продажи по жанрам за 2014-2016 гг', xlabel = 'Жанры', ylabel = 'Общие продажи'))\n",
    "\n",
    "plt.show()"
   ]
  },
  {
   "cell_type": "markdown",
   "id": "8f800091",
   "metadata": {},
   "source": [
    "По всем актуальным "
   ]
  },
  {
   "cell_type": "code",
   "execution_count": 38,
   "id": "9fd22f3a",
   "metadata": {},
   "outputs": [
    {
     "data": {
      "image/png": "[encoded data removed]",
      "text/plain": [
       "<Figure size 936x576 with 1 Axes>"
      ]
     },
     "metadata": {
      "needs_background": "light"
     },
     "output_type": "display_data"
    }
   ],
   "source": [
    "platform_sales_fresh = (\n",
    "    actual_games\n",
    "    .pivot_table(index='genre', values='general_sales', aggfunc='sum')\n",
    "    .sort_values('general_sales', ascending=False)\n",
    ")\n",
    "\n",
    "plt.figure(figsize=(13, 8))\n",
    "(sns.barplot(data = platform_sales_fresh, x = platform_sales_fresh.index, y = 'general_sales', color = 'blue')\n",
    "    .set(title = 'Продажи по жанрам за 2014-2016 гг', xlabel = 'Жанры', ylabel = 'Общие продажи'))\n",
    "\n",
    "plt.show()"
   ]
  },
  {
   "cell_type": "markdown",
   "id": "35eeb8af",
   "metadata": {},
   "source": [
    "### Вывод"
   ]
  },
  {
   "cell_type": "markdown",
   "id": "299ae118",
   "metadata": {},
   "source": [
    "Самые прибыльные жанры являются шутеры и экшены. Значения их продаж почти доходят до 140 млн проданных копий. \n",
    "\n",
    "ТОП 4 можно отметить следующие жанры:\n",
    "- Шутеры\n",
    "- Экшены\n",
    "- Спортивные игры\n",
    "- Ролевые игры"
   ]
  },
  {
   "cell_type": "markdown",
   "id": "bd97618d",
   "metadata": {},
   "source": [
    "по потенциально прибыльным"
   ]
  },
  {
   "cell_type": "code",
   "execution_count": 39,
   "id": "72be6aa6",
   "metadata": {},
   "outputs": [
    {
     "data": {
      "image/png": "[encoded data removed]",
      "text/plain": [
       "<Figure size 936x576 with 1 Axes>"
      ]
     },
     "metadata": {
      "needs_background": "light"
     },
     "output_type": "display_data"
    }
   ],
   "source": [
    "plt.figure(figsize=(13, 8))\n",
    "(sns.boxplot(data = new_games, y = 'general_sales', x='genre')\n",
    "    .set(title = 'Продажи по жанрам за 2014-2016 гг', xlabel = 'Платформы', ylabel = 'Общие продажи', ylim=(0, 3)))\n",
    "\n",
    "plt.show()"
   ]
  },
  {
   "cell_type": "markdown",
   "id": "1959cac0",
   "metadata": {},
   "source": [
    "по актуальным"
   ]
  },
  {
   "cell_type": "code",
   "execution_count": 40,
   "id": "aea4fec2",
   "metadata": {},
   "outputs": [
    {
     "data": {
      "image/png": "[encoded data removed]",
      "text/plain": [
       "<Figure size 936x576 with 1 Axes>"
      ]
     },
     "metadata": {
      "needs_background": "light"
     },
     "output_type": "display_data"
    }
   ],
   "source": [
    "plt.figure(figsize=(13, 8))\n",
    "(sns.boxplot(data = actual_games, y = 'general_sales', x='genre')\n",
    "    .set(title = 'Продажи по жанрам за 2014-2016 гг', xlabel = 'Платформы', ylabel = 'Общие продажи', ylim=(0, 3)))\n",
    "\n",
    "plt.show()"
   ]
  },
  {
   "cell_type": "markdown",
   "id": "b59d035f",
   "metadata": {},
   "source": [
    "### Вывод"
   ]
  },
  {
   "cell_type": "markdown",
   "id": "b0205722",
   "metadata": {},
   "source": [
    "На данном графике видно, что хорошо продаются шутеры, медиана продаж данного жанра превосходит остальные жанры. Данный жанр можно считать привлекательным для продаж. Большинство жанров усредненные и имеют похожие медианы. Еще можно выделить платформеры и спортивные игры, они тоже имеют неплохие показатели. "
   ]
  },
  {
   "cell_type": "markdown",
   "id": "8dc7b7d4",
   "metadata": {},
   "source": [
    "# Составьте портрет пользователя каждого региона (NA, EU, JP)"
   ]
  },
  {
   "cell_type": "markdown",
   "id": "59cc2aa0",
   "metadata": {},
   "source": [
    "## Самые популярные платформы (топ-5)"
   ]
  },
  {
   "cell_type": "code",
   "execution_count": 41,
   "id": "0030f865",
   "metadata": {},
   "outputs": [
    {
     "data": {
      "image/png": "[encoded data removed]",
      "text/plain": [
       "<Figure size 1080x360 with 3 Axes>"
      ]
     },
     "metadata": {},
     "output_type": "display_data"
    }
   ],
   "source": [
    "# список регионов\n",
    "countries = actual_games.columns[4:7]\n",
    "# круговая диаграмма для каждого региона\n",
    "fig, axs = plt.subplots(1, 3, figsize=(15, 5))\n",
    "fig.suptitle('ТОП-5 платформ в регионах')\n",
    "for i in range(3):\n",
    "  # 5 самых продающих платформ\n",
    "  df_i = (actual_games.groupby('platform')[countries[i]].sum().\n",
    "             reset_index().\n",
    "             sort_values(countries[i], ascending = False, ignore_index = True).\n",
    "             head(5))\n",
    "  # занесем все остальыне продажи в Other_platforms\n",
    "  df_i = df_i.append({'platform': 'Other_platforms', countries[i]: actual_games[countries[i]].sum() - df_i[countries[i]].sum()}, ignore_index= True)\n",
    "  axs[i].pie(df_i[countries[i]], labels = df_i['platform'])\n",
    "  axs[i].pie(df_i[countries[i]], labels = df_i['platform'], autopct='%1.1f%%')\n",
    "  # Зададим название региона.\n",
    "  axs[i].set_title(df_i.columns[1].split('_')[0].upper())\n",
    "plt.show()\n"
   ]
  },
  {
   "cell_type": "markdown",
   "id": "ce4482c9",
   "metadata": {},
   "source": [
    "### Вывод"
   ]
  },
  {
   "cell_type": "markdown",
   "id": "33498f93",
   "metadata": {},
   "source": [
    "Разница между регионами ощутима. \n",
    "\n",
    "Можно отметить сходство Северной Америки и Европы в том плане, что в обеих регионах на первом месте стоит платформа PS4, а второе место занимает с небольшим отрывом XOne. Япония по сравнению с другими регионами своеобразна, здесь на первом месте стоит 3DS, второе место занимает PS4, и на третьем находится PSV. Кстати третьи места среди Сев Америки и Европы тоже различаются, там находится X360 и PS3 соответсвенно. "
   ]
  },
  {
   "cell_type": "markdown",
   "id": "36a6d78e",
   "metadata": {},
   "source": [
    "## Самые популярные жанры (топ-5)"
   ]
  },
  {
   "cell_type": "code",
   "execution_count": 42,
   "id": "62f4473e",
   "metadata": {},
   "outputs": [
    {
     "data": {
      "image/png": "[encoded data removed]",
      "text/plain": [
       "<Figure size 1080x360 with 3 Axes>"
      ]
     },
     "metadata": {},
     "output_type": "display_data"
    }
   ],
   "source": [
    "# круговая диаграмма для каждого региона\n",
    "fig, axs = plt.subplots(1, 3, figsize=(15, 5))\n",
    "fig.suptitle('ТОП-5 жанров в регионах')\n",
    "for i in range(3):\n",
    "  # 5 самых продающих жанров\n",
    "  df_i = (actual_games.groupby('genre')[countries[i]].sum().\n",
    "             reset_index().\n",
    "             sort_values(countries[i], ascending = False, ignore_index = True).\n",
    "             head(5))\n",
    "  # занесем все остальыне продажи в Other_genre\n",
    "  df_i = df_i.append({'genre': 'Other_genre', countries[i]: actual_games[countries[i]].sum() - df_i[countries[i]].sum()}, ignore_index= True)\n",
    "  axs[i].pie(df_i[countries[i]], labels = df_i['genre'])\n",
    "  axs[i].pie(df_i[countries[i]], labels = df_i['genre'], autopct='%1.1f%%')\n",
    "  # Зададим название региона.\n",
    "  axs[i].set_title(df_i.columns[1].split('_')[0].upper())\n",
    "plt.show()\n"
   ]
  },
  {
   "cell_type": "markdown",
   "id": "4033946f",
   "metadata": {},
   "source": [
    "### Вывод"
   ]
  },
  {
   "cell_type": "markdown",
   "id": "4315170e",
   "metadata": {},
   "source": [
    "На диаграммах видно, что первое место в Сев Америке занимают Шутеры, в Европе – это Экшен, а в Японии – Ролевые игры. \n",
    "Вторые места тоже не везде совпали,  у Сев Америки и Японии – это Экшен, а вот в Европе на втором месте Шутеры. Третье место в Сев Америке и Европе разделили спортивные игры, чего нельзя сказать про Японию, на третьем месте в этой стране популярен файтинг. Из данных диаграмм можно сделать вывод, что вкусовые предпочтения зависят от культуры и места проживания, так как во всех регионах показатели сильно разнятся.  "
   ]
  },
  {
   "cell_type": "markdown",
   "id": "7feb3c70",
   "metadata": {},
   "source": [
    "## Влияет ли рейтинг ESRB на продажи в отдельном регионе"
   ]
  },
  {
   "cell_type": "code",
   "execution_count": 43,
   "id": "d2c5db7f",
   "metadata": {},
   "outputs": [
    {
     "data": {
      "image/png": "[encoded data removed]",
      "text/plain": [
       "<Figure size 1080x360 with 3 Axes>"
      ]
     },
     "metadata": {},
     "output_type": "display_data"
    }
   ],
   "source": [
    "# круговая диаграмма для каждого региона\n",
    "fig, axs = plt.subplots(1, 3, figsize=(15, 5))\n",
    "fig.suptitle('ТОП-5 жанров в регионах')\n",
    "for i in range(3):\n",
    "  # влияние рейтинга\n",
    "  df_i = (actual_games.groupby('rating')[countries[i]].sum().\n",
    "             reset_index().\n",
    "             sort_values(countries[i], ascending = False, ignore_index = True).\n",
    "             head(5))\n",
    "  axs[i].pie(df_i[countries[i]], labels = df_i['rating'])\n",
    "  axs[i].pie(df_i[countries[i]], labels = df_i['rating'], autopct='%1.1f%%')\n",
    "  # Зададим название региона.\n",
    "  axs[i].set_title(df_i.columns[1].split('_')[0].upper())\n",
    "plt.show()\n"
   ]
  },
  {
   "cell_type": "markdown",
   "id": "66849621",
   "metadata": {},
   "source": [
    "### Вывод"
   ]
  },
  {
   "cell_type": "markdown",
   "id": "84406628",
   "metadata": {},
   "source": [
    "На данных диаграммах видно, что рейтинг ESRB не сильно влияет на продажи, так как распределение среди рейтингов примерно одинаковое. Исключение составляет Япония, в данном регионе, видимо, пользователи любят кастомные игры, или игры своего собственного производства, так как компания ESRB в основном базируется на оценивании Американских и Канадских компаний. Если посмотреть на диаграммы Европы и Сев Америки повнимательнее, то можно выделить категорию М - для взрослых, она занимает большее место на рынке среди других игр. \n",
    "\n",
    "**Портрет Американца**\n",
    "- Любит играть на плейстешн 4\n",
    "- Чаще всего играет в шутеры\n",
    "- Играет в игры для взрослых, видимо в играх много крови\n",
    "\n",
    "**Портрет Европейца**\n",
    "- Любит поиграть в PlayStation 4\n",
    "- В основном он проходит игры-экшены\n",
    "- Возможно там тоже много крови, потому что европеец любит играть в игры для взрослых\n",
    "\n",
    "**Портрет Японца**\n",
    "- Чаще всего играет на 3DS\n",
    "- Любит поиграть в ролевые игры\n",
    "- Любит кастомные игры (возможно своего производства), то есть недооценнные игровые шедевры\n"
   ]
  },
  {
   "cell_type": "markdown",
   "id": "1e360d0a",
   "metadata": {},
   "source": [
    "# Проверка гипотез"
   ]
  },
  {
   "cell_type": "markdown",
   "id": "7e5fe988",
   "metadata": {},
   "source": [
    "## Средние пользовательские рейтинги платформ Xbox One и PC одинаковые"
   ]
  },
  {
   "cell_type": "markdown",
   "id": "ef3de8ff",
   "metadata": {},
   "source": [
    "Нулевая гипотеза (H0): Средние пользовательские рейтинги платформ Xbox One и PC одинаковые.\n",
    "\n",
    "Альтерантивная гипотеза (H1): Средние пользовательские рейтинги платформ Xbox One и PC различаются."
   ]
  },
  {
   "cell_type": "code",
   "execution_count": 44,
   "id": "e490941b",
   "metadata": {},
   "outputs": [
    {
     "name": "stdout",
     "output_type": "stream",
     "text": [
      "Средний пользовательский рейтинг платформ Xbox One 6.59\n",
      "Средний пользовательский рейтинг платформ PC 6.3\n",
      "\n",
      "p-значение: 0.11601398086668827\n",
      "Не получилось отвергнуть нулевую гипотезу\n"
     ]
    }
   ],
   "source": [
    "# удаление значений-заглушек\n",
    "score = actual_games[actual_games['user_score'] != -10]\n",
    "\n",
    "print('Средний пользовательский рейтинг платформ Xbox One', round(score.query('platform == \"XOne\"')['user_score'].mean(),2))\n",
    "print('Средний пользовательский рейтинг платформ PC', round(score.query('platform == \"PC\"')['user_score'].mean(),2))\n",
    "print()\n",
    "\n",
    "results = st.ttest_ind(\n",
    "    score.query('platform == \"XOne\"')['user_score'], \n",
    "    score.query('platform == \"PC\"')['user_score'], \n",
    "    equal_var=False)\n",
    "\n",
    "alpha = 0.05\n",
    "print('p-значение:', results.pvalue)\n",
    "\n",
    "if results.pvalue < alpha:\n",
    "    print(\"Отвергаем нулевую гипотезу\")\n",
    "else:\n",
    "    print(\"Не получилось отвергнуть нулевую гипотезу\")"
   ]
  },
  {
   "cell_type": "markdown",
   "id": "f15ca73d",
   "metadata": {},
   "source": [
    "### Вывод"
   ]
  },
  {
   "cell_type": "markdown",
   "id": "bd7f45e4",
   "metadata": {},
   "source": [
    "Нет оснований полагать, что средние пользовательские рейтинги платформ Xbox One и PC значимо различаются. "
   ]
  },
  {
   "cell_type": "markdown",
   "id": "622cf001",
   "metadata": {},
   "source": [
    "## Средние пользовательские рейтинги жанров Action и Sports разные"
   ]
  },
  {
   "cell_type": "markdown",
   "id": "f6325441",
   "metadata": {},
   "source": [
    "Нулевая гипотеза (H0): Средние пользовательские рейтинги жанров Action и Sports одинаковые.\n",
    "\n",
    "Альтерантивная гипотеза (H1): Средние пользовательские рейтинги жанров Action и Sports различаются."
   ]
  },
  {
   "cell_type": "code",
   "execution_count": 45,
   "id": "1c9347e0",
   "metadata": {},
   "outputs": [
    {
     "name": "stdout",
     "output_type": "stream",
     "text": [
      "Средний пользовательский рейтинг жанра экшен 6.76\n",
      "Средний пользовательский рейтинг жанра спортивных игр 5.23\n",
      "\n",
      "p-значение: 1.1825550382644557e-14\n",
      "Отвергаем нулевую гипотезу\n"
     ]
    }
   ],
   "source": [
    "print('Средний пользовательский рейтинг жанра экшен', round(score.query('genre == \"Action\"')['user_score'].mean(),2))\n",
    "print('Средний пользовательский рейтинг жанра спортивных игр', round(score.query('genre == \"Sports\"')['user_score'].mean(),2))\n",
    "print()\n",
    "\n",
    "results = st.ttest_ind(\n",
    "    score.query('genre == \"Action\"')['user_score'], \n",
    "    score.query('genre == \"Sports\"')['user_score'], \n",
    "    equal_var=False)\n",
    "\n",
    "alpha = 0.05\n",
    "print('p-значение:', results.pvalue)\n",
    "\n",
    "if results.pvalue < alpha:\n",
    "    print(\"Отвергаем нулевую гипотезу\")\n",
    "else:\n",
    "    print(\"Не получилось отвергнуть нулевую гипотезу\")"
   ]
  },
  {
   "cell_type": "markdown",
   "id": "08837b2b",
   "metadata": {},
   "source": [
    "### Вывод"
   ]
  },
  {
   "cell_type": "markdown",
   "id": "57c07a9e",
   "metadata": {},
   "source": [
    "Есть все основания отвергнуть нулевую гипотезу и не отвергнуть альтернативную. "
   ]
  },
  {
   "cell_type": "markdown",
   "id": "dc691fde",
   "metadata": {},
   "source": [
    "# Общий вывод"
   ]
  },
  {
   "cell_type": "markdown",
   "id": "a0c0c999",
   "metadata": {},
   "source": [
    "- [x]  Заменил названия столбцов (привел к нижнему регистру);\n",
    "- [x]  Преобразовал данные в нужные типы. Описал, в каких столбцах заменил тип данных и почему;\n",
    "- [x]  Обработал пропуски;\n",
    "- [x]  Объяснил, почему заполнил пропуски определённым образом или почему не стал это делать;\n",
    "- [x]  Описал причины, которые могли привести к пропускам;\n",
    "- [x]  Обратил внимание на аббревиатуру 'tbd' в столбце с оценкой пользователей. Отдельно разобрал это значение и описал, как его обработал;\n",
    "- [x]  Посчитал суммарные продажи во всех регионах и записал их в отдельный столбец.\n",
    "\n",
    "--------\n",
    "\n",
    "- Развитие игр с 1980 года по 2000 было слабым.\n",
    "\n",
    "- В 2000 году мы видим активный рост количества игр на полках магазинов. Продолжался этот рост до 2009 года.\n",
    "\n",
    "- На 2008 и 2009 год приходится пик графика, значит в эти года производили больше всего игр (1427 и 1426 игр соответсвенно).\n",
    "\n",
    "- Начиная с 2010 года количество выпускаемых игр значительно снизилось и остановилось на отметке в 502 игры.\n",
    "\n",
    "-------\n",
    "\n",
    "В топ 6 конкурентов среди продаж вошли:\n",
    "- PlayStation 2 (успешен в 2002-2004 годах)\n",
    "- Xbox360 (успешен в 2010-2011 годах)\n",
    "- PlayStation 3 (успешен в 2008-2011 годах)\n",
    "- Wii Nintendo (успешен в 2006-2009 годах)\n",
    "- Nintendo DS (успешен в 2007-2008 годах)\n",
    "- PlayStation (успешен в 1998-1999 годах)\n",
    "\n",
    "Новые платформы быстро набирают популярность, наращивают/удерживают ее в течение 3-4 лет и затем их продажи снижаются. \n",
    "При этом видно, что из представленного ТОПа все платформы уже не являются актуальными. \n",
    "\n",
    "--------\n",
    "\n",
    "Платформы, показывающие успешные показатели по продажам за 2014-2016 год значительно отличаются от того графика, где представлены продажи платформ за все время. Если раньше лидером по продажам был PS2, то сейчас на лидирующей строчке оказалась PS4, и почетное второе место по продажам игр за 2014-2016 год занимает XboxOne. PS4 и XboxOne являются привлекательнее остальных платформ.\n",
    "\n",
    "--------\n",
    "\n",
    "Потенциально прибыльные платформы:\n",
    "\n",
    "- PS4\n",
    "- XOne\n",
    "- WiiU\n",
    "\n",
    "------\n",
    "\n",
    "Корреляция для PS4 (потенциально самой успешной платформы) между пользовательсикими оценками и продажами нет, так как значение почти нулевое. А вот оценки критиков не так, чтобы сильно, но влияют на продажи игр, об этом нам говорит корреляция в 40 процентов, чем выше оценка критиков, тем больше происходит продаж.\n",
    "\n",
    "-------\n",
    "\n",
    "Самые прибыльные жанры являются шутеры и экшены. Значения их продаж почти доходят до 140 млн проданных копий. \n",
    "\n",
    "ТОП 4 можно отметить следующие жанры:\n",
    "- Шутеры\n",
    "- Экшены\n",
    "- Спортивные игры\n",
    "- Ролевые игры\n",
    "\n",
    "-------\n",
    "\n",
    "**Портрет Американца**\n",
    "- Любит играть на плейстешн 4\n",
    "- Чаще всего играет в шутеры\n",
    "- Играет в игры для взрослых, видимо в играх много крови\n",
    "\n",
    "**Портрет Европейца**\n",
    "- Любит поиграть в PlayStation 4\n",
    "- В основном он проходит игры-экшены\n",
    "- Возможно там тоже много крови, потому что европеец любит играть в игры для взрослых\n",
    "\n",
    "**Портрет Японца**\n",
    "- Чаще всего играет на 3DS\n",
    "- Любит поиграть в ролевые игры\n",
    "- Любит кастомные игры (возможно своего производства), то есть недооценнные игровые шедевры\n",
    "\n",
    "-----------\n",
    "\n",
    "Не отвергаем гипотезу, что средние пользовательские рейтинги платформ Xbox One и PC одинаковые.\n",
    "Отвергам гипотезу, что средние пользовательские рейтинги жанров Action и Sports одинаковые."
   ]
  },
  {
   "cell_type": "markdown",
   "id": "baa49fdf",
   "metadata": {},
   "source": [
    "# Чек-лист готовности проекта"
   ]
  },
  {
   "cell_type": "markdown",
   "id": "cd61eee8",
   "metadata": {},
   "source": [
    "**Шаг 1. Подготовка данных**\n",
    "\n",
    "**Надо:**\n",
    "- [x]  Заменить названия столбцов (привести к нижнему регистру);\n",
    "- [x]  Преобразовать данные в нужные типы. Описать, в каких столбцах заменил тип данных и почему;\n",
    "- [x]  Обработать пропуски при необходимости:\n",
    "- [x]  Объяснить, почему заполнил пропуски определённым образом или почему не стал это делать;\n",
    "- [x]  Описать причины, которые могли привести к пропускам;\n",
    "- [x]  Обратить внимание на аббревиатуру 'tbd' в столбце с оценкой пользователей. Отдельно разобрать это значение и описать, как его обработать;\n",
    "- [x]  Посчитать суммарные продажи во всех регионах и записать их в отдельный столбец.\n",
    "\n",
    "**Шаг 2. Провести исследовательский анализ данных**\n",
    "\n",
    "**Надо:**\n",
    "- [x]  Посмотреть, сколько игр выпускалось в разные годы.\n",
    "- [x]  Посмотреть, как менялись продажи по платформам.\n",
    "- [x]  Посмотреть какие платформы лидируют по продажам, растут или падают? Выбрать несколько потенциально прибыльных платформ.\n",
    "- [x]  Построить график «ящик с усами» по глобальным продажам игр в разбивке по платформам. Описать результат.\n",
    "- [x]  Посмотреть, как влияют на продажи внутри одной популярной платформы отзывы пользователей и критиков. Построить диаграмму рассеяния и посчитать корреляцию между отзывами и продажами. Сформулировать выводы.\n",
    "- [x]  Посмотреть на общее распределение игр по жанрам.\n",
    "\n",
    "**Шаг 3. Составить портрет пользователя каждого региона**\n",
    "\n",
    "**Надо:**\n",
    "- [x]  Определить для пользователя каждого региона (NA, EU, JP):\n",
    "    - [x]  Самые популярные платформы (топ-5). Опишите различия в долях продаж.\n",
    "    - [x]  Самые популярные жанры (топ-5). Поясните разницу.\n",
    "    - [x]  Влияет ли рейтинг ESRB на продажи в отдельном регионе?\n",
    "\n",
    "**Шаг 4. Проверить гипотезы**\n",
    "\n",
    "- [x]  Средние пользовательские рейтинги платформ Xbox One и PC одинаковые;\n",
    "- [x]  Средние пользовательские рейтинги жанров Action (англ. «действие», экшенигры) и Sports (англ. «спортивные соревнования») разные.\n",
    "\n",
    "**Шаг 5. Написать общий вывод**"
   ]
  }
 ],
 "metadata": {
  "ExecuteTimeLog": [
   {
    "duration": 1199,
    "start_time": "2022-07-29T13:20:10.710Z"
   },
   {
    "duration": 116,
    "start_time": "2022-07-29T13:20:11.911Z"
   },
   {
    "duration": 0,
    "start_time": "2022-07-29T13:20:12.030Z"
   },
   {
    "duration": 0,
    "start_time": "2022-07-29T13:20:12.033Z"
   },
   {
    "duration": 0,
    "start_time": "2022-07-29T13:20:12.034Z"
   },
   {
    "duration": 0,
    "start_time": "2022-07-29T13:20:12.035Z"
   },
   {
    "duration": 0,
    "start_time": "2022-07-29T13:20:12.036Z"
   },
   {
    "duration": 0,
    "start_time": "2022-07-29T13:20:12.037Z"
   },
   {
    "duration": 0,
    "start_time": "2022-07-29T13:20:12.038Z"
   },
   {
    "duration": 0,
    "start_time": "2022-07-29T13:20:12.039Z"
   },
   {
    "duration": 0,
    "start_time": "2022-07-29T13:20:12.039Z"
   },
   {
    "duration": 0,
    "start_time": "2022-07-29T13:20:12.040Z"
   },
   {
    "duration": 0,
    "start_time": "2022-07-29T13:20:12.041Z"
   },
   {
    "duration": 0,
    "start_time": "2022-07-29T13:20:12.042Z"
   },
   {
    "duration": 0,
    "start_time": "2022-07-29T13:20:12.043Z"
   },
   {
    "duration": 0,
    "start_time": "2022-07-29T13:20:12.044Z"
   },
   {
    "duration": 0,
    "start_time": "2022-07-29T13:20:12.045Z"
   },
   {
    "duration": 0,
    "start_time": "2022-07-29T13:20:12.046Z"
   },
   {
    "duration": 0,
    "start_time": "2022-07-29T13:20:12.047Z"
   },
   {
    "duration": 0,
    "start_time": "2022-07-29T13:20:12.048Z"
   },
   {
    "duration": 0,
    "start_time": "2022-07-29T13:20:12.050Z"
   },
   {
    "duration": 0,
    "start_time": "2022-07-29T13:20:12.051Z"
   },
   {
    "duration": 0,
    "start_time": "2022-07-29T13:20:12.052Z"
   },
   {
    "duration": 0,
    "start_time": "2022-07-29T13:20:12.053Z"
   },
   {
    "duration": 0,
    "start_time": "2022-07-29T13:20:12.054Z"
   },
   {
    "duration": 0,
    "start_time": "2022-07-29T13:20:12.055Z"
   },
   {
    "duration": 0,
    "start_time": "2022-07-29T13:20:12.057Z"
   },
   {
    "duration": 0,
    "start_time": "2022-07-29T13:20:12.057Z"
   },
   {
    "duration": 0,
    "start_time": "2022-07-29T13:20:12.058Z"
   },
   {
    "duration": 0,
    "start_time": "2022-07-29T13:20:12.059Z"
   },
   {
    "duration": 0,
    "start_time": "2022-07-29T13:20:12.060Z"
   },
   {
    "duration": 0,
    "start_time": "2022-07-29T13:20:12.061Z"
   },
   {
    "duration": 0,
    "start_time": "2022-07-29T13:20:12.062Z"
   },
   {
    "duration": 0,
    "start_time": "2022-07-29T13:20:12.063Z"
   },
   {
    "duration": 0,
    "start_time": "2022-07-29T13:20:12.064Z"
   },
   {
    "duration": 0,
    "start_time": "2022-07-29T13:20:12.065Z"
   },
   {
    "duration": 0,
    "start_time": "2022-07-29T13:20:12.066Z"
   },
   {
    "duration": 0,
    "start_time": "2022-07-29T13:20:12.067Z"
   },
   {
    "duration": 0,
    "start_time": "2022-07-29T13:20:12.068Z"
   },
   {
    "duration": 0,
    "start_time": "2022-07-29T13:20:12.069Z"
   },
   {
    "duration": 1058,
    "start_time": "2022-07-29T13:21:27.170Z"
   },
   {
    "duration": 51,
    "start_time": "2022-07-29T13:21:28.229Z"
   },
   {
    "duration": 6,
    "start_time": "2022-07-29T13:21:28.281Z"
   },
   {
    "duration": 99,
    "start_time": "2022-07-29T13:21:28.289Z"
   },
   {
    "duration": 5,
    "start_time": "2022-07-29T13:21:28.391Z"
   },
   {
    "duration": 40,
    "start_time": "2022-07-29T13:21:28.398Z"
   },
   {
    "duration": 7,
    "start_time": "2022-07-29T13:21:28.440Z"
   },
   {
    "duration": 21,
    "start_time": "2022-07-29T13:21:28.448Z"
   },
   {
    "duration": 8,
    "start_time": "2022-07-29T13:21:28.470Z"
   },
   {
    "duration": 26,
    "start_time": "2022-07-29T13:21:28.479Z"
   },
   {
    "duration": 12,
    "start_time": "2022-07-29T13:21:28.542Z"
   },
   {
    "duration": 13,
    "start_time": "2022-07-29T13:21:28.556Z"
   },
   {
    "duration": 23,
    "start_time": "2022-07-29T13:21:28.570Z"
   },
   {
    "duration": 10,
    "start_time": "2022-07-29T13:21:28.597Z"
   },
   {
    "duration": 45,
    "start_time": "2022-07-29T13:21:28.608Z"
   },
   {
    "duration": 2,
    "start_time": "2022-07-29T13:21:28.654Z"
   },
   {
    "duration": 16,
    "start_time": "2022-07-29T13:21:28.658Z"
   },
   {
    "duration": 25,
    "start_time": "2022-07-29T13:21:28.675Z"
   },
   {
    "duration": 120,
    "start_time": "2022-07-29T13:21:28.702Z"
   },
   {
    "duration": 0,
    "start_time": "2022-07-29T13:21:28.824Z"
   },
   {
    "duration": 0,
    "start_time": "2022-07-29T13:21:28.825Z"
   },
   {
    "duration": 0,
    "start_time": "2022-07-29T13:21:28.826Z"
   },
   {
    "duration": 0,
    "start_time": "2022-07-29T13:21:28.833Z"
   },
   {
    "duration": 0,
    "start_time": "2022-07-29T13:21:28.835Z"
   },
   {
    "duration": 0,
    "start_time": "2022-07-29T13:21:28.836Z"
   },
   {
    "duration": 0,
    "start_time": "2022-07-29T13:21:28.837Z"
   },
   {
    "duration": 0,
    "start_time": "2022-07-29T13:21:28.838Z"
   },
   {
    "duration": 0,
    "start_time": "2022-07-29T13:21:28.839Z"
   },
   {
    "duration": 0,
    "start_time": "2022-07-29T13:21:28.841Z"
   },
   {
    "duration": 0,
    "start_time": "2022-07-29T13:21:28.842Z"
   },
   {
    "duration": 0,
    "start_time": "2022-07-29T13:21:28.843Z"
   },
   {
    "duration": 0,
    "start_time": "2022-07-29T13:21:28.845Z"
   },
   {
    "duration": 0,
    "start_time": "2022-07-29T13:21:28.846Z"
   },
   {
    "duration": 0,
    "start_time": "2022-07-29T13:21:28.847Z"
   },
   {
    "duration": 0,
    "start_time": "2022-07-29T13:21:28.848Z"
   },
   {
    "duration": 0,
    "start_time": "2022-07-29T13:21:28.850Z"
   },
   {
    "duration": 0,
    "start_time": "2022-07-29T13:21:28.851Z"
   },
   {
    "duration": 0,
    "start_time": "2022-07-29T13:21:28.853Z"
   },
   {
    "duration": 0,
    "start_time": "2022-07-29T13:21:28.855Z"
   },
   {
    "duration": 1,
    "start_time": "2022-07-29T13:21:28.855Z"
   },
   {
    "duration": 23,
    "start_time": "2022-07-29T13:22:50.682Z"
   },
   {
    "duration": 203,
    "start_time": "2022-07-29T13:22:50.707Z"
   },
   {
    "duration": 329,
    "start_time": "2022-07-29T13:22:50.911Z"
   },
   {
    "duration": 8,
    "start_time": "2022-07-29T13:22:51.242Z"
   },
   {
    "duration": 1042,
    "start_time": "2022-07-29T13:22:51.252Z"
   },
   {
    "duration": 5,
    "start_time": "2022-07-29T13:22:52.296Z"
   },
   {
    "duration": 33,
    "start_time": "2022-07-29T13:22:52.303Z"
   },
   {
    "duration": 212,
    "start_time": "2022-07-29T13:22:52.338Z"
   },
   {
    "duration": 1624,
    "start_time": "2022-07-29T13:22:52.552Z"
   },
   {
    "duration": 6,
    "start_time": "2022-07-29T13:22:54.179Z"
   },
   {
    "duration": 22,
    "start_time": "2022-07-29T13:22:54.187Z"
   },
   {
    "duration": 202,
    "start_time": "2022-07-29T13:22:54.211Z"
   },
   {
    "duration": 324,
    "start_time": "2022-07-29T13:22:54.415Z"
   },
   {
    "duration": 770,
    "start_time": "2022-07-29T13:22:54.741Z"
   },
   {
    "duration": 210,
    "start_time": "2022-07-29T13:22:55.513Z"
   },
   {
    "duration": 272,
    "start_time": "2022-07-29T13:22:55.724Z"
   },
   {
    "duration": 251,
    "start_time": "2022-07-29T13:22:55.998Z"
   },
   {
    "duration": 328,
    "start_time": "2022-07-29T13:22:56.250Z"
   },
   {
    "duration": 219,
    "start_time": "2022-07-29T13:22:56.579Z"
   },
   {
    "duration": 16,
    "start_time": "2022-07-29T13:22:56.800Z"
   },
   {
    "duration": 23,
    "start_time": "2022-07-29T13:22:56.817Z"
   },
   {
    "duration": 23,
    "start_time": "2022-07-29T13:47:21.428Z"
   },
   {
    "duration": 4,
    "start_time": "2022-07-29T13:47:30.228Z"
   },
   {
    "duration": 4,
    "start_time": "2022-07-29T13:47:43.233Z"
   },
   {
    "duration": 4,
    "start_time": "2022-07-29T13:48:14.477Z"
   },
   {
    "duration": 210,
    "start_time": "2022-07-29T13:49:36.042Z"
   },
   {
    "duration": 271,
    "start_time": "2022-07-29T13:52:58.656Z"
   },
   {
    "duration": 1455,
    "start_time": "2022-07-29T14:35:12.530Z"
   },
   {
    "duration": 187,
    "start_time": "2022-07-29T14:35:15.795Z"
   },
   {
    "duration": 6,
    "start_time": "2022-07-29T14:35:18.687Z"
   },
   {
    "duration": 119,
    "start_time": "2022-07-29T14:35:22.051Z"
   },
   {
    "duration": 1145,
    "start_time": "2022-07-29T14:35:28.347Z"
   },
   {
    "duration": 53,
    "start_time": "2022-07-29T14:35:29.494Z"
   },
   {
    "duration": 5,
    "start_time": "2022-07-29T14:35:29.549Z"
   },
   {
    "duration": 107,
    "start_time": "2022-07-29T14:35:29.556Z"
   },
   {
    "duration": 5,
    "start_time": "2022-07-29T14:35:29.665Z"
   },
   {
    "duration": 37,
    "start_time": "2022-07-29T14:35:29.672Z"
   },
   {
    "duration": 13,
    "start_time": "2022-07-29T14:35:29.711Z"
   },
   {
    "duration": 29,
    "start_time": "2022-07-29T14:35:29.725Z"
   },
   {
    "duration": 7,
    "start_time": "2022-07-29T14:35:29.756Z"
   },
   {
    "duration": 43,
    "start_time": "2022-07-29T14:35:29.766Z"
   },
   {
    "duration": 9,
    "start_time": "2022-07-29T14:35:29.811Z"
   },
   {
    "duration": 20,
    "start_time": "2022-07-29T14:35:29.822Z"
   },
   {
    "duration": 33,
    "start_time": "2022-07-29T14:35:29.844Z"
   },
   {
    "duration": 27,
    "start_time": "2022-07-29T14:35:29.879Z"
   },
   {
    "duration": 26,
    "start_time": "2022-07-29T14:35:29.908Z"
   },
   {
    "duration": 2,
    "start_time": "2022-07-29T14:35:29.936Z"
   },
   {
    "duration": 13,
    "start_time": "2022-07-29T14:35:29.940Z"
   },
   {
    "duration": 28,
    "start_time": "2022-07-29T14:35:29.954Z"
   },
   {
    "duration": 118,
    "start_time": "2022-07-29T14:35:30.004Z"
   },
   {
    "duration": 0,
    "start_time": "2022-07-29T14:35:30.124Z"
   },
   {
    "duration": 1,
    "start_time": "2022-07-29T14:35:30.125Z"
   },
   {
    "duration": 0,
    "start_time": "2022-07-29T14:35:30.127Z"
   },
   {
    "duration": 0,
    "start_time": "2022-07-29T14:35:30.129Z"
   },
   {
    "duration": 0,
    "start_time": "2022-07-29T14:35:30.131Z"
   },
   {
    "duration": 0,
    "start_time": "2022-07-29T14:35:30.133Z"
   },
   {
    "duration": 0,
    "start_time": "2022-07-29T14:35:30.134Z"
   },
   {
    "duration": 0,
    "start_time": "2022-07-29T14:35:30.136Z"
   },
   {
    "duration": 0,
    "start_time": "2022-07-29T14:35:30.137Z"
   },
   {
    "duration": 0,
    "start_time": "2022-07-29T14:35:30.139Z"
   },
   {
    "duration": 0,
    "start_time": "2022-07-29T14:35:30.140Z"
   },
   {
    "duration": 0,
    "start_time": "2022-07-29T14:35:30.142Z"
   },
   {
    "duration": 0,
    "start_time": "2022-07-29T14:35:30.143Z"
   },
   {
    "duration": 0,
    "start_time": "2022-07-29T14:35:30.145Z"
   },
   {
    "duration": 0,
    "start_time": "2022-07-29T14:35:30.146Z"
   },
   {
    "duration": 0,
    "start_time": "2022-07-29T14:35:30.147Z"
   },
   {
    "duration": 0,
    "start_time": "2022-07-29T14:35:30.148Z"
   },
   {
    "duration": 0,
    "start_time": "2022-07-29T14:35:30.150Z"
   },
   {
    "duration": 0,
    "start_time": "2022-07-29T14:35:30.152Z"
   },
   {
    "duration": 0,
    "start_time": "2022-07-29T14:35:30.153Z"
   },
   {
    "duration": 0,
    "start_time": "2022-07-29T14:35:30.154Z"
   },
   {
    "duration": 16,
    "start_time": "2022-07-29T14:38:38.407Z"
   },
   {
    "duration": 1373,
    "start_time": "2022-07-29T14:39:37.875Z"
   },
   {
    "duration": 54,
    "start_time": "2022-07-29T14:39:39.249Z"
   },
   {
    "duration": 6,
    "start_time": "2022-07-29T14:39:39.304Z"
   },
   {
    "duration": 128,
    "start_time": "2022-07-29T14:39:39.312Z"
   },
   {
    "duration": 5,
    "start_time": "2022-07-29T14:39:39.441Z"
   },
   {
    "duration": 17,
    "start_time": "2022-07-29T14:39:39.448Z"
   },
   {
    "duration": 9,
    "start_time": "2022-07-29T14:39:39.467Z"
   },
   {
    "duration": 48,
    "start_time": "2022-07-29T14:39:39.478Z"
   },
   {
    "duration": 7,
    "start_time": "2022-07-29T14:39:39.528Z"
   },
   {
    "duration": 27,
    "start_time": "2022-07-29T14:39:39.538Z"
   },
   {
    "duration": 44,
    "start_time": "2022-07-29T14:39:39.567Z"
   },
   {
    "duration": 19,
    "start_time": "2022-07-29T14:39:39.613Z"
   },
   {
    "duration": 25,
    "start_time": "2022-07-29T14:39:39.634Z"
   },
   {
    "duration": 13,
    "start_time": "2022-07-29T14:39:39.661Z"
   },
   {
    "duration": 27,
    "start_time": "2022-07-29T14:39:39.704Z"
   },
   {
    "duration": 2,
    "start_time": "2022-07-29T14:39:39.732Z"
   },
   {
    "duration": 12,
    "start_time": "2022-07-29T14:39:39.736Z"
   },
   {
    "duration": 21,
    "start_time": "2022-07-29T14:39:39.749Z"
   },
   {
    "duration": 42,
    "start_time": "2022-07-29T14:39:39.771Z"
   },
   {
    "duration": 25,
    "start_time": "2022-07-29T14:39:39.814Z"
   },
   {
    "duration": 236,
    "start_time": "2022-07-29T14:39:39.841Z"
   },
   {
    "duration": 410,
    "start_time": "2022-07-29T14:39:40.078Z"
   },
   {
    "duration": 17,
    "start_time": "2022-07-29T14:39:40.489Z"
   },
   {
    "duration": 1215,
    "start_time": "2022-07-29T14:39:40.508Z"
   },
   {
    "duration": 6,
    "start_time": "2022-07-29T14:39:41.725Z"
   },
   {
    "duration": 34,
    "start_time": "2022-07-29T14:39:41.732Z"
   },
   {
    "duration": 222,
    "start_time": "2022-07-29T14:39:41.768Z"
   },
   {
    "duration": 1748,
    "start_time": "2022-07-29T14:39:41.995Z"
   },
   {
    "duration": 7,
    "start_time": "2022-07-29T14:39:43.745Z"
   },
   {
    "duration": 23,
    "start_time": "2022-07-29T14:39:43.754Z"
   },
   {
    "duration": 198,
    "start_time": "2022-07-29T14:39:43.779Z"
   },
   {
    "duration": 336,
    "start_time": "2022-07-29T14:39:43.979Z"
   },
   {
    "duration": 856,
    "start_time": "2022-07-29T14:39:44.317Z"
   },
   {
    "duration": 250,
    "start_time": "2022-07-29T14:39:45.175Z"
   },
   {
    "duration": 291,
    "start_time": "2022-07-29T14:39:45.426Z"
   },
   {
    "duration": 268,
    "start_time": "2022-07-29T14:39:45.718Z"
   },
   {
    "duration": 359,
    "start_time": "2022-07-29T14:39:45.988Z"
   },
   {
    "duration": 258,
    "start_time": "2022-07-29T14:39:46.349Z"
   },
   {
    "duration": 19,
    "start_time": "2022-07-29T14:39:46.608Z"
   },
   {
    "duration": 20,
    "start_time": "2022-07-29T14:39:46.629Z"
   },
   {
    "duration": 186,
    "start_time": "2022-07-29T14:41:20.595Z"
   },
   {
    "duration": 285,
    "start_time": "2022-07-29T14:45:22.895Z"
   },
   {
    "duration": 309,
    "start_time": "2022-07-29T14:45:58.412Z"
   },
   {
    "duration": 80,
    "start_time": "2022-07-29T14:48:12.299Z"
   },
   {
    "duration": 213,
    "start_time": "2022-07-29T14:49:22.826Z"
   },
   {
    "duration": 293,
    "start_time": "2022-07-29T14:51:27.017Z"
   },
   {
    "duration": 117,
    "start_time": "2022-07-29T14:52:47.140Z"
   },
   {
    "duration": 19,
    "start_time": "2022-07-29T14:54:09.194Z"
   },
   {
    "duration": 22,
    "start_time": "2022-07-29T14:54:16.624Z"
   },
   {
    "duration": 79,
    "start_time": "2022-07-29T14:58:48.629Z"
   },
   {
    "duration": 509,
    "start_time": "2022-07-29T14:58:54.152Z"
   },
   {
    "duration": 1519,
    "start_time": "2022-07-29T14:59:05.156Z"
   },
   {
    "duration": 406,
    "start_time": "2022-07-29T14:59:12.285Z"
   },
   {
    "duration": 336,
    "start_time": "2022-07-29T14:59:36.015Z"
   },
   {
    "duration": 1260,
    "start_time": "2022-07-29T15:03:26.434Z"
   },
   {
    "duration": 57,
    "start_time": "2022-07-29T15:03:27.696Z"
   },
   {
    "duration": 8,
    "start_time": "2022-07-29T15:03:27.755Z"
   },
   {
    "duration": 155,
    "start_time": "2022-07-29T15:03:27.765Z"
   },
   {
    "duration": 5,
    "start_time": "2022-07-29T15:03:27.922Z"
   },
   {
    "duration": 17,
    "start_time": "2022-07-29T15:03:27.929Z"
   },
   {
    "duration": 10,
    "start_time": "2022-07-29T15:03:27.948Z"
   },
   {
    "duration": 25,
    "start_time": "2022-07-29T15:03:27.959Z"
   },
   {
    "duration": 8,
    "start_time": "2022-07-29T15:03:28.004Z"
   },
   {
    "duration": 39,
    "start_time": "2022-07-29T15:03:28.014Z"
   },
   {
    "duration": 9,
    "start_time": "2022-07-29T15:03:28.055Z"
   },
   {
    "duration": 48,
    "start_time": "2022-07-29T15:03:28.066Z"
   },
   {
    "duration": 28,
    "start_time": "2022-07-29T15:03:28.116Z"
   },
   {
    "duration": 14,
    "start_time": "2022-07-29T15:03:28.145Z"
   },
   {
    "duration": 62,
    "start_time": "2022-07-29T15:03:28.161Z"
   },
   {
    "duration": 3,
    "start_time": "2022-07-29T15:03:28.226Z"
   },
   {
    "duration": 16,
    "start_time": "2022-07-29T15:03:28.230Z"
   },
   {
    "duration": 22,
    "start_time": "2022-07-29T15:03:28.247Z"
   },
   {
    "duration": 15,
    "start_time": "2022-07-29T15:03:28.271Z"
   },
   {
    "duration": 33,
    "start_time": "2022-07-29T15:03:28.306Z"
   },
   {
    "duration": 241,
    "start_time": "2022-07-29T15:03:28.341Z"
   },
   {
    "duration": 383,
    "start_time": "2022-07-29T15:03:28.583Z"
   },
   {
    "duration": 9,
    "start_time": "2022-07-29T15:03:28.968Z"
   },
   {
    "duration": 1352,
    "start_time": "2022-07-29T15:03:28.978Z"
   },
   {
    "duration": 7,
    "start_time": "2022-07-29T15:03:30.331Z"
   },
   {
    "duration": 26,
    "start_time": "2022-07-29T15:03:30.340Z"
   },
   {
    "duration": 249,
    "start_time": "2022-07-29T15:03:30.368Z"
   },
   {
    "duration": 1998,
    "start_time": "2022-07-29T15:03:30.622Z"
   },
   {
    "duration": 7,
    "start_time": "2022-07-29T15:03:32.622Z"
   },
   {
    "duration": 25,
    "start_time": "2022-07-29T15:03:32.630Z"
   },
   {
    "duration": 211,
    "start_time": "2022-07-29T15:03:32.657Z"
   },
   {
    "duration": 208,
    "start_time": "2022-07-29T15:03:32.870Z"
   },
   {
    "duration": 318,
    "start_time": "2022-07-29T15:03:33.079Z"
   },
   {
    "duration": 319,
    "start_time": "2022-07-29T15:03:33.399Z"
   },
   {
    "duration": 378,
    "start_time": "2022-07-29T15:03:33.721Z"
   },
   {
    "duration": 957,
    "start_time": "2022-07-29T15:03:34.113Z"
   },
   {
    "duration": 368,
    "start_time": "2022-07-29T15:03:35.071Z"
   },
   {
    "duration": 243,
    "start_time": "2022-07-29T15:03:35.441Z"
   },
   {
    "duration": 330,
    "start_time": "2022-07-29T15:03:35.686Z"
   },
   {
    "duration": 346,
    "start_time": "2022-07-29T15:03:36.018Z"
   },
   {
    "duration": 556,
    "start_time": "2022-07-29T15:03:36.365Z"
   },
   {
    "duration": 488,
    "start_time": "2022-07-29T15:03:36.922Z"
   },
   {
    "duration": 639,
    "start_time": "2022-07-29T15:03:37.412Z"
   },
   {
    "duration": 20,
    "start_time": "2022-07-29T15:03:38.052Z"
   },
   {
    "duration": 40,
    "start_time": "2022-07-29T15:03:38.074Z"
   },
   {
    "duration": 1065,
    "start_time": "2022-07-30T09:10:20.943Z"
   },
   {
    "duration": 45,
    "start_time": "2022-07-30T09:10:22.010Z"
   },
   {
    "duration": 4,
    "start_time": "2022-07-30T09:10:22.057Z"
   },
   {
    "duration": 112,
    "start_time": "2022-07-30T09:10:22.063Z"
   },
   {
    "duration": 5,
    "start_time": "2022-07-30T09:10:22.177Z"
   },
   {
    "duration": 14,
    "start_time": "2022-07-30T09:10:22.183Z"
   },
   {
    "duration": 6,
    "start_time": "2022-07-30T09:10:22.198Z"
   },
   {
    "duration": 42,
    "start_time": "2022-07-30T09:10:22.206Z"
   },
   {
    "duration": 4,
    "start_time": "2022-07-30T09:10:22.250Z"
   },
   {
    "duration": 21,
    "start_time": "2022-07-30T09:10:22.257Z"
   },
   {
    "duration": 7,
    "start_time": "2022-07-30T09:10:22.279Z"
   },
   {
    "duration": 12,
    "start_time": "2022-07-30T09:10:22.287Z"
   },
   {
    "duration": 49,
    "start_time": "2022-07-30T09:10:22.301Z"
   },
   {
    "duration": 10,
    "start_time": "2022-07-30T09:10:22.351Z"
   },
   {
    "duration": 21,
    "start_time": "2022-07-30T09:10:22.362Z"
   },
   {
    "duration": 2,
    "start_time": "2022-07-30T09:10:22.384Z"
   },
   {
    "duration": 9,
    "start_time": "2022-07-30T09:10:22.387Z"
   },
   {
    "duration": 50,
    "start_time": "2022-07-30T09:10:22.397Z"
   },
   {
    "duration": 12,
    "start_time": "2022-07-30T09:10:22.448Z"
   },
   {
    "duration": 20,
    "start_time": "2022-07-30T09:10:22.461Z"
   },
   {
    "duration": 202,
    "start_time": "2022-07-30T09:10:22.483Z"
   },
   {
    "duration": 296,
    "start_time": "2022-07-30T09:10:22.687Z"
   },
   {
    "duration": 7,
    "start_time": "2022-07-30T09:10:22.985Z"
   },
   {
    "duration": 995,
    "start_time": "2022-07-30T09:10:22.996Z"
   },
   {
    "duration": 6,
    "start_time": "2022-07-30T09:10:23.993Z"
   },
   {
    "duration": 32,
    "start_time": "2022-07-30T09:10:24.001Z"
   },
   {
    "duration": 178,
    "start_time": "2022-07-30T09:10:24.035Z"
   },
   {
    "duration": 1468,
    "start_time": "2022-07-30T09:10:24.217Z"
   },
   {
    "duration": 5,
    "start_time": "2022-07-30T09:10:25.687Z"
   },
   {
    "duration": 23,
    "start_time": "2022-07-30T09:10:25.693Z"
   },
   {
    "duration": 155,
    "start_time": "2022-07-30T09:10:25.731Z"
   },
   {
    "duration": 165,
    "start_time": "2022-07-30T09:10:25.888Z"
   },
   {
    "duration": 262,
    "start_time": "2022-07-30T09:10:26.055Z"
   },
   {
    "duration": 243,
    "start_time": "2022-07-30T09:10:26.318Z"
   },
   {
    "duration": 296,
    "start_time": "2022-07-30T09:10:26.563Z"
   },
   {
    "duration": 719,
    "start_time": "2022-07-30T09:10:26.861Z"
   },
   {
    "duration": 333,
    "start_time": "2022-07-30T09:10:27.582Z"
   },
   {
    "duration": 199,
    "start_time": "2022-07-30T09:10:27.917Z"
   },
   {
    "duration": 248,
    "start_time": "2022-07-30T09:10:28.118Z"
   },
   {
    "duration": 250,
    "start_time": "2022-07-30T09:10:28.368Z"
   },
   {
    "duration": 337,
    "start_time": "2022-07-30T09:10:28.621Z"
   },
   {
    "duration": 354,
    "start_time": "2022-07-30T09:10:28.960Z"
   },
   {
    "duration": 366,
    "start_time": "2022-07-30T09:10:29.316Z"
   },
   {
    "duration": 14,
    "start_time": "2022-07-30T09:10:29.684Z"
   },
   {
    "duration": 13,
    "start_time": "2022-07-30T09:10:29.700Z"
   }
  ],
  "kernelspec": {
   "display_name": "Python 3 (ipykernel)",
   "language": "python",
   "name": "python3"
  },
  "language_info": {
   "codemirror_mode": {
    "name": "ipython",
    "version": 3
   },
   "file_extension": ".py",
   "mimetype": "text/x-python",
   "name": "python",
   "nbconvert_exporter": "python",
   "pygments_lexer": "ipython3",
   "version": "3.9.12"
  },
  "toc": {
   "base_numbering": 1,
   "nav_menu": {},
   "number_sections": true,
   "sideBar": true,
   "skip_h1_title": false,
   "title_cell": "Table of Contents",
   "title_sidebar": "Contents",
   "toc_cell": false,
   "toc_position": {
    "height": "calc(100% - 180px)",
    "left": "10px",
    "top": "150px",
    "width": "340.594px"
   },
   "toc_section_display": true,
   "toc_window_display": false
  }
 },
 "nbformat": 4,
 "nbformat_minor": 5
}
